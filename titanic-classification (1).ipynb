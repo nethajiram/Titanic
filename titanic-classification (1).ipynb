{
 "cells": [
  {
   "cell_type": "markdown",
   "id": "91eb16ae",
   "metadata": {
    "papermill": {
     "duration": 0.034731,
     "end_time": "2023-02-15T14:07:47.440677",
     "exception": false,
     "start_time": "2023-02-15T14:07:47.405946",
     "status": "completed"
    },
    "tags": []
   },
   "source": [
    "# Importing data and libraries"
   ]
  },
  {
   "cell_type": "code",
   "execution_count": 1,
   "id": "b997612e",
   "metadata": {
    "execution": {
     "iopub.execute_input": "2023-02-15T14:07:47.499399Z",
     "iopub.status.busy": "2023-02-15T14:07:47.498912Z",
     "iopub.status.idle": "2023-02-15T14:07:48.561736Z",
     "shell.execute_reply": "2023-02-15T14:07:48.560244Z"
    },
    "papermill": {
     "duration": 1.093139,
     "end_time": "2023-02-15T14:07:48.564685",
     "exception": false,
     "start_time": "2023-02-15T14:07:47.471546",
     "status": "completed"
    },
    "tags": []
   },
   "outputs": [],
   "source": [
    "#importing required libraries\n",
    "\n",
    "import pandas as pd\n",
    "import numpy as np\n",
    "import matplotlib.pyplot as plt\n",
    "import seaborn as sns"
   ]
  },
  {
   "cell_type": "code",
   "execution_count": 2,
   "id": "7889378f",
   "metadata": {
    "execution": {
     "iopub.execute_input": "2023-02-15T14:07:48.619044Z",
     "iopub.status.busy": "2023-02-15T14:07:48.618667Z",
     "iopub.status.idle": "2023-02-15T14:07:48.627547Z",
     "shell.execute_reply": "2023-02-15T14:07:48.626442Z"
    },
    "papermill": {
     "duration": 0.038919,
     "end_time": "2023-02-15T14:07:48.629845",
     "exception": false,
     "start_time": "2023-02-15T14:07:48.590926",
     "status": "completed"
    },
    "tags": []
   },
   "outputs": [
    {
     "name": "stdout",
     "output_type": "stream",
     "text": [
      "/kaggle/input/titanic\n"
     ]
    }
   ],
   "source": [
    "cd /kaggle/input/titanic"
   ]
  },
  {
   "cell_type": "code",
   "execution_count": 3,
   "id": "4b19ee24",
   "metadata": {
    "execution": {
     "iopub.execute_input": "2023-02-15T14:07:48.684883Z",
     "iopub.status.busy": "2023-02-15T14:07:48.684444Z",
     "iopub.status.idle": "2023-02-15T14:07:48.713780Z",
     "shell.execute_reply": "2023-02-15T14:07:48.712842Z"
    },
    "papermill": {
     "duration": 0.059501,
     "end_time": "2023-02-15T14:07:48.716358",
     "exception": false,
     "start_time": "2023-02-15T14:07:48.656857",
     "status": "completed"
    },
    "tags": []
   },
   "outputs": [],
   "source": [
    "df=pd.read_csv(\"train.csv\",na_values=['.',':','?','!','@','#','$','%','^','&','*',','])"
   ]
  },
  {
   "cell_type": "code",
   "execution_count": 4,
   "id": "ca99c93a",
   "metadata": {
    "execution": {
     "iopub.execute_input": "2023-02-15T14:07:48.770937Z",
     "iopub.status.busy": "2023-02-15T14:07:48.769925Z",
     "iopub.status.idle": "2023-02-15T14:07:48.803233Z",
     "shell.execute_reply": "2023-02-15T14:07:48.802351Z"
    },
    "papermill": {
     "duration": 0.06277,
     "end_time": "2023-02-15T14:07:48.805328",
     "exception": false,
     "start_time": "2023-02-15T14:07:48.742558",
     "status": "completed"
    },
    "tags": []
   },
   "outputs": [
    {
     "data": {
      "text/html": [
       "<div>\n",
       "<style scoped>\n",
       "    .dataframe tbody tr th:only-of-type {\n",
       "        vertical-align: middle;\n",
       "    }\n",
       "\n",
       "    .dataframe tbody tr th {\n",
       "        vertical-align: top;\n",
       "    }\n",
       "\n",
       "    .dataframe thead th {\n",
       "        text-align: right;\n",
       "    }\n",
       "</style>\n",
       "<table border=\"1\" class=\"dataframe\">\n",
       "  <thead>\n",
       "    <tr style=\"text-align: right;\">\n",
       "      <th></th>\n",
       "      <th>PassengerId</th>\n",
       "      <th>Survived</th>\n",
       "      <th>Pclass</th>\n",
       "      <th>Name</th>\n",
       "      <th>Sex</th>\n",
       "      <th>Age</th>\n",
       "      <th>SibSp</th>\n",
       "      <th>Parch</th>\n",
       "      <th>Ticket</th>\n",
       "      <th>Fare</th>\n",
       "      <th>Cabin</th>\n",
       "      <th>Embarked</th>\n",
       "    </tr>\n",
       "  </thead>\n",
       "  <tbody>\n",
       "    <tr>\n",
       "      <th>0</th>\n",
       "      <td>1</td>\n",
       "      <td>0</td>\n",
       "      <td>3</td>\n",
       "      <td>Braund, Mr. Owen Harris</td>\n",
       "      <td>male</td>\n",
       "      <td>22.0</td>\n",
       "      <td>1</td>\n",
       "      <td>0</td>\n",
       "      <td>A/5 21171</td>\n",
       "      <td>7.2500</td>\n",
       "      <td>NaN</td>\n",
       "      <td>S</td>\n",
       "    </tr>\n",
       "    <tr>\n",
       "      <th>1</th>\n",
       "      <td>2</td>\n",
       "      <td>1</td>\n",
       "      <td>1</td>\n",
       "      <td>Cumings, Mrs. John Bradley (Florence Briggs Th...</td>\n",
       "      <td>female</td>\n",
       "      <td>38.0</td>\n",
       "      <td>1</td>\n",
       "      <td>0</td>\n",
       "      <td>PC 17599</td>\n",
       "      <td>71.2833</td>\n",
       "      <td>C85</td>\n",
       "      <td>C</td>\n",
       "    </tr>\n",
       "    <tr>\n",
       "      <th>2</th>\n",
       "      <td>3</td>\n",
       "      <td>1</td>\n",
       "      <td>3</td>\n",
       "      <td>Heikkinen, Miss. Laina</td>\n",
       "      <td>female</td>\n",
       "      <td>26.0</td>\n",
       "      <td>0</td>\n",
       "      <td>0</td>\n",
       "      <td>STON/O2. 3101282</td>\n",
       "      <td>7.9250</td>\n",
       "      <td>NaN</td>\n",
       "      <td>S</td>\n",
       "    </tr>\n",
       "    <tr>\n",
       "      <th>3</th>\n",
       "      <td>4</td>\n",
       "      <td>1</td>\n",
       "      <td>1</td>\n",
       "      <td>Futrelle, Mrs. Jacques Heath (Lily May Peel)</td>\n",
       "      <td>female</td>\n",
       "      <td>35.0</td>\n",
       "      <td>1</td>\n",
       "      <td>0</td>\n",
       "      <td>113803</td>\n",
       "      <td>53.1000</td>\n",
       "      <td>C123</td>\n",
       "      <td>S</td>\n",
       "    </tr>\n",
       "    <tr>\n",
       "      <th>4</th>\n",
       "      <td>5</td>\n",
       "      <td>0</td>\n",
       "      <td>3</td>\n",
       "      <td>Allen, Mr. William Henry</td>\n",
       "      <td>male</td>\n",
       "      <td>35.0</td>\n",
       "      <td>0</td>\n",
       "      <td>0</td>\n",
       "      <td>373450</td>\n",
       "      <td>8.0500</td>\n",
       "      <td>NaN</td>\n",
       "      <td>S</td>\n",
       "    </tr>\n",
       "    <tr>\n",
       "      <th>...</th>\n",
       "      <td>...</td>\n",
       "      <td>...</td>\n",
       "      <td>...</td>\n",
       "      <td>...</td>\n",
       "      <td>...</td>\n",
       "      <td>...</td>\n",
       "      <td>...</td>\n",
       "      <td>...</td>\n",
       "      <td>...</td>\n",
       "      <td>...</td>\n",
       "      <td>...</td>\n",
       "      <td>...</td>\n",
       "    </tr>\n",
       "    <tr>\n",
       "      <th>886</th>\n",
       "      <td>887</td>\n",
       "      <td>0</td>\n",
       "      <td>2</td>\n",
       "      <td>Montvila, Rev. Juozas</td>\n",
       "      <td>male</td>\n",
       "      <td>27.0</td>\n",
       "      <td>0</td>\n",
       "      <td>0</td>\n",
       "      <td>211536</td>\n",
       "      <td>13.0000</td>\n",
       "      <td>NaN</td>\n",
       "      <td>S</td>\n",
       "    </tr>\n",
       "    <tr>\n",
       "      <th>887</th>\n",
       "      <td>888</td>\n",
       "      <td>1</td>\n",
       "      <td>1</td>\n",
       "      <td>Graham, Miss. Margaret Edith</td>\n",
       "      <td>female</td>\n",
       "      <td>19.0</td>\n",
       "      <td>0</td>\n",
       "      <td>0</td>\n",
       "      <td>112053</td>\n",
       "      <td>30.0000</td>\n",
       "      <td>B42</td>\n",
       "      <td>S</td>\n",
       "    </tr>\n",
       "    <tr>\n",
       "      <th>888</th>\n",
       "      <td>889</td>\n",
       "      <td>0</td>\n",
       "      <td>3</td>\n",
       "      <td>Johnston, Miss. Catherine Helen \"Carrie\"</td>\n",
       "      <td>female</td>\n",
       "      <td>NaN</td>\n",
       "      <td>1</td>\n",
       "      <td>2</td>\n",
       "      <td>W./C. 6607</td>\n",
       "      <td>23.4500</td>\n",
       "      <td>NaN</td>\n",
       "      <td>S</td>\n",
       "    </tr>\n",
       "    <tr>\n",
       "      <th>889</th>\n",
       "      <td>890</td>\n",
       "      <td>1</td>\n",
       "      <td>1</td>\n",
       "      <td>Behr, Mr. Karl Howell</td>\n",
       "      <td>male</td>\n",
       "      <td>26.0</td>\n",
       "      <td>0</td>\n",
       "      <td>0</td>\n",
       "      <td>111369</td>\n",
       "      <td>30.0000</td>\n",
       "      <td>C148</td>\n",
       "      <td>C</td>\n",
       "    </tr>\n",
       "    <tr>\n",
       "      <th>890</th>\n",
       "      <td>891</td>\n",
       "      <td>0</td>\n",
       "      <td>3</td>\n",
       "      <td>Dooley, Mr. Patrick</td>\n",
       "      <td>male</td>\n",
       "      <td>32.0</td>\n",
       "      <td>0</td>\n",
       "      <td>0</td>\n",
       "      <td>370376</td>\n",
       "      <td>7.7500</td>\n",
       "      <td>NaN</td>\n",
       "      <td>Q</td>\n",
       "    </tr>\n",
       "  </tbody>\n",
       "</table>\n",
       "<p>891 rows × 12 columns</p>\n",
       "</div>"
      ],
      "text/plain": [
       "     PassengerId  Survived  Pclass  \\\n",
       "0              1         0       3   \n",
       "1              2         1       1   \n",
       "2              3         1       3   \n",
       "3              4         1       1   \n",
       "4              5         0       3   \n",
       "..           ...       ...     ...   \n",
       "886          887         0       2   \n",
       "887          888         1       1   \n",
       "888          889         0       3   \n",
       "889          890         1       1   \n",
       "890          891         0       3   \n",
       "\n",
       "                                                  Name     Sex   Age  SibSp  \\\n",
       "0                              Braund, Mr. Owen Harris    male  22.0      1   \n",
       "1    Cumings, Mrs. John Bradley (Florence Briggs Th...  female  38.0      1   \n",
       "2                               Heikkinen, Miss. Laina  female  26.0      0   \n",
       "3         Futrelle, Mrs. Jacques Heath (Lily May Peel)  female  35.0      1   \n",
       "4                             Allen, Mr. William Henry    male  35.0      0   \n",
       "..                                                 ...     ...   ...    ...   \n",
       "886                              Montvila, Rev. Juozas    male  27.0      0   \n",
       "887                       Graham, Miss. Margaret Edith  female  19.0      0   \n",
       "888           Johnston, Miss. Catherine Helen \"Carrie\"  female   NaN      1   \n",
       "889                              Behr, Mr. Karl Howell    male  26.0      0   \n",
       "890                                Dooley, Mr. Patrick    male  32.0      0   \n",
       "\n",
       "     Parch            Ticket     Fare Cabin Embarked  \n",
       "0        0         A/5 21171   7.2500   NaN        S  \n",
       "1        0          PC 17599  71.2833   C85        C  \n",
       "2        0  STON/O2. 3101282   7.9250   NaN        S  \n",
       "3        0            113803  53.1000  C123        S  \n",
       "4        0            373450   8.0500   NaN        S  \n",
       "..     ...               ...      ...   ...      ...  \n",
       "886      0            211536  13.0000   NaN        S  \n",
       "887      0            112053  30.0000   B42        S  \n",
       "888      2        W./C. 6607  23.4500   NaN        S  \n",
       "889      0            111369  30.0000  C148        C  \n",
       "890      0            370376   7.7500   NaN        Q  \n",
       "\n",
       "[891 rows x 12 columns]"
      ]
     },
     "execution_count": 4,
     "metadata": {},
     "output_type": "execute_result"
    }
   ],
   "source": [
    "df"
   ]
  },
  {
   "cell_type": "code",
   "execution_count": 5,
   "id": "de3be091",
   "metadata": {
    "execution": {
     "iopub.execute_input": "2023-02-15T14:07:48.860638Z",
     "iopub.status.busy": "2023-02-15T14:07:48.859897Z",
     "iopub.status.idle": "2023-02-15T14:07:48.885133Z",
     "shell.execute_reply": "2023-02-15T14:07:48.883474Z"
    },
    "papermill": {
     "duration": 0.055996,
     "end_time": "2023-02-15T14:07:48.888163",
     "exception": false,
     "start_time": "2023-02-15T14:07:48.832167",
     "status": "completed"
    },
    "tags": []
   },
   "outputs": [
    {
     "name": "stdout",
     "output_type": "stream",
     "text": [
      "<class 'pandas.core.frame.DataFrame'>\n",
      "RangeIndex: 891 entries, 0 to 890\n",
      "Data columns (total 12 columns):\n",
      " #   Column       Non-Null Count  Dtype  \n",
      "---  ------       --------------  -----  \n",
      " 0   PassengerId  891 non-null    int64  \n",
      " 1   Survived     891 non-null    int64  \n",
      " 2   Pclass       891 non-null    int64  \n",
      " 3   Name         891 non-null    object \n",
      " 4   Sex          891 non-null    object \n",
      " 5   Age          714 non-null    float64\n",
      " 6   SibSp        891 non-null    int64  \n",
      " 7   Parch        891 non-null    int64  \n",
      " 8   Ticket       891 non-null    object \n",
      " 9   Fare         891 non-null    float64\n",
      " 10  Cabin        204 non-null    object \n",
      " 11  Embarked     889 non-null    object \n",
      "dtypes: float64(2), int64(5), object(5)\n",
      "memory usage: 83.7+ KB\n"
     ]
    }
   ],
   "source": [
    "df.info()"
   ]
  },
  {
   "cell_type": "code",
   "execution_count": 6,
   "id": "85436563",
   "metadata": {
    "execution": {
     "iopub.execute_input": "2023-02-15T14:07:48.944618Z",
     "iopub.status.busy": "2023-02-15T14:07:48.944183Z",
     "iopub.status.idle": "2023-02-15T14:07:48.957658Z",
     "shell.execute_reply": "2023-02-15T14:07:48.956586Z"
    },
    "papermill": {
     "duration": 0.044301,
     "end_time": "2023-02-15T14:07:48.960019",
     "exception": false,
     "start_time": "2023-02-15T14:07:48.915718",
     "status": "completed"
    },
    "tags": []
   },
   "outputs": [
    {
     "data": {
      "text/plain": [
       "PassengerId    891\n",
       "Survived         2\n",
       "Pclass           3\n",
       "Name           891\n",
       "Sex              2\n",
       "Age             88\n",
       "SibSp            7\n",
       "Parch            7\n",
       "Ticket         681\n",
       "Fare           248\n",
       "Cabin          147\n",
       "Embarked         3\n",
       "dtype: int64"
      ]
     },
     "execution_count": 6,
     "metadata": {},
     "output_type": "execute_result"
    }
   ],
   "source": [
    "#checking for cardinality\n",
    "\n",
    "df.nunique()"
   ]
  },
  {
   "cell_type": "code",
   "execution_count": 7,
   "id": "ddb2deab",
   "metadata": {
    "execution": {
     "iopub.execute_input": "2023-02-15T14:07:49.015952Z",
     "iopub.status.busy": "2023-02-15T14:07:49.015251Z",
     "iopub.status.idle": "2023-02-15T14:07:49.021153Z",
     "shell.execute_reply": "2023-02-15T14:07:49.020041Z"
    },
    "papermill": {
     "duration": 0.03685,
     "end_time": "2023-02-15T14:07:49.023724",
     "exception": false,
     "start_time": "2023-02-15T14:07:48.986874",
     "status": "completed"
    },
    "tags": []
   },
   "outputs": [],
   "source": [
    "#Dropping unnecessary variables and saving into a dataframe\n",
    "\n",
    "df = df.drop([\"Name\",\"Ticket\",\"Fare\",\"Cabin\",\"PassengerId\"], axis=1)"
   ]
  },
  {
   "cell_type": "code",
   "execution_count": 8,
   "id": "1f7d2ed7",
   "metadata": {
    "execution": {
     "iopub.execute_input": "2023-02-15T14:07:49.079469Z",
     "iopub.status.busy": "2023-02-15T14:07:49.078977Z",
     "iopub.status.idle": "2023-02-15T14:07:49.088207Z",
     "shell.execute_reply": "2023-02-15T14:07:49.087374Z"
    },
    "papermill": {
     "duration": 0.039712,
     "end_time": "2023-02-15T14:07:49.090351",
     "exception": false,
     "start_time": "2023-02-15T14:07:49.050639",
     "status": "completed"
    },
    "tags": []
   },
   "outputs": [
    {
     "data": {
      "text/plain": [
       "Survived      0\n",
       "Pclass        0\n",
       "Sex           0\n",
       "Age         177\n",
       "SibSp         0\n",
       "Parch         0\n",
       "Embarked      2\n",
       "dtype: int64"
      ]
     },
     "execution_count": 8,
     "metadata": {},
     "output_type": "execute_result"
    }
   ],
   "source": [
    "#checking for null values\n",
    "\n",
    "df.isnull().sum()"
   ]
  },
  {
   "cell_type": "code",
   "execution_count": 9,
   "id": "7819ae15",
   "metadata": {
    "execution": {
     "iopub.execute_input": "2023-02-15T14:07:49.146169Z",
     "iopub.status.busy": "2023-02-15T14:07:49.145439Z",
     "iopub.status.idle": "2023-02-15T14:07:49.152004Z",
     "shell.execute_reply": "2023-02-15T14:07:49.150945Z"
    },
    "papermill": {
     "duration": 0.03724,
     "end_time": "2023-02-15T14:07:49.154379",
     "exception": false,
     "start_time": "2023-02-15T14:07:49.117139",
     "status": "completed"
    },
    "tags": []
   },
   "outputs": [
    {
     "data": {
      "text/plain": [
       "Index(['Survived', 'Pclass', 'Sex', 'Age', 'SibSp', 'Parch', 'Embarked'], dtype='object')"
      ]
     },
     "execution_count": 9,
     "metadata": {},
     "output_type": "execute_result"
    }
   ],
   "source": [
    "df.columns"
   ]
  },
  {
   "cell_type": "code",
   "execution_count": 10,
   "id": "316a92ec",
   "metadata": {
    "execution": {
     "iopub.execute_input": "2023-02-15T14:07:49.211155Z",
     "iopub.status.busy": "2023-02-15T14:07:49.210046Z",
     "iopub.status.idle": "2023-02-15T14:07:49.239843Z",
     "shell.execute_reply": "2023-02-15T14:07:49.238625Z"
    },
    "papermill": {
     "duration": 0.060645,
     "end_time": "2023-02-15T14:07:49.242530",
     "exception": false,
     "start_time": "2023-02-15T14:07:49.181885",
     "status": "completed"
    },
    "tags": []
   },
   "outputs": [
    {
     "data": {
      "text/html": [
       "<div>\n",
       "<style scoped>\n",
       "    .dataframe tbody tr th:only-of-type {\n",
       "        vertical-align: middle;\n",
       "    }\n",
       "\n",
       "    .dataframe tbody tr th {\n",
       "        vertical-align: top;\n",
       "    }\n",
       "\n",
       "    .dataframe thead th {\n",
       "        text-align: right;\n",
       "    }\n",
       "</style>\n",
       "<table border=\"1\" class=\"dataframe\">\n",
       "  <thead>\n",
       "    <tr style=\"text-align: right;\">\n",
       "      <th></th>\n",
       "      <th>Survived</th>\n",
       "      <th>Pclass</th>\n",
       "      <th>Age</th>\n",
       "      <th>SibSp</th>\n",
       "      <th>Parch</th>\n",
       "    </tr>\n",
       "  </thead>\n",
       "  <tbody>\n",
       "    <tr>\n",
       "      <th>count</th>\n",
       "      <td>891.000000</td>\n",
       "      <td>891.000000</td>\n",
       "      <td>714.000000</td>\n",
       "      <td>891.000000</td>\n",
       "      <td>891.000000</td>\n",
       "    </tr>\n",
       "    <tr>\n",
       "      <th>mean</th>\n",
       "      <td>0.383838</td>\n",
       "      <td>2.308642</td>\n",
       "      <td>29.699118</td>\n",
       "      <td>0.523008</td>\n",
       "      <td>0.381594</td>\n",
       "    </tr>\n",
       "    <tr>\n",
       "      <th>std</th>\n",
       "      <td>0.486592</td>\n",
       "      <td>0.836071</td>\n",
       "      <td>14.526497</td>\n",
       "      <td>1.102743</td>\n",
       "      <td>0.806057</td>\n",
       "    </tr>\n",
       "    <tr>\n",
       "      <th>min</th>\n",
       "      <td>0.000000</td>\n",
       "      <td>1.000000</td>\n",
       "      <td>0.420000</td>\n",
       "      <td>0.000000</td>\n",
       "      <td>0.000000</td>\n",
       "    </tr>\n",
       "    <tr>\n",
       "      <th>25%</th>\n",
       "      <td>0.000000</td>\n",
       "      <td>2.000000</td>\n",
       "      <td>20.125000</td>\n",
       "      <td>0.000000</td>\n",
       "      <td>0.000000</td>\n",
       "    </tr>\n",
       "    <tr>\n",
       "      <th>50%</th>\n",
       "      <td>0.000000</td>\n",
       "      <td>3.000000</td>\n",
       "      <td>28.000000</td>\n",
       "      <td>0.000000</td>\n",
       "      <td>0.000000</td>\n",
       "    </tr>\n",
       "    <tr>\n",
       "      <th>75%</th>\n",
       "      <td>1.000000</td>\n",
       "      <td>3.000000</td>\n",
       "      <td>38.000000</td>\n",
       "      <td>1.000000</td>\n",
       "      <td>0.000000</td>\n",
       "    </tr>\n",
       "    <tr>\n",
       "      <th>max</th>\n",
       "      <td>1.000000</td>\n",
       "      <td>3.000000</td>\n",
       "      <td>80.000000</td>\n",
       "      <td>8.000000</td>\n",
       "      <td>6.000000</td>\n",
       "    </tr>\n",
       "  </tbody>\n",
       "</table>\n",
       "</div>"
      ],
      "text/plain": [
       "         Survived      Pclass         Age       SibSp       Parch\n",
       "count  891.000000  891.000000  714.000000  891.000000  891.000000\n",
       "mean     0.383838    2.308642   29.699118    0.523008    0.381594\n",
       "std      0.486592    0.836071   14.526497    1.102743    0.806057\n",
       "min      0.000000    1.000000    0.420000    0.000000    0.000000\n",
       "25%      0.000000    2.000000   20.125000    0.000000    0.000000\n",
       "50%      0.000000    3.000000   28.000000    0.000000    0.000000\n",
       "75%      1.000000    3.000000   38.000000    1.000000    0.000000\n",
       "max      1.000000    3.000000   80.000000    8.000000    6.000000"
      ]
     },
     "execution_count": 10,
     "metadata": {},
     "output_type": "execute_result"
    }
   ],
   "source": [
    "df.describe()"
   ]
  },
  {
   "cell_type": "code",
   "execution_count": 11,
   "id": "4aeafffb",
   "metadata": {
    "execution": {
     "iopub.execute_input": "2023-02-15T14:07:49.300687Z",
     "iopub.status.busy": "2023-02-15T14:07:49.300244Z",
     "iopub.status.idle": "2023-02-15T14:07:49.309888Z",
     "shell.execute_reply": "2023-02-15T14:07:49.308663Z"
    },
    "papermill": {
     "duration": 0.041726,
     "end_time": "2023-02-15T14:07:49.312219",
     "exception": false,
     "start_time": "2023-02-15T14:07:49.270493",
     "status": "completed"
    },
    "tags": []
   },
   "outputs": [],
   "source": [
    "# Changing data types into categorical\n",
    "\n",
    "for col in ['Pclass','Sex','Survived','Embarked']:\n",
    "    df[col] = df[col].astype('category')"
   ]
  },
  {
   "cell_type": "code",
   "execution_count": 12,
   "id": "ebbfa1fc",
   "metadata": {
    "execution": {
     "iopub.execute_input": "2023-02-15T14:07:49.368899Z",
     "iopub.status.busy": "2023-02-15T14:07:49.368151Z",
     "iopub.status.idle": "2023-02-15T14:07:49.375803Z",
     "shell.execute_reply": "2023-02-15T14:07:49.374969Z"
    },
    "papermill": {
     "duration": 0.03859,
     "end_time": "2023-02-15T14:07:49.377990",
     "exception": false,
     "start_time": "2023-02-15T14:07:49.339400",
     "status": "completed"
    },
    "tags": []
   },
   "outputs": [
    {
     "data": {
      "text/plain": [
       "Survived    category\n",
       "Pclass      category\n",
       "Sex         category\n",
       "Age          float64\n",
       "SibSp          int64\n",
       "Parch          int64\n",
       "Embarked    category\n",
       "dtype: object"
      ]
     },
     "execution_count": 12,
     "metadata": {},
     "output_type": "execute_result"
    }
   ],
   "source": [
    "df.dtypes"
   ]
  },
  {
   "cell_type": "markdown",
   "id": "8470cd9a",
   "metadata": {
    "papermill": {
     "duration": 0.03521,
     "end_time": "2023-02-15T14:07:49.449582",
     "exception": false,
     "start_time": "2023-02-15T14:07:49.414372",
     "status": "completed"
    },
    "tags": []
   },
   "source": [
    "# Spliting data into category and numerical columns"
   ]
  },
  {
   "cell_type": "code",
   "execution_count": 13,
   "id": "36a79a34",
   "metadata": {
    "execution": {
     "iopub.execute_input": "2023-02-15T14:07:49.518963Z",
     "iopub.status.busy": "2023-02-15T14:07:49.517770Z",
     "iopub.status.idle": "2023-02-15T14:07:49.522870Z",
     "shell.execute_reply": "2023-02-15T14:07:49.522044Z"
    },
    "papermill": {
     "duration": 0.036519,
     "end_time": "2023-02-15T14:07:49.524984",
     "exception": false,
     "start_time": "2023-02-15T14:07:49.488465",
     "status": "completed"
    },
    "tags": []
   },
   "outputs": [],
   "source": [
    "cat_cols=['Pclass', 'Sex','Embarked']"
   ]
  },
  {
   "cell_type": "code",
   "execution_count": 14,
   "id": "5afea1dd",
   "metadata": {
    "execution": {
     "iopub.execute_input": "2023-02-15T14:07:49.582520Z",
     "iopub.status.busy": "2023-02-15T14:07:49.581339Z",
     "iopub.status.idle": "2023-02-15T14:07:49.586024Z",
     "shell.execute_reply": "2023-02-15T14:07:49.585250Z"
    },
    "papermill": {
     "duration": 0.035859,
     "end_time": "2023-02-15T14:07:49.588263",
     "exception": false,
     "start_time": "2023-02-15T14:07:49.552404",
     "status": "completed"
    },
    "tags": []
   },
   "outputs": [],
   "source": [
    "num_cols=['Age','SibSp', 'Parch']"
   ]
  },
  {
   "cell_type": "code",
   "execution_count": 15,
   "id": "baee021e",
   "metadata": {
    "execution": {
     "iopub.execute_input": "2023-02-15T14:07:49.645829Z",
     "iopub.status.busy": "2023-02-15T14:07:49.645017Z",
     "iopub.status.idle": "2023-02-15T14:07:49.652128Z",
     "shell.execute_reply": "2023-02-15T14:07:49.651015Z"
    },
    "papermill": {
     "duration": 0.038498,
     "end_time": "2023-02-15T14:07:49.654523",
     "exception": false,
     "start_time": "2023-02-15T14:07:49.616025",
     "status": "completed"
    },
    "tags": []
   },
   "outputs": [
    {
     "data": {
      "text/plain": [
       "['Pclass', 'Sex', 'Embarked']"
      ]
     },
     "execution_count": 15,
     "metadata": {},
     "output_type": "execute_result"
    }
   ],
   "source": [
    "cat_cols"
   ]
  },
  {
   "cell_type": "code",
   "execution_count": 16,
   "id": "6f342fd1",
   "metadata": {
    "execution": {
     "iopub.execute_input": "2023-02-15T14:07:49.714895Z",
     "iopub.status.busy": "2023-02-15T14:07:49.713816Z",
     "iopub.status.idle": "2023-02-15T14:07:49.722136Z",
     "shell.execute_reply": "2023-02-15T14:07:49.720902Z"
    },
    "papermill": {
     "duration": 0.04136,
     "end_time": "2023-02-15T14:07:49.724560",
     "exception": false,
     "start_time": "2023-02-15T14:07:49.683200",
     "status": "completed"
    },
    "tags": []
   },
   "outputs": [
    {
     "data": {
      "text/plain": [
       "['Age', 'SibSp', 'Parch']"
      ]
     },
     "execution_count": 16,
     "metadata": {},
     "output_type": "execute_result"
    }
   ],
   "source": [
    "num_cols"
   ]
  },
  {
   "cell_type": "code",
   "execution_count": 17,
   "id": "af5e4569",
   "metadata": {
    "execution": {
     "iopub.execute_input": "2023-02-15T14:07:49.783353Z",
     "iopub.status.busy": "2023-02-15T14:07:49.782492Z",
     "iopub.status.idle": "2023-02-15T14:07:49.803836Z",
     "shell.execute_reply": "2023-02-15T14:07:49.802688Z"
    },
    "papermill": {
     "duration": 0.053151,
     "end_time": "2023-02-15T14:07:49.806195",
     "exception": false,
     "start_time": "2023-02-15T14:07:49.753044",
     "status": "completed"
    },
    "tags": []
   },
   "outputs": [
    {
     "data": {
      "text/html": [
       "<div>\n",
       "<style scoped>\n",
       "    .dataframe tbody tr th:only-of-type {\n",
       "        vertical-align: middle;\n",
       "    }\n",
       "\n",
       "    .dataframe tbody tr th {\n",
       "        vertical-align: top;\n",
       "    }\n",
       "\n",
       "    .dataframe thead th {\n",
       "        text-align: right;\n",
       "    }\n",
       "</style>\n",
       "<table border=\"1\" class=\"dataframe\">\n",
       "  <thead>\n",
       "    <tr style=\"text-align: right;\">\n",
       "      <th></th>\n",
       "      <th>Age</th>\n",
       "      <th>SibSp</th>\n",
       "      <th>Parch</th>\n",
       "    </tr>\n",
       "  </thead>\n",
       "  <tbody>\n",
       "    <tr>\n",
       "      <th>count</th>\n",
       "      <td>714.000000</td>\n",
       "      <td>891.000000</td>\n",
       "      <td>891.000000</td>\n",
       "    </tr>\n",
       "    <tr>\n",
       "      <th>mean</th>\n",
       "      <td>29.699118</td>\n",
       "      <td>0.523008</td>\n",
       "      <td>0.381594</td>\n",
       "    </tr>\n",
       "    <tr>\n",
       "      <th>std</th>\n",
       "      <td>14.526497</td>\n",
       "      <td>1.102743</td>\n",
       "      <td>0.806057</td>\n",
       "    </tr>\n",
       "    <tr>\n",
       "      <th>min</th>\n",
       "      <td>0.420000</td>\n",
       "      <td>0.000000</td>\n",
       "      <td>0.000000</td>\n",
       "    </tr>\n",
       "    <tr>\n",
       "      <th>25%</th>\n",
       "      <td>20.125000</td>\n",
       "      <td>0.000000</td>\n",
       "      <td>0.000000</td>\n",
       "    </tr>\n",
       "    <tr>\n",
       "      <th>50%</th>\n",
       "      <td>28.000000</td>\n",
       "      <td>0.000000</td>\n",
       "      <td>0.000000</td>\n",
       "    </tr>\n",
       "    <tr>\n",
       "      <th>75%</th>\n",
       "      <td>38.000000</td>\n",
       "      <td>1.000000</td>\n",
       "      <td>0.000000</td>\n",
       "    </tr>\n",
       "    <tr>\n",
       "      <th>max</th>\n",
       "      <td>80.000000</td>\n",
       "      <td>8.000000</td>\n",
       "      <td>6.000000</td>\n",
       "    </tr>\n",
       "  </tbody>\n",
       "</table>\n",
       "</div>"
      ],
      "text/plain": [
       "              Age       SibSp       Parch\n",
       "count  714.000000  891.000000  891.000000\n",
       "mean    29.699118    0.523008    0.381594\n",
       "std     14.526497    1.102743    0.806057\n",
       "min      0.420000    0.000000    0.000000\n",
       "25%     20.125000    0.000000    0.000000\n",
       "50%     28.000000    0.000000    0.000000\n",
       "75%     38.000000    1.000000    0.000000\n",
       "max     80.000000    8.000000    6.000000"
      ]
     },
     "execution_count": 17,
     "metadata": {},
     "output_type": "execute_result"
    }
   ],
   "source": [
    "df[num_cols].describe()"
   ]
  },
  {
   "cell_type": "markdown",
   "id": "9bf025e0",
   "metadata": {
    "papermill": {
     "duration": 0.028078,
     "end_time": "2023-02-15T14:07:49.862509",
     "exception": false,
     "start_time": "2023-02-15T14:07:49.834431",
     "status": "completed"
    },
    "tags": []
   },
   "source": [
    "# Splitting data into Train and Validation"
   ]
  },
  {
   "cell_type": "code",
   "execution_count": 18,
   "id": "1c1d300a",
   "metadata": {
    "execution": {
     "iopub.execute_input": "2023-02-15T14:07:49.920330Z",
     "iopub.status.busy": "2023-02-15T14:07:49.919572Z",
     "iopub.status.idle": "2023-02-15T14:07:50.879014Z",
     "shell.execute_reply": "2023-02-15T14:07:50.877682Z"
    },
    "papermill": {
     "duration": 0.991536,
     "end_time": "2023-02-15T14:07:50.881800",
     "exception": false,
     "start_time": "2023-02-15T14:07:49.890264",
     "status": "completed"
    },
    "tags": []
   },
   "outputs": [],
   "source": [
    "import statsmodels.api as sm\n",
    "from sklearn.model_selection import train_test_split"
   ]
  },
  {
   "cell_type": "code",
   "execution_count": 19,
   "id": "ecfe1564",
   "metadata": {
    "execution": {
     "iopub.execute_input": "2023-02-15T14:07:50.940150Z",
     "iopub.status.busy": "2023-02-15T14:07:50.939745Z",
     "iopub.status.idle": "2023-02-15T14:07:50.946623Z",
     "shell.execute_reply": "2023-02-15T14:07:50.945465Z"
    },
    "papermill": {
     "duration": 0.0384,
     "end_time": "2023-02-15T14:07:50.948870",
     "exception": false,
     "start_time": "2023-02-15T14:07:50.910470",
     "status": "completed"
    },
    "tags": []
   },
   "outputs": [],
   "source": [
    "X = df.drop('Survived',axis=1)\n",
    "y= df['Survived']"
   ]
  },
  {
   "cell_type": "code",
   "execution_count": 20,
   "id": "67bd6125",
   "metadata": {
    "execution": {
     "iopub.execute_input": "2023-02-15T14:07:51.007431Z",
     "iopub.status.busy": "2023-02-15T14:07:51.006069Z",
     "iopub.status.idle": "2023-02-15T14:07:51.016961Z",
     "shell.execute_reply": "2023-02-15T14:07:51.015694Z"
    },
    "papermill": {
     "duration": 0.042827,
     "end_time": "2023-02-15T14:07:51.019482",
     "exception": false,
     "start_time": "2023-02-15T14:07:50.976655",
     "status": "completed"
    },
    "tags": []
   },
   "outputs": [],
   "source": [
    "X_train, X_val, y_train, y_val = train_test_split(X, y, test_size=0.3, random_state=123, stratify=y)"
   ]
  },
  {
   "cell_type": "code",
   "execution_count": 21,
   "id": "97417ebf",
   "metadata": {
    "execution": {
     "iopub.execute_input": "2023-02-15T14:07:51.077701Z",
     "iopub.status.busy": "2023-02-15T14:07:51.076819Z",
     "iopub.status.idle": "2023-02-15T14:07:51.082317Z",
     "shell.execute_reply": "2023-02-15T14:07:51.081357Z"
    },
    "papermill": {
     "duration": 0.038064,
     "end_time": "2023-02-15T14:07:51.085497",
     "exception": false,
     "start_time": "2023-02-15T14:07:51.047433",
     "status": "completed"
    },
    "tags": []
   },
   "outputs": [
    {
     "name": "stdout",
     "output_type": "stream",
     "text": [
      "(623, 6)\n",
      "(268, 6)\n",
      "(623,)\n",
      "(268,)\n"
     ]
    }
   ],
   "source": [
    "print(X_train.shape)\n",
    "print(X_val.shape)\n",
    "print(y_train.shape)\n",
    "print(y_val.shape)"
   ]
  },
  {
   "cell_type": "code",
   "execution_count": 22,
   "id": "70ebff55",
   "metadata": {
    "execution": {
     "iopub.execute_input": "2023-02-15T14:07:51.144509Z",
     "iopub.status.busy": "2023-02-15T14:07:51.144085Z",
     "iopub.status.idle": "2023-02-15T14:07:51.155998Z",
     "shell.execute_reply": "2023-02-15T14:07:51.154356Z"
    },
    "papermill": {
     "duration": 0.044201,
     "end_time": "2023-02-15T14:07:51.158648",
     "exception": false,
     "start_time": "2023-02-15T14:07:51.114447",
     "status": "completed"
    },
    "tags": []
   },
   "outputs": [
    {
     "data": {
      "text/plain": [
       "0    0.616162\n",
       "1    0.383838\n",
       "Name: Survived, dtype: float64"
      ]
     },
     "execution_count": 22,
     "metadata": {},
     "output_type": "execute_result"
    }
   ],
   "source": [
    "df[\"Survived\"].value_counts(normalize=True)"
   ]
  },
  {
   "cell_type": "code",
   "execution_count": 23,
   "id": "39e0ffe8",
   "metadata": {
    "execution": {
     "iopub.execute_input": "2023-02-15T14:07:51.218904Z",
     "iopub.status.busy": "2023-02-15T14:07:51.218058Z",
     "iopub.status.idle": "2023-02-15T14:07:51.227393Z",
     "shell.execute_reply": "2023-02-15T14:07:51.226192Z"
    },
    "papermill": {
     "duration": 0.042246,
     "end_time": "2023-02-15T14:07:51.229989",
     "exception": false,
     "start_time": "2023-02-15T14:07:51.187743",
     "status": "completed"
    },
    "tags": []
   },
   "outputs": [
    {
     "data": {
      "text/plain": [
       "0    0.616372\n",
       "1    0.383628\n",
       "Name: Survived, dtype: float64"
      ]
     },
     "execution_count": 23,
     "metadata": {},
     "output_type": "execute_result"
    }
   ],
   "source": [
    "y_train.value_counts(normalize=True)"
   ]
  },
  {
   "cell_type": "code",
   "execution_count": 24,
   "id": "4dcdb027",
   "metadata": {
    "execution": {
     "iopub.execute_input": "2023-02-15T14:07:51.291718Z",
     "iopub.status.busy": "2023-02-15T14:07:51.290501Z",
     "iopub.status.idle": "2023-02-15T14:07:51.299973Z",
     "shell.execute_reply": "2023-02-15T14:07:51.298989Z"
    },
    "papermill": {
     "duration": 0.042526,
     "end_time": "2023-02-15T14:07:51.302408",
     "exception": false,
     "start_time": "2023-02-15T14:07:51.259882",
     "status": "completed"
    },
    "tags": []
   },
   "outputs": [
    {
     "data": {
      "text/plain": [
       "0    0.615672\n",
       "1    0.384328\n",
       "Name: Survived, dtype: float64"
      ]
     },
     "execution_count": 24,
     "metadata": {},
     "output_type": "execute_result"
    }
   ],
   "source": [
    "y_val.value_counts(normalize=True)"
   ]
  },
  {
   "cell_type": "markdown",
   "id": "bc7cec1c",
   "metadata": {
    "papermill": {
     "duration": 0.02791,
     "end_time": "2023-02-15T14:07:51.358712",
     "exception": false,
     "start_time": "2023-02-15T14:07:51.330802",
     "status": "completed"
    },
    "tags": []
   },
   "source": [
    "# Imputation"
   ]
  },
  {
   "cell_type": "code",
   "execution_count": 25,
   "id": "9c7eada2",
   "metadata": {
    "execution": {
     "iopub.execute_input": "2023-02-15T14:07:51.416984Z",
     "iopub.status.busy": "2023-02-15T14:07:51.416577Z",
     "iopub.status.idle": "2023-02-15T14:07:51.577936Z",
     "shell.execute_reply": "2023-02-15T14:07:51.576731Z"
    },
    "papermill": {
     "duration": 0.193951,
     "end_time": "2023-02-15T14:07:51.580852",
     "exception": false,
     "start_time": "2023-02-15T14:07:51.386901",
     "status": "completed"
    },
    "tags": []
   },
   "outputs": [],
   "source": [
    "from sklearn.impute import SimpleImputer\n",
    "imputer_num = SimpleImputer(strategy='median')\n",
    "imputer_num = imputer_num.fit(X_train[num_cols])\n",
    "X_train_num_imp = pd.DataFrame(imputer_num.transform(X_train[num_cols]), columns=(X_train[num_cols]).columns)\n",
    "X_val_num_imp = pd.DataFrame(imputer_num.transform(X_val[num_cols]), columns=(X_val[num_cols]).columns)"
   ]
  },
  {
   "cell_type": "code",
   "execution_count": 26,
   "id": "31f70e6b",
   "metadata": {
    "execution": {
     "iopub.execute_input": "2023-02-15T14:07:51.641788Z",
     "iopub.status.busy": "2023-02-15T14:07:51.641358Z",
     "iopub.status.idle": "2023-02-15T14:07:51.650689Z",
     "shell.execute_reply": "2023-02-15T14:07:51.649535Z"
    },
    "papermill": {
     "duration": 0.042094,
     "end_time": "2023-02-15T14:07:51.653001",
     "exception": false,
     "start_time": "2023-02-15T14:07:51.610907",
     "status": "completed"
    },
    "tags": []
   },
   "outputs": [
    {
     "data": {
      "text/plain": [
       "Age      0\n",
       "SibSp    0\n",
       "Parch    0\n",
       "dtype: int64"
      ]
     },
     "execution_count": 26,
     "metadata": {},
     "output_type": "execute_result"
    }
   ],
   "source": [
    "X_train_num_imp.isnull().sum()"
   ]
  },
  {
   "cell_type": "code",
   "execution_count": 27,
   "id": "12a45285",
   "metadata": {
    "execution": {
     "iopub.execute_input": "2023-02-15T14:07:51.714118Z",
     "iopub.status.busy": "2023-02-15T14:07:51.712973Z",
     "iopub.status.idle": "2023-02-15T14:07:51.722760Z",
     "shell.execute_reply": "2023-02-15T14:07:51.721652Z"
    },
    "papermill": {
     "duration": 0.042801,
     "end_time": "2023-02-15T14:07:51.725068",
     "exception": false,
     "start_time": "2023-02-15T14:07:51.682267",
     "status": "completed"
    },
    "tags": []
   },
   "outputs": [
    {
     "data": {
      "text/plain": [
       "Age      0\n",
       "SibSp    0\n",
       "Parch    0\n",
       "dtype: int64"
      ]
     },
     "execution_count": 27,
     "metadata": {},
     "output_type": "execute_result"
    }
   ],
   "source": [
    "X_val_num_imp.isnull().sum()"
   ]
  },
  {
   "cell_type": "code",
   "execution_count": 28,
   "id": "dc996faf",
   "metadata": {
    "execution": {
     "iopub.execute_input": "2023-02-15T14:07:51.786276Z",
     "iopub.status.busy": "2023-02-15T14:07:51.785060Z",
     "iopub.status.idle": "2023-02-15T14:07:51.805894Z",
     "shell.execute_reply": "2023-02-15T14:07:51.804747Z"
    },
    "papermill": {
     "duration": 0.054474,
     "end_time": "2023-02-15T14:07:51.808597",
     "exception": false,
     "start_time": "2023-02-15T14:07:51.754123",
     "status": "completed"
    },
    "tags": []
   },
   "outputs": [],
   "source": [
    "imputer_cat = SimpleImputer(strategy='most_frequent')\n",
    "imputer_cat = imputer_cat.fit(X_train[cat_cols])\n",
    "X_train_cat_imp = pd.DataFrame(imputer_cat.transform(X_train[cat_cols]), columns=(X_train[cat_cols]).columns)\n",
    "X_val_cat_imp = pd.DataFrame(imputer_cat.transform(X_val[cat_cols]), columns=(X_val[cat_cols]).columns)"
   ]
  },
  {
   "cell_type": "code",
   "execution_count": 29,
   "id": "9cacb682",
   "metadata": {
    "execution": {
     "iopub.execute_input": "2023-02-15T14:07:51.866948Z",
     "iopub.status.busy": "2023-02-15T14:07:51.866178Z",
     "iopub.status.idle": "2023-02-15T14:07:51.875915Z",
     "shell.execute_reply": "2023-02-15T14:07:51.874952Z"
    },
    "papermill": {
     "duration": 0.041435,
     "end_time": "2023-02-15T14:07:51.878222",
     "exception": false,
     "start_time": "2023-02-15T14:07:51.836787",
     "status": "completed"
    },
    "tags": []
   },
   "outputs": [
    {
     "data": {
      "text/plain": [
       "Pclass      0\n",
       "Sex         0\n",
       "Embarked    0\n",
       "dtype: int64"
      ]
     },
     "execution_count": 29,
     "metadata": {},
     "output_type": "execute_result"
    }
   ],
   "source": [
    "X_train_cat_imp.isnull().sum()"
   ]
  },
  {
   "cell_type": "code",
   "execution_count": 30,
   "id": "0cd262a6",
   "metadata": {
    "execution": {
     "iopub.execute_input": "2023-02-15T14:07:51.936660Z",
     "iopub.status.busy": "2023-02-15T14:07:51.935670Z",
     "iopub.status.idle": "2023-02-15T14:07:51.944874Z",
     "shell.execute_reply": "2023-02-15T14:07:51.944022Z"
    },
    "papermill": {
     "duration": 0.040886,
     "end_time": "2023-02-15T14:07:51.947141",
     "exception": false,
     "start_time": "2023-02-15T14:07:51.906255",
     "status": "completed"
    },
    "tags": []
   },
   "outputs": [
    {
     "data": {
      "text/plain": [
       "Pclass      0\n",
       "Sex         0\n",
       "Embarked    0\n",
       "dtype: int64"
      ]
     },
     "execution_count": 30,
     "metadata": {},
     "output_type": "execute_result"
    }
   ],
   "source": [
    "X_val_cat_imp.isnull().sum()"
   ]
  },
  {
   "cell_type": "markdown",
   "id": "52380ace",
   "metadata": {
    "papermill": {
     "duration": 0.028162,
     "end_time": "2023-02-15T14:07:52.004346",
     "exception": false,
     "start_time": "2023-02-15T14:07:51.976184",
     "status": "completed"
    },
    "tags": []
   },
   "source": [
    "# Standardization"
   ]
  },
  {
   "cell_type": "code",
   "execution_count": 31,
   "id": "b79bb66c",
   "metadata": {
    "execution": {
     "iopub.execute_input": "2023-02-15T14:07:52.062962Z",
     "iopub.status.busy": "2023-02-15T14:07:52.062573Z",
     "iopub.status.idle": "2023-02-15T14:07:52.076352Z",
     "shell.execute_reply": "2023-02-15T14:07:52.075399Z"
    },
    "papermill": {
     "duration": 0.045764,
     "end_time": "2023-02-15T14:07:52.078510",
     "exception": false,
     "start_time": "2023-02-15T14:07:52.032746",
     "status": "completed"
    },
    "tags": []
   },
   "outputs": [],
   "source": [
    "from sklearn.preprocessing import StandardScaler\n",
    "scaler = StandardScaler()\n",
    "scaler = scaler.fit(X_train[num_cols])\n",
    "X_train_num_std = pd.DataFrame(scaler.transform(X_train_num_imp), columns=X_train_num_imp.columns)\n",
    "X_val_num_std = pd.DataFrame(scaler.transform(X_val_num_imp), columns=X_val_num_imp.columns)"
   ]
  },
  {
   "cell_type": "markdown",
   "id": "abbaa323",
   "metadata": {
    "papermill": {
     "duration": 0.02895,
     "end_time": "2023-02-15T14:07:52.135979",
     "exception": false,
     "start_time": "2023-02-15T14:07:52.107029",
     "status": "completed"
    },
    "tags": []
   },
   "source": [
    "# Dummification"
   ]
  },
  {
   "cell_type": "code",
   "execution_count": 32,
   "id": "2caaa5b8",
   "metadata": {
    "execution": {
     "iopub.execute_input": "2023-02-15T14:07:52.195384Z",
     "iopub.status.busy": "2023-02-15T14:07:52.194967Z",
     "iopub.status.idle": "2023-02-15T14:07:52.208929Z",
     "shell.execute_reply": "2023-02-15T14:07:52.207676Z"
    },
    "papermill": {
     "duration": 0.047112,
     "end_time": "2023-02-15T14:07:52.211493",
     "exception": false,
     "start_time": "2023-02-15T14:07:52.164381",
     "status": "completed"
    },
    "tags": []
   },
   "outputs": [],
   "source": [
    "X_train_cat_dum = pd.get_dummies((X_train_cat_imp),drop_first=True)\n",
    "X_val_cat_dum = pd.get_dummies((X_val_cat_imp),drop_first=True)"
   ]
  },
  {
   "cell_type": "code",
   "execution_count": 33,
   "id": "bc6066dd",
   "metadata": {
    "execution": {
     "iopub.execute_input": "2023-02-15T14:07:52.271221Z",
     "iopub.status.busy": "2023-02-15T14:07:52.270794Z",
     "iopub.status.idle": "2023-02-15T14:07:52.285575Z",
     "shell.execute_reply": "2023-02-15T14:07:52.284337Z"
    },
    "papermill": {
     "duration": 0.047284,
     "end_time": "2023-02-15T14:07:52.287977",
     "exception": false,
     "start_time": "2023-02-15T14:07:52.240693",
     "status": "completed"
    },
    "tags": []
   },
   "outputs": [
    {
     "data": {
      "text/html": [
       "<div>\n",
       "<style scoped>\n",
       "    .dataframe tbody tr th:only-of-type {\n",
       "        vertical-align: middle;\n",
       "    }\n",
       "\n",
       "    .dataframe tbody tr th {\n",
       "        vertical-align: top;\n",
       "    }\n",
       "\n",
       "    .dataframe thead th {\n",
       "        text-align: right;\n",
       "    }\n",
       "</style>\n",
       "<table border=\"1\" class=\"dataframe\">\n",
       "  <thead>\n",
       "    <tr style=\"text-align: right;\">\n",
       "      <th></th>\n",
       "      <th>Pclass_2</th>\n",
       "      <th>Pclass_3</th>\n",
       "      <th>Sex_male</th>\n",
       "      <th>Embarked_Q</th>\n",
       "      <th>Embarked_S</th>\n",
       "    </tr>\n",
       "  </thead>\n",
       "  <tbody>\n",
       "    <tr>\n",
       "      <th>0</th>\n",
       "      <td>1</td>\n",
       "      <td>0</td>\n",
       "      <td>0</td>\n",
       "      <td>0</td>\n",
       "      <td>1</td>\n",
       "    </tr>\n",
       "    <tr>\n",
       "      <th>1</th>\n",
       "      <td>0</td>\n",
       "      <td>1</td>\n",
       "      <td>1</td>\n",
       "      <td>1</td>\n",
       "      <td>0</td>\n",
       "    </tr>\n",
       "    <tr>\n",
       "      <th>2</th>\n",
       "      <td>0</td>\n",
       "      <td>1</td>\n",
       "      <td>0</td>\n",
       "      <td>1</td>\n",
       "      <td>0</td>\n",
       "    </tr>\n",
       "    <tr>\n",
       "      <th>3</th>\n",
       "      <td>0</td>\n",
       "      <td>1</td>\n",
       "      <td>1</td>\n",
       "      <td>0</td>\n",
       "      <td>1</td>\n",
       "    </tr>\n",
       "    <tr>\n",
       "      <th>4</th>\n",
       "      <td>0</td>\n",
       "      <td>1</td>\n",
       "      <td>1</td>\n",
       "      <td>1</td>\n",
       "      <td>0</td>\n",
       "    </tr>\n",
       "    <tr>\n",
       "      <th>...</th>\n",
       "      <td>...</td>\n",
       "      <td>...</td>\n",
       "      <td>...</td>\n",
       "      <td>...</td>\n",
       "      <td>...</td>\n",
       "    </tr>\n",
       "    <tr>\n",
       "      <th>618</th>\n",
       "      <td>0</td>\n",
       "      <td>0</td>\n",
       "      <td>1</td>\n",
       "      <td>0</td>\n",
       "      <td>0</td>\n",
       "    </tr>\n",
       "    <tr>\n",
       "      <th>619</th>\n",
       "      <td>0</td>\n",
       "      <td>1</td>\n",
       "      <td>1</td>\n",
       "      <td>0</td>\n",
       "      <td>1</td>\n",
       "    </tr>\n",
       "    <tr>\n",
       "      <th>620</th>\n",
       "      <td>0</td>\n",
       "      <td>0</td>\n",
       "      <td>0</td>\n",
       "      <td>0</td>\n",
       "      <td>1</td>\n",
       "    </tr>\n",
       "    <tr>\n",
       "      <th>621</th>\n",
       "      <td>0</td>\n",
       "      <td>0</td>\n",
       "      <td>1</td>\n",
       "      <td>1</td>\n",
       "      <td>0</td>\n",
       "    </tr>\n",
       "    <tr>\n",
       "      <th>622</th>\n",
       "      <td>0</td>\n",
       "      <td>1</td>\n",
       "      <td>1</td>\n",
       "      <td>1</td>\n",
       "      <td>0</td>\n",
       "    </tr>\n",
       "  </tbody>\n",
       "</table>\n",
       "<p>623 rows × 5 columns</p>\n",
       "</div>"
      ],
      "text/plain": [
       "     Pclass_2  Pclass_3  Sex_male  Embarked_Q  Embarked_S\n",
       "0           1         0         0           0           1\n",
       "1           0         1         1           1           0\n",
       "2           0         1         0           1           0\n",
       "3           0         1         1           0           1\n",
       "4           0         1         1           1           0\n",
       "..        ...       ...       ...         ...         ...\n",
       "618         0         0         1           0           0\n",
       "619         0         1         1           0           1\n",
       "620         0         0         0           0           1\n",
       "621         0         0         1           1           0\n",
       "622         0         1         1           1           0\n",
       "\n",
       "[623 rows x 5 columns]"
      ]
     },
     "execution_count": 33,
     "metadata": {},
     "output_type": "execute_result"
    }
   ],
   "source": [
    "X_train_cat_dum"
   ]
  },
  {
   "cell_type": "code",
   "execution_count": 34,
   "id": "4364216b",
   "metadata": {
    "execution": {
     "iopub.execute_input": "2023-02-15T14:07:52.347755Z",
     "iopub.status.busy": "2023-02-15T14:07:52.347345Z",
     "iopub.status.idle": "2023-02-15T14:07:52.364713Z",
     "shell.execute_reply": "2023-02-15T14:07:52.363286Z"
    },
    "papermill": {
     "duration": 0.050578,
     "end_time": "2023-02-15T14:07:52.367471",
     "exception": false,
     "start_time": "2023-02-15T14:07:52.316893",
     "status": "completed"
    },
    "tags": []
   },
   "outputs": [
    {
     "data": {
      "text/html": [
       "<div>\n",
       "<style scoped>\n",
       "    .dataframe tbody tr th:only-of-type {\n",
       "        vertical-align: middle;\n",
       "    }\n",
       "\n",
       "    .dataframe tbody tr th {\n",
       "        vertical-align: top;\n",
       "    }\n",
       "\n",
       "    .dataframe thead th {\n",
       "        text-align: right;\n",
       "    }\n",
       "</style>\n",
       "<table border=\"1\" class=\"dataframe\">\n",
       "  <thead>\n",
       "    <tr style=\"text-align: right;\">\n",
       "      <th></th>\n",
       "      <th>Pclass_2</th>\n",
       "      <th>Pclass_3</th>\n",
       "      <th>Sex_male</th>\n",
       "      <th>Embarked_Q</th>\n",
       "      <th>Embarked_S</th>\n",
       "    </tr>\n",
       "  </thead>\n",
       "  <tbody>\n",
       "    <tr>\n",
       "      <th>0</th>\n",
       "      <td>1</td>\n",
       "      <td>0</td>\n",
       "      <td>1</td>\n",
       "      <td>0</td>\n",
       "      <td>1</td>\n",
       "    </tr>\n",
       "    <tr>\n",
       "      <th>1</th>\n",
       "      <td>0</td>\n",
       "      <td>0</td>\n",
       "      <td>0</td>\n",
       "      <td>0</td>\n",
       "      <td>1</td>\n",
       "    </tr>\n",
       "    <tr>\n",
       "      <th>2</th>\n",
       "      <td>0</td>\n",
       "      <td>1</td>\n",
       "      <td>1</td>\n",
       "      <td>1</td>\n",
       "      <td>0</td>\n",
       "    </tr>\n",
       "    <tr>\n",
       "      <th>3</th>\n",
       "      <td>0</td>\n",
       "      <td>1</td>\n",
       "      <td>1</td>\n",
       "      <td>0</td>\n",
       "      <td>1</td>\n",
       "    </tr>\n",
       "    <tr>\n",
       "      <th>4</th>\n",
       "      <td>1</td>\n",
       "      <td>0</td>\n",
       "      <td>1</td>\n",
       "      <td>0</td>\n",
       "      <td>1</td>\n",
       "    </tr>\n",
       "    <tr>\n",
       "      <th>...</th>\n",
       "      <td>...</td>\n",
       "      <td>...</td>\n",
       "      <td>...</td>\n",
       "      <td>...</td>\n",
       "      <td>...</td>\n",
       "    </tr>\n",
       "    <tr>\n",
       "      <th>263</th>\n",
       "      <td>0</td>\n",
       "      <td>1</td>\n",
       "      <td>1</td>\n",
       "      <td>0</td>\n",
       "      <td>1</td>\n",
       "    </tr>\n",
       "    <tr>\n",
       "      <th>264</th>\n",
       "      <td>1</td>\n",
       "      <td>0</td>\n",
       "      <td>0</td>\n",
       "      <td>0</td>\n",
       "      <td>1</td>\n",
       "    </tr>\n",
       "    <tr>\n",
       "      <th>265</th>\n",
       "      <td>0</td>\n",
       "      <td>1</td>\n",
       "      <td>1</td>\n",
       "      <td>0</td>\n",
       "      <td>1</td>\n",
       "    </tr>\n",
       "    <tr>\n",
       "      <th>266</th>\n",
       "      <td>0</td>\n",
       "      <td>0</td>\n",
       "      <td>1</td>\n",
       "      <td>0</td>\n",
       "      <td>1</td>\n",
       "    </tr>\n",
       "    <tr>\n",
       "      <th>267</th>\n",
       "      <td>0</td>\n",
       "      <td>0</td>\n",
       "      <td>0</td>\n",
       "      <td>0</td>\n",
       "      <td>1</td>\n",
       "    </tr>\n",
       "  </tbody>\n",
       "</table>\n",
       "<p>268 rows × 5 columns</p>\n",
       "</div>"
      ],
      "text/plain": [
       "     Pclass_2  Pclass_3  Sex_male  Embarked_Q  Embarked_S\n",
       "0           1         0         1           0           1\n",
       "1           0         0         0           0           1\n",
       "2           0         1         1           1           0\n",
       "3           0         1         1           0           1\n",
       "4           1         0         1           0           1\n",
       "..        ...       ...       ...         ...         ...\n",
       "263         0         1         1           0           1\n",
       "264         1         0         0           0           1\n",
       "265         0         1         1           0           1\n",
       "266         0         0         1           0           1\n",
       "267         0         0         0           0           1\n",
       "\n",
       "[268 rows x 5 columns]"
      ]
     },
     "execution_count": 34,
     "metadata": {},
     "output_type": "execute_result"
    }
   ],
   "source": [
    "X_val_cat_dum"
   ]
  },
  {
   "cell_type": "code",
   "execution_count": 35,
   "id": "c106ed86",
   "metadata": {
    "execution": {
     "iopub.execute_input": "2023-02-15T14:07:52.433561Z",
     "iopub.status.busy": "2023-02-15T14:07:52.432640Z",
     "iopub.status.idle": "2023-02-15T14:07:52.448628Z",
     "shell.execute_reply": "2023-02-15T14:07:52.447376Z"
    },
    "papermill": {
     "duration": 0.050263,
     "end_time": "2023-02-15T14:07:52.450967",
     "exception": false,
     "start_time": "2023-02-15T14:07:52.400704",
     "status": "completed"
    },
    "tags": []
   },
   "outputs": [
    {
     "data": {
      "text/html": [
       "<div>\n",
       "<style scoped>\n",
       "    .dataframe tbody tr th:only-of-type {\n",
       "        vertical-align: middle;\n",
       "    }\n",
       "\n",
       "    .dataframe tbody tr th {\n",
       "        vertical-align: top;\n",
       "    }\n",
       "\n",
       "    .dataframe thead th {\n",
       "        text-align: right;\n",
       "    }\n",
       "</style>\n",
       "<table border=\"1\" class=\"dataframe\">\n",
       "  <thead>\n",
       "    <tr style=\"text-align: right;\">\n",
       "      <th></th>\n",
       "      <th>index</th>\n",
       "      <th>Age</th>\n",
       "      <th>SibSp</th>\n",
       "      <th>Parch</th>\n",
       "    </tr>\n",
       "  </thead>\n",
       "  <tbody>\n",
       "    <tr>\n",
       "      <th>0</th>\n",
       "      <td>0</td>\n",
       "      <td>-0.349638</td>\n",
       "      <td>-0.464774</td>\n",
       "      <td>-0.465958</td>\n",
       "    </tr>\n",
       "    <tr>\n",
       "      <th>1</th>\n",
       "      <td>1</td>\n",
       "      <td>-0.137370</td>\n",
       "      <td>-0.464774</td>\n",
       "      <td>-0.465958</td>\n",
       "    </tr>\n",
       "    <tr>\n",
       "      <th>2</th>\n",
       "      <td>2</td>\n",
       "      <td>-0.137370</td>\n",
       "      <td>-0.464774</td>\n",
       "      <td>-0.465958</td>\n",
       "    </tr>\n",
       "    <tr>\n",
       "      <th>3</th>\n",
       "      <td>3</td>\n",
       "      <td>-0.915685</td>\n",
       "      <td>-0.464774</td>\n",
       "      <td>-0.465958</td>\n",
       "    </tr>\n",
       "    <tr>\n",
       "      <th>4</th>\n",
       "      <td>4</td>\n",
       "      <td>-0.137370</td>\n",
       "      <td>-0.464774</td>\n",
       "      <td>-0.465958</td>\n",
       "    </tr>\n",
       "    <tr>\n",
       "      <th>...</th>\n",
       "      <td>...</td>\n",
       "      <td>...</td>\n",
       "      <td>...</td>\n",
       "      <td>...</td>\n",
       "    </tr>\n",
       "    <tr>\n",
       "      <th>618</th>\n",
       "      <td>618</td>\n",
       "      <td>0.428678</td>\n",
       "      <td>-0.464774</td>\n",
       "      <td>-0.465958</td>\n",
       "    </tr>\n",
       "    <tr>\n",
       "      <th>619</th>\n",
       "      <td>619</td>\n",
       "      <td>0.782458</td>\n",
       "      <td>0.412663</td>\n",
       "      <td>4.582592</td>\n",
       "    </tr>\n",
       "    <tr>\n",
       "      <th>620</th>\n",
       "      <td>620</td>\n",
       "      <td>-0.137370</td>\n",
       "      <td>0.412663</td>\n",
       "      <td>-0.465958</td>\n",
       "    </tr>\n",
       "    <tr>\n",
       "      <th>621</th>\n",
       "      <td>621</td>\n",
       "      <td>1.065482</td>\n",
       "      <td>1.290100</td>\n",
       "      <td>-0.465958</td>\n",
       "    </tr>\n",
       "    <tr>\n",
       "      <th>622</th>\n",
       "      <td>622</td>\n",
       "      <td>-0.137370</td>\n",
       "      <td>0.412663</td>\n",
       "      <td>-0.465958</td>\n",
       "    </tr>\n",
       "  </tbody>\n",
       "</table>\n",
       "<p>623 rows × 4 columns</p>\n",
       "</div>"
      ],
      "text/plain": [
       "     index       Age     SibSp     Parch\n",
       "0        0 -0.349638 -0.464774 -0.465958\n",
       "1        1 -0.137370 -0.464774 -0.465958\n",
       "2        2 -0.137370 -0.464774 -0.465958\n",
       "3        3 -0.915685 -0.464774 -0.465958\n",
       "4        4 -0.137370 -0.464774 -0.465958\n",
       "..     ...       ...       ...       ...\n",
       "618    618  0.428678 -0.464774 -0.465958\n",
       "619    619  0.782458  0.412663  4.582592\n",
       "620    620 -0.137370  0.412663 -0.465958\n",
       "621    621  1.065482  1.290100 -0.465958\n",
       "622    622 -0.137370  0.412663 -0.465958\n",
       "\n",
       "[623 rows x 4 columns]"
      ]
     },
     "execution_count": 35,
     "metadata": {},
     "output_type": "execute_result"
    }
   ],
   "source": [
    "X_train_num_std = X_train_num_std.reset_index()\n",
    "X_train_num_std"
   ]
  },
  {
   "cell_type": "code",
   "execution_count": 36,
   "id": "a2505255",
   "metadata": {
    "execution": {
     "iopub.execute_input": "2023-02-15T14:07:52.516227Z",
     "iopub.status.busy": "2023-02-15T14:07:52.515845Z",
     "iopub.status.idle": "2023-02-15T14:07:52.530252Z",
     "shell.execute_reply": "2023-02-15T14:07:52.529160Z"
    },
    "papermill": {
     "duration": 0.052083,
     "end_time": "2023-02-15T14:07:52.532455",
     "exception": false,
     "start_time": "2023-02-15T14:07:52.480372",
     "status": "completed"
    },
    "tags": []
   },
   "outputs": [
    {
     "data": {
      "text/html": [
       "<div>\n",
       "<style scoped>\n",
       "    .dataframe tbody tr th:only-of-type {\n",
       "        vertical-align: middle;\n",
       "    }\n",
       "\n",
       "    .dataframe tbody tr th {\n",
       "        vertical-align: top;\n",
       "    }\n",
       "\n",
       "    .dataframe thead th {\n",
       "        text-align: right;\n",
       "    }\n",
       "</style>\n",
       "<table border=\"1\" class=\"dataframe\">\n",
       "  <thead>\n",
       "    <tr style=\"text-align: right;\">\n",
       "      <th></th>\n",
       "      <th>Age</th>\n",
       "      <th>SibSp</th>\n",
       "      <th>Parch</th>\n",
       "    </tr>\n",
       "  </thead>\n",
       "  <tbody>\n",
       "    <tr>\n",
       "      <th>0</th>\n",
       "      <td>-0.349638</td>\n",
       "      <td>-0.464774</td>\n",
       "      <td>-0.465958</td>\n",
       "    </tr>\n",
       "    <tr>\n",
       "      <th>1</th>\n",
       "      <td>-0.137370</td>\n",
       "      <td>-0.464774</td>\n",
       "      <td>-0.465958</td>\n",
       "    </tr>\n",
       "    <tr>\n",
       "      <th>2</th>\n",
       "      <td>-0.137370</td>\n",
       "      <td>-0.464774</td>\n",
       "      <td>-0.465958</td>\n",
       "    </tr>\n",
       "    <tr>\n",
       "      <th>3</th>\n",
       "      <td>-0.915685</td>\n",
       "      <td>-0.464774</td>\n",
       "      <td>-0.465958</td>\n",
       "    </tr>\n",
       "    <tr>\n",
       "      <th>4</th>\n",
       "      <td>-0.137370</td>\n",
       "      <td>-0.464774</td>\n",
       "      <td>-0.465958</td>\n",
       "    </tr>\n",
       "    <tr>\n",
       "      <th>...</th>\n",
       "      <td>...</td>\n",
       "      <td>...</td>\n",
       "      <td>...</td>\n",
       "    </tr>\n",
       "    <tr>\n",
       "      <th>618</th>\n",
       "      <td>0.428678</td>\n",
       "      <td>-0.464774</td>\n",
       "      <td>-0.465958</td>\n",
       "    </tr>\n",
       "    <tr>\n",
       "      <th>619</th>\n",
       "      <td>0.782458</td>\n",
       "      <td>0.412663</td>\n",
       "      <td>4.582592</td>\n",
       "    </tr>\n",
       "    <tr>\n",
       "      <th>620</th>\n",
       "      <td>-0.137370</td>\n",
       "      <td>0.412663</td>\n",
       "      <td>-0.465958</td>\n",
       "    </tr>\n",
       "    <tr>\n",
       "      <th>621</th>\n",
       "      <td>1.065482</td>\n",
       "      <td>1.290100</td>\n",
       "      <td>-0.465958</td>\n",
       "    </tr>\n",
       "    <tr>\n",
       "      <th>622</th>\n",
       "      <td>-0.137370</td>\n",
       "      <td>0.412663</td>\n",
       "      <td>-0.465958</td>\n",
       "    </tr>\n",
       "  </tbody>\n",
       "</table>\n",
       "<p>623 rows × 3 columns</p>\n",
       "</div>"
      ],
      "text/plain": [
       "          Age     SibSp     Parch\n",
       "0   -0.349638 -0.464774 -0.465958\n",
       "1   -0.137370 -0.464774 -0.465958\n",
       "2   -0.137370 -0.464774 -0.465958\n",
       "3   -0.915685 -0.464774 -0.465958\n",
       "4   -0.137370 -0.464774 -0.465958\n",
       "..        ...       ...       ...\n",
       "618  0.428678 -0.464774 -0.465958\n",
       "619  0.782458  0.412663  4.582592\n",
       "620 -0.137370  0.412663 -0.465958\n",
       "621  1.065482  1.290100 -0.465958\n",
       "622 -0.137370  0.412663 -0.465958\n",
       "\n",
       "[623 rows x 3 columns]"
      ]
     },
     "execution_count": 36,
     "metadata": {},
     "output_type": "execute_result"
    }
   ],
   "source": [
    "X_train_num_std = X_train_num_std.drop([\"index\"], axis=1)\n",
    "X_train_num_std"
   ]
  },
  {
   "cell_type": "code",
   "execution_count": 37,
   "id": "5c72dfa0",
   "metadata": {
    "execution": {
     "iopub.execute_input": "2023-02-15T14:07:52.594480Z",
     "iopub.status.busy": "2023-02-15T14:07:52.593416Z",
     "iopub.status.idle": "2023-02-15T14:07:52.608221Z",
     "shell.execute_reply": "2023-02-15T14:07:52.607358Z"
    },
    "papermill": {
     "duration": 0.048627,
     "end_time": "2023-02-15T14:07:52.610492",
     "exception": false,
     "start_time": "2023-02-15T14:07:52.561865",
     "status": "completed"
    },
    "tags": []
   },
   "outputs": [
    {
     "data": {
      "text/html": [
       "<div>\n",
       "<style scoped>\n",
       "    .dataframe tbody tr th:only-of-type {\n",
       "        vertical-align: middle;\n",
       "    }\n",
       "\n",
       "    .dataframe tbody tr th {\n",
       "        vertical-align: top;\n",
       "    }\n",
       "\n",
       "    .dataframe thead th {\n",
       "        text-align: right;\n",
       "    }\n",
       "</style>\n",
       "<table border=\"1\" class=\"dataframe\">\n",
       "  <thead>\n",
       "    <tr style=\"text-align: right;\">\n",
       "      <th></th>\n",
       "      <th>index</th>\n",
       "      <th>Age</th>\n",
       "      <th>SibSp</th>\n",
       "      <th>Parch</th>\n",
       "    </tr>\n",
       "  </thead>\n",
       "  <tbody>\n",
       "    <tr>\n",
       "      <th>0</th>\n",
       "      <td>0</td>\n",
       "      <td>0.074898</td>\n",
       "      <td>-0.464774</td>\n",
       "      <td>-0.465958</td>\n",
       "    </tr>\n",
       "    <tr>\n",
       "      <th>1</th>\n",
       "      <td>1</td>\n",
       "      <td>-0.137370</td>\n",
       "      <td>0.412663</td>\n",
       "      <td>-0.465958</td>\n",
       "    </tr>\n",
       "    <tr>\n",
       "      <th>2</th>\n",
       "      <td>2</td>\n",
       "      <td>-1.906269</td>\n",
       "      <td>3.044974</td>\n",
       "      <td>0.796180</td>\n",
       "    </tr>\n",
       "    <tr>\n",
       "      <th>3</th>\n",
       "      <td>3</td>\n",
       "      <td>-0.137370</td>\n",
       "      <td>-0.464774</td>\n",
       "      <td>-0.465958</td>\n",
       "    </tr>\n",
       "    <tr>\n",
       "      <th>4</th>\n",
       "      <td>4</td>\n",
       "      <td>-0.561906</td>\n",
       "      <td>1.290100</td>\n",
       "      <td>-0.465958</td>\n",
       "    </tr>\n",
       "    <tr>\n",
       "      <th>...</th>\n",
       "      <td>...</td>\n",
       "      <td>...</td>\n",
       "      <td>...</td>\n",
       "      <td>...</td>\n",
       "    </tr>\n",
       "    <tr>\n",
       "      <th>263</th>\n",
       "      <td>263</td>\n",
       "      <td>0.216410</td>\n",
       "      <td>-0.464774</td>\n",
       "      <td>-0.465958</td>\n",
       "    </tr>\n",
       "    <tr>\n",
       "      <th>264</th>\n",
       "      <td>264</td>\n",
       "      <td>-0.349638</td>\n",
       "      <td>0.412663</td>\n",
       "      <td>2.058317</td>\n",
       "    </tr>\n",
       "    <tr>\n",
       "      <th>265</th>\n",
       "      <td>265</td>\n",
       "      <td>0.853214</td>\n",
       "      <td>1.290100</td>\n",
       "      <td>-0.465958</td>\n",
       "    </tr>\n",
       "    <tr>\n",
       "      <th>266</th>\n",
       "      <td>266</td>\n",
       "      <td>1.490018</td>\n",
       "      <td>1.290100</td>\n",
       "      <td>-0.465958</td>\n",
       "    </tr>\n",
       "    <tr>\n",
       "      <th>267</th>\n",
       "      <td>267</td>\n",
       "      <td>0.994726</td>\n",
       "      <td>-0.464774</td>\n",
       "      <td>0.796180</td>\n",
       "    </tr>\n",
       "  </tbody>\n",
       "</table>\n",
       "<p>268 rows × 4 columns</p>\n",
       "</div>"
      ],
      "text/plain": [
       "     index       Age     SibSp     Parch\n",
       "0        0  0.074898 -0.464774 -0.465958\n",
       "1        1 -0.137370  0.412663 -0.465958\n",
       "2        2 -1.906269  3.044974  0.796180\n",
       "3        3 -0.137370 -0.464774 -0.465958\n",
       "4        4 -0.561906  1.290100 -0.465958\n",
       "..     ...       ...       ...       ...\n",
       "263    263  0.216410 -0.464774 -0.465958\n",
       "264    264 -0.349638  0.412663  2.058317\n",
       "265    265  0.853214  1.290100 -0.465958\n",
       "266    266  1.490018  1.290100 -0.465958\n",
       "267    267  0.994726 -0.464774  0.796180\n",
       "\n",
       "[268 rows x 4 columns]"
      ]
     },
     "execution_count": 37,
     "metadata": {},
     "output_type": "execute_result"
    }
   ],
   "source": [
    "X_val_num_std = X_val_num_std.reset_index()\n",
    "X_val_num_std"
   ]
  },
  {
   "cell_type": "code",
   "execution_count": 38,
   "id": "7567d315",
   "metadata": {
    "execution": {
     "iopub.execute_input": "2023-02-15T14:07:52.672185Z",
     "iopub.status.busy": "2023-02-15T14:07:52.671452Z",
     "iopub.status.idle": "2023-02-15T14:07:52.685613Z",
     "shell.execute_reply": "2023-02-15T14:07:52.684597Z"
    },
    "papermill": {
     "duration": 0.04828,
     "end_time": "2023-02-15T14:07:52.688459",
     "exception": false,
     "start_time": "2023-02-15T14:07:52.640179",
     "status": "completed"
    },
    "tags": []
   },
   "outputs": [
    {
     "data": {
      "text/html": [
       "<div>\n",
       "<style scoped>\n",
       "    .dataframe tbody tr th:only-of-type {\n",
       "        vertical-align: middle;\n",
       "    }\n",
       "\n",
       "    .dataframe tbody tr th {\n",
       "        vertical-align: top;\n",
       "    }\n",
       "\n",
       "    .dataframe thead th {\n",
       "        text-align: right;\n",
       "    }\n",
       "</style>\n",
       "<table border=\"1\" class=\"dataframe\">\n",
       "  <thead>\n",
       "    <tr style=\"text-align: right;\">\n",
       "      <th></th>\n",
       "      <th>Age</th>\n",
       "      <th>SibSp</th>\n",
       "      <th>Parch</th>\n",
       "    </tr>\n",
       "  </thead>\n",
       "  <tbody>\n",
       "    <tr>\n",
       "      <th>0</th>\n",
       "      <td>0.074898</td>\n",
       "      <td>-0.464774</td>\n",
       "      <td>-0.465958</td>\n",
       "    </tr>\n",
       "    <tr>\n",
       "      <th>1</th>\n",
       "      <td>-0.137370</td>\n",
       "      <td>0.412663</td>\n",
       "      <td>-0.465958</td>\n",
       "    </tr>\n",
       "    <tr>\n",
       "      <th>2</th>\n",
       "      <td>-1.906269</td>\n",
       "      <td>3.044974</td>\n",
       "      <td>0.796180</td>\n",
       "    </tr>\n",
       "    <tr>\n",
       "      <th>3</th>\n",
       "      <td>-0.137370</td>\n",
       "      <td>-0.464774</td>\n",
       "      <td>-0.465958</td>\n",
       "    </tr>\n",
       "    <tr>\n",
       "      <th>4</th>\n",
       "      <td>-0.561906</td>\n",
       "      <td>1.290100</td>\n",
       "      <td>-0.465958</td>\n",
       "    </tr>\n",
       "    <tr>\n",
       "      <th>...</th>\n",
       "      <td>...</td>\n",
       "      <td>...</td>\n",
       "      <td>...</td>\n",
       "    </tr>\n",
       "    <tr>\n",
       "      <th>263</th>\n",
       "      <td>0.216410</td>\n",
       "      <td>-0.464774</td>\n",
       "      <td>-0.465958</td>\n",
       "    </tr>\n",
       "    <tr>\n",
       "      <th>264</th>\n",
       "      <td>-0.349638</td>\n",
       "      <td>0.412663</td>\n",
       "      <td>2.058317</td>\n",
       "    </tr>\n",
       "    <tr>\n",
       "      <th>265</th>\n",
       "      <td>0.853214</td>\n",
       "      <td>1.290100</td>\n",
       "      <td>-0.465958</td>\n",
       "    </tr>\n",
       "    <tr>\n",
       "      <th>266</th>\n",
       "      <td>1.490018</td>\n",
       "      <td>1.290100</td>\n",
       "      <td>-0.465958</td>\n",
       "    </tr>\n",
       "    <tr>\n",
       "      <th>267</th>\n",
       "      <td>0.994726</td>\n",
       "      <td>-0.464774</td>\n",
       "      <td>0.796180</td>\n",
       "    </tr>\n",
       "  </tbody>\n",
       "</table>\n",
       "<p>268 rows × 3 columns</p>\n",
       "</div>"
      ],
      "text/plain": [
       "          Age     SibSp     Parch\n",
       "0    0.074898 -0.464774 -0.465958\n",
       "1   -0.137370  0.412663 -0.465958\n",
       "2   -1.906269  3.044974  0.796180\n",
       "3   -0.137370 -0.464774 -0.465958\n",
       "4   -0.561906  1.290100 -0.465958\n",
       "..        ...       ...       ...\n",
       "263  0.216410 -0.464774 -0.465958\n",
       "264 -0.349638  0.412663  2.058317\n",
       "265  0.853214  1.290100 -0.465958\n",
       "266  1.490018  1.290100 -0.465958\n",
       "267  0.994726 -0.464774  0.796180\n",
       "\n",
       "[268 rows x 3 columns]"
      ]
     },
     "execution_count": 38,
     "metadata": {},
     "output_type": "execute_result"
    }
   ],
   "source": [
    "X_val_num_std = X_val_num_std.drop([\"index\"], axis=1)\n",
    "X_val_num_std"
   ]
  },
  {
   "cell_type": "code",
   "execution_count": 39,
   "id": "60f62028",
   "metadata": {
    "execution": {
     "iopub.execute_input": "2023-02-15T14:07:52.751807Z",
     "iopub.status.busy": "2023-02-15T14:07:52.751150Z",
     "iopub.status.idle": "2023-02-15T14:07:52.766101Z",
     "shell.execute_reply": "2023-02-15T14:07:52.764743Z"
    },
    "papermill": {
     "duration": 0.049489,
     "end_time": "2023-02-15T14:07:52.768453",
     "exception": false,
     "start_time": "2023-02-15T14:07:52.718964",
     "status": "completed"
    },
    "tags": []
   },
   "outputs": [
    {
     "data": {
      "text/html": [
       "<div>\n",
       "<style scoped>\n",
       "    .dataframe tbody tr th:only-of-type {\n",
       "        vertical-align: middle;\n",
       "    }\n",
       "\n",
       "    .dataframe tbody tr th {\n",
       "        vertical-align: top;\n",
       "    }\n",
       "\n",
       "    .dataframe thead th {\n",
       "        text-align: right;\n",
       "    }\n",
       "</style>\n",
       "<table border=\"1\" class=\"dataframe\">\n",
       "  <thead>\n",
       "    <tr style=\"text-align: right;\">\n",
       "      <th></th>\n",
       "      <th>index</th>\n",
       "      <th>Pclass_2</th>\n",
       "      <th>Pclass_3</th>\n",
       "      <th>Sex_male</th>\n",
       "      <th>Embarked_Q</th>\n",
       "      <th>Embarked_S</th>\n",
       "    </tr>\n",
       "  </thead>\n",
       "  <tbody>\n",
       "    <tr>\n",
       "      <th>0</th>\n",
       "      <td>0</td>\n",
       "      <td>1</td>\n",
       "      <td>0</td>\n",
       "      <td>0</td>\n",
       "      <td>0</td>\n",
       "      <td>1</td>\n",
       "    </tr>\n",
       "    <tr>\n",
       "      <th>1</th>\n",
       "      <td>1</td>\n",
       "      <td>0</td>\n",
       "      <td>1</td>\n",
       "      <td>1</td>\n",
       "      <td>1</td>\n",
       "      <td>0</td>\n",
       "    </tr>\n",
       "    <tr>\n",
       "      <th>2</th>\n",
       "      <td>2</td>\n",
       "      <td>0</td>\n",
       "      <td>1</td>\n",
       "      <td>0</td>\n",
       "      <td>1</td>\n",
       "      <td>0</td>\n",
       "    </tr>\n",
       "    <tr>\n",
       "      <th>3</th>\n",
       "      <td>3</td>\n",
       "      <td>0</td>\n",
       "      <td>1</td>\n",
       "      <td>1</td>\n",
       "      <td>0</td>\n",
       "      <td>1</td>\n",
       "    </tr>\n",
       "    <tr>\n",
       "      <th>4</th>\n",
       "      <td>4</td>\n",
       "      <td>0</td>\n",
       "      <td>1</td>\n",
       "      <td>1</td>\n",
       "      <td>1</td>\n",
       "      <td>0</td>\n",
       "    </tr>\n",
       "    <tr>\n",
       "      <th>...</th>\n",
       "      <td>...</td>\n",
       "      <td>...</td>\n",
       "      <td>...</td>\n",
       "      <td>...</td>\n",
       "      <td>...</td>\n",
       "      <td>...</td>\n",
       "    </tr>\n",
       "    <tr>\n",
       "      <th>618</th>\n",
       "      <td>618</td>\n",
       "      <td>0</td>\n",
       "      <td>0</td>\n",
       "      <td>1</td>\n",
       "      <td>0</td>\n",
       "      <td>0</td>\n",
       "    </tr>\n",
       "    <tr>\n",
       "      <th>619</th>\n",
       "      <td>619</td>\n",
       "      <td>0</td>\n",
       "      <td>1</td>\n",
       "      <td>1</td>\n",
       "      <td>0</td>\n",
       "      <td>1</td>\n",
       "    </tr>\n",
       "    <tr>\n",
       "      <th>620</th>\n",
       "      <td>620</td>\n",
       "      <td>0</td>\n",
       "      <td>0</td>\n",
       "      <td>0</td>\n",
       "      <td>0</td>\n",
       "      <td>1</td>\n",
       "    </tr>\n",
       "    <tr>\n",
       "      <th>621</th>\n",
       "      <td>621</td>\n",
       "      <td>0</td>\n",
       "      <td>0</td>\n",
       "      <td>1</td>\n",
       "      <td>1</td>\n",
       "      <td>0</td>\n",
       "    </tr>\n",
       "    <tr>\n",
       "      <th>622</th>\n",
       "      <td>622</td>\n",
       "      <td>0</td>\n",
       "      <td>1</td>\n",
       "      <td>1</td>\n",
       "      <td>1</td>\n",
       "      <td>0</td>\n",
       "    </tr>\n",
       "  </tbody>\n",
       "</table>\n",
       "<p>623 rows × 6 columns</p>\n",
       "</div>"
      ],
      "text/plain": [
       "     index  Pclass_2  Pclass_3  Sex_male  Embarked_Q  Embarked_S\n",
       "0        0         1         0         0           0           1\n",
       "1        1         0         1         1           1           0\n",
       "2        2         0         1         0           1           0\n",
       "3        3         0         1         1           0           1\n",
       "4        4         0         1         1           1           0\n",
       "..     ...       ...       ...       ...         ...         ...\n",
       "618    618         0         0         1           0           0\n",
       "619    619         0         1         1           0           1\n",
       "620    620         0         0         0           0           1\n",
       "621    621         0         0         1           1           0\n",
       "622    622         0         1         1           1           0\n",
       "\n",
       "[623 rows x 6 columns]"
      ]
     },
     "execution_count": 39,
     "metadata": {},
     "output_type": "execute_result"
    }
   ],
   "source": [
    "X_train_cat_dum = X_train_cat_dum.reset_index()\n",
    "X_train_cat_dum"
   ]
  },
  {
   "cell_type": "code",
   "execution_count": 40,
   "id": "6ecba467",
   "metadata": {
    "execution": {
     "iopub.execute_input": "2023-02-15T14:07:52.831454Z",
     "iopub.status.busy": "2023-02-15T14:07:52.830808Z",
     "iopub.status.idle": "2023-02-15T14:07:52.843565Z",
     "shell.execute_reply": "2023-02-15T14:07:52.842685Z"
    },
    "papermill": {
     "duration": 0.047194,
     "end_time": "2023-02-15T14:07:52.845941",
     "exception": false,
     "start_time": "2023-02-15T14:07:52.798747",
     "status": "completed"
    },
    "tags": []
   },
   "outputs": [
    {
     "data": {
      "text/html": [
       "<div>\n",
       "<style scoped>\n",
       "    .dataframe tbody tr th:only-of-type {\n",
       "        vertical-align: middle;\n",
       "    }\n",
       "\n",
       "    .dataframe tbody tr th {\n",
       "        vertical-align: top;\n",
       "    }\n",
       "\n",
       "    .dataframe thead th {\n",
       "        text-align: right;\n",
       "    }\n",
       "</style>\n",
       "<table border=\"1\" class=\"dataframe\">\n",
       "  <thead>\n",
       "    <tr style=\"text-align: right;\">\n",
       "      <th></th>\n",
       "      <th>Pclass_2</th>\n",
       "      <th>Pclass_3</th>\n",
       "      <th>Sex_male</th>\n",
       "      <th>Embarked_Q</th>\n",
       "      <th>Embarked_S</th>\n",
       "    </tr>\n",
       "  </thead>\n",
       "  <tbody>\n",
       "    <tr>\n",
       "      <th>0</th>\n",
       "      <td>1</td>\n",
       "      <td>0</td>\n",
       "      <td>0</td>\n",
       "      <td>0</td>\n",
       "      <td>1</td>\n",
       "    </tr>\n",
       "    <tr>\n",
       "      <th>1</th>\n",
       "      <td>0</td>\n",
       "      <td>1</td>\n",
       "      <td>1</td>\n",
       "      <td>1</td>\n",
       "      <td>0</td>\n",
       "    </tr>\n",
       "    <tr>\n",
       "      <th>2</th>\n",
       "      <td>0</td>\n",
       "      <td>1</td>\n",
       "      <td>0</td>\n",
       "      <td>1</td>\n",
       "      <td>0</td>\n",
       "    </tr>\n",
       "    <tr>\n",
       "      <th>3</th>\n",
       "      <td>0</td>\n",
       "      <td>1</td>\n",
       "      <td>1</td>\n",
       "      <td>0</td>\n",
       "      <td>1</td>\n",
       "    </tr>\n",
       "    <tr>\n",
       "      <th>4</th>\n",
       "      <td>0</td>\n",
       "      <td>1</td>\n",
       "      <td>1</td>\n",
       "      <td>1</td>\n",
       "      <td>0</td>\n",
       "    </tr>\n",
       "    <tr>\n",
       "      <th>...</th>\n",
       "      <td>...</td>\n",
       "      <td>...</td>\n",
       "      <td>...</td>\n",
       "      <td>...</td>\n",
       "      <td>...</td>\n",
       "    </tr>\n",
       "    <tr>\n",
       "      <th>618</th>\n",
       "      <td>0</td>\n",
       "      <td>0</td>\n",
       "      <td>1</td>\n",
       "      <td>0</td>\n",
       "      <td>0</td>\n",
       "    </tr>\n",
       "    <tr>\n",
       "      <th>619</th>\n",
       "      <td>0</td>\n",
       "      <td>1</td>\n",
       "      <td>1</td>\n",
       "      <td>0</td>\n",
       "      <td>1</td>\n",
       "    </tr>\n",
       "    <tr>\n",
       "      <th>620</th>\n",
       "      <td>0</td>\n",
       "      <td>0</td>\n",
       "      <td>0</td>\n",
       "      <td>0</td>\n",
       "      <td>1</td>\n",
       "    </tr>\n",
       "    <tr>\n",
       "      <th>621</th>\n",
       "      <td>0</td>\n",
       "      <td>0</td>\n",
       "      <td>1</td>\n",
       "      <td>1</td>\n",
       "      <td>0</td>\n",
       "    </tr>\n",
       "    <tr>\n",
       "      <th>622</th>\n",
       "      <td>0</td>\n",
       "      <td>1</td>\n",
       "      <td>1</td>\n",
       "      <td>1</td>\n",
       "      <td>0</td>\n",
       "    </tr>\n",
       "  </tbody>\n",
       "</table>\n",
       "<p>623 rows × 5 columns</p>\n",
       "</div>"
      ],
      "text/plain": [
       "     Pclass_2  Pclass_3  Sex_male  Embarked_Q  Embarked_S\n",
       "0           1         0         0           0           1\n",
       "1           0         1         1           1           0\n",
       "2           0         1         0           1           0\n",
       "3           0         1         1           0           1\n",
       "4           0         1         1           1           0\n",
       "..        ...       ...       ...         ...         ...\n",
       "618         0         0         1           0           0\n",
       "619         0         1         1           0           1\n",
       "620         0         0         0           0           1\n",
       "621         0         0         1           1           0\n",
       "622         0         1         1           1           0\n",
       "\n",
       "[623 rows x 5 columns]"
      ]
     },
     "execution_count": 40,
     "metadata": {},
     "output_type": "execute_result"
    }
   ],
   "source": [
    "X_train_cat_dum = X_train_cat_dum.drop([\"index\"], axis=1)\n",
    "X_train_cat_dum"
   ]
  },
  {
   "cell_type": "code",
   "execution_count": 41,
   "id": "760d4ec2",
   "metadata": {
    "execution": {
     "iopub.execute_input": "2023-02-15T14:07:52.909100Z",
     "iopub.status.busy": "2023-02-15T14:07:52.908714Z",
     "iopub.status.idle": "2023-02-15T14:07:52.923884Z",
     "shell.execute_reply": "2023-02-15T14:07:52.922656Z"
    },
    "papermill": {
     "duration": 0.049878,
     "end_time": "2023-02-15T14:07:52.926337",
     "exception": false,
     "start_time": "2023-02-15T14:07:52.876459",
     "status": "completed"
    },
    "tags": []
   },
   "outputs": [
    {
     "data": {
      "text/html": [
       "<div>\n",
       "<style scoped>\n",
       "    .dataframe tbody tr th:only-of-type {\n",
       "        vertical-align: middle;\n",
       "    }\n",
       "\n",
       "    .dataframe tbody tr th {\n",
       "        vertical-align: top;\n",
       "    }\n",
       "\n",
       "    .dataframe thead th {\n",
       "        text-align: right;\n",
       "    }\n",
       "</style>\n",
       "<table border=\"1\" class=\"dataframe\">\n",
       "  <thead>\n",
       "    <tr style=\"text-align: right;\">\n",
       "      <th></th>\n",
       "      <th>index</th>\n",
       "      <th>Pclass_2</th>\n",
       "      <th>Pclass_3</th>\n",
       "      <th>Sex_male</th>\n",
       "      <th>Embarked_Q</th>\n",
       "      <th>Embarked_S</th>\n",
       "    </tr>\n",
       "  </thead>\n",
       "  <tbody>\n",
       "    <tr>\n",
       "      <th>0</th>\n",
       "      <td>0</td>\n",
       "      <td>1</td>\n",
       "      <td>0</td>\n",
       "      <td>1</td>\n",
       "      <td>0</td>\n",
       "      <td>1</td>\n",
       "    </tr>\n",
       "    <tr>\n",
       "      <th>1</th>\n",
       "      <td>1</td>\n",
       "      <td>0</td>\n",
       "      <td>0</td>\n",
       "      <td>0</td>\n",
       "      <td>0</td>\n",
       "      <td>1</td>\n",
       "    </tr>\n",
       "    <tr>\n",
       "      <th>2</th>\n",
       "      <td>2</td>\n",
       "      <td>0</td>\n",
       "      <td>1</td>\n",
       "      <td>1</td>\n",
       "      <td>1</td>\n",
       "      <td>0</td>\n",
       "    </tr>\n",
       "    <tr>\n",
       "      <th>3</th>\n",
       "      <td>3</td>\n",
       "      <td>0</td>\n",
       "      <td>1</td>\n",
       "      <td>1</td>\n",
       "      <td>0</td>\n",
       "      <td>1</td>\n",
       "    </tr>\n",
       "    <tr>\n",
       "      <th>4</th>\n",
       "      <td>4</td>\n",
       "      <td>1</td>\n",
       "      <td>0</td>\n",
       "      <td>1</td>\n",
       "      <td>0</td>\n",
       "      <td>1</td>\n",
       "    </tr>\n",
       "    <tr>\n",
       "      <th>...</th>\n",
       "      <td>...</td>\n",
       "      <td>...</td>\n",
       "      <td>...</td>\n",
       "      <td>...</td>\n",
       "      <td>...</td>\n",
       "      <td>...</td>\n",
       "    </tr>\n",
       "    <tr>\n",
       "      <th>263</th>\n",
       "      <td>263</td>\n",
       "      <td>0</td>\n",
       "      <td>1</td>\n",
       "      <td>1</td>\n",
       "      <td>0</td>\n",
       "      <td>1</td>\n",
       "    </tr>\n",
       "    <tr>\n",
       "      <th>264</th>\n",
       "      <td>264</td>\n",
       "      <td>1</td>\n",
       "      <td>0</td>\n",
       "      <td>0</td>\n",
       "      <td>0</td>\n",
       "      <td>1</td>\n",
       "    </tr>\n",
       "    <tr>\n",
       "      <th>265</th>\n",
       "      <td>265</td>\n",
       "      <td>0</td>\n",
       "      <td>1</td>\n",
       "      <td>1</td>\n",
       "      <td>0</td>\n",
       "      <td>1</td>\n",
       "    </tr>\n",
       "    <tr>\n",
       "      <th>266</th>\n",
       "      <td>266</td>\n",
       "      <td>0</td>\n",
       "      <td>0</td>\n",
       "      <td>1</td>\n",
       "      <td>0</td>\n",
       "      <td>1</td>\n",
       "    </tr>\n",
       "    <tr>\n",
       "      <th>267</th>\n",
       "      <td>267</td>\n",
       "      <td>0</td>\n",
       "      <td>0</td>\n",
       "      <td>0</td>\n",
       "      <td>0</td>\n",
       "      <td>1</td>\n",
       "    </tr>\n",
       "  </tbody>\n",
       "</table>\n",
       "<p>268 rows × 6 columns</p>\n",
       "</div>"
      ],
      "text/plain": [
       "     index  Pclass_2  Pclass_3  Sex_male  Embarked_Q  Embarked_S\n",
       "0        0         1         0         1           0           1\n",
       "1        1         0         0         0           0           1\n",
       "2        2         0         1         1           1           0\n",
       "3        3         0         1         1           0           1\n",
       "4        4         1         0         1           0           1\n",
       "..     ...       ...       ...       ...         ...         ...\n",
       "263    263         0         1         1           0           1\n",
       "264    264         1         0         0           0           1\n",
       "265    265         0         1         1           0           1\n",
       "266    266         0         0         1           0           1\n",
       "267    267         0         0         0           0           1\n",
       "\n",
       "[268 rows x 6 columns]"
      ]
     },
     "execution_count": 41,
     "metadata": {},
     "output_type": "execute_result"
    }
   ],
   "source": [
    "X_val_cat_dum = X_val_cat_dum.reset_index()\n",
    "X_val_cat_dum"
   ]
  },
  {
   "cell_type": "code",
   "execution_count": 42,
   "id": "ed0a1a28",
   "metadata": {
    "execution": {
     "iopub.execute_input": "2023-02-15T14:07:52.990022Z",
     "iopub.status.busy": "2023-02-15T14:07:52.989636Z",
     "iopub.status.idle": "2023-02-15T14:07:53.003635Z",
     "shell.execute_reply": "2023-02-15T14:07:53.002494Z"
    },
    "papermill": {
     "duration": 0.048999,
     "end_time": "2023-02-15T14:07:53.006076",
     "exception": false,
     "start_time": "2023-02-15T14:07:52.957077",
     "status": "completed"
    },
    "tags": []
   },
   "outputs": [
    {
     "data": {
      "text/html": [
       "<div>\n",
       "<style scoped>\n",
       "    .dataframe tbody tr th:only-of-type {\n",
       "        vertical-align: middle;\n",
       "    }\n",
       "\n",
       "    .dataframe tbody tr th {\n",
       "        vertical-align: top;\n",
       "    }\n",
       "\n",
       "    .dataframe thead th {\n",
       "        text-align: right;\n",
       "    }\n",
       "</style>\n",
       "<table border=\"1\" class=\"dataframe\">\n",
       "  <thead>\n",
       "    <tr style=\"text-align: right;\">\n",
       "      <th></th>\n",
       "      <th>Pclass_2</th>\n",
       "      <th>Pclass_3</th>\n",
       "      <th>Sex_male</th>\n",
       "      <th>Embarked_Q</th>\n",
       "      <th>Embarked_S</th>\n",
       "    </tr>\n",
       "  </thead>\n",
       "  <tbody>\n",
       "    <tr>\n",
       "      <th>0</th>\n",
       "      <td>1</td>\n",
       "      <td>0</td>\n",
       "      <td>1</td>\n",
       "      <td>0</td>\n",
       "      <td>1</td>\n",
       "    </tr>\n",
       "    <tr>\n",
       "      <th>1</th>\n",
       "      <td>0</td>\n",
       "      <td>0</td>\n",
       "      <td>0</td>\n",
       "      <td>0</td>\n",
       "      <td>1</td>\n",
       "    </tr>\n",
       "    <tr>\n",
       "      <th>2</th>\n",
       "      <td>0</td>\n",
       "      <td>1</td>\n",
       "      <td>1</td>\n",
       "      <td>1</td>\n",
       "      <td>0</td>\n",
       "    </tr>\n",
       "    <tr>\n",
       "      <th>3</th>\n",
       "      <td>0</td>\n",
       "      <td>1</td>\n",
       "      <td>1</td>\n",
       "      <td>0</td>\n",
       "      <td>1</td>\n",
       "    </tr>\n",
       "    <tr>\n",
       "      <th>4</th>\n",
       "      <td>1</td>\n",
       "      <td>0</td>\n",
       "      <td>1</td>\n",
       "      <td>0</td>\n",
       "      <td>1</td>\n",
       "    </tr>\n",
       "    <tr>\n",
       "      <th>...</th>\n",
       "      <td>...</td>\n",
       "      <td>...</td>\n",
       "      <td>...</td>\n",
       "      <td>...</td>\n",
       "      <td>...</td>\n",
       "    </tr>\n",
       "    <tr>\n",
       "      <th>263</th>\n",
       "      <td>0</td>\n",
       "      <td>1</td>\n",
       "      <td>1</td>\n",
       "      <td>0</td>\n",
       "      <td>1</td>\n",
       "    </tr>\n",
       "    <tr>\n",
       "      <th>264</th>\n",
       "      <td>1</td>\n",
       "      <td>0</td>\n",
       "      <td>0</td>\n",
       "      <td>0</td>\n",
       "      <td>1</td>\n",
       "    </tr>\n",
       "    <tr>\n",
       "      <th>265</th>\n",
       "      <td>0</td>\n",
       "      <td>1</td>\n",
       "      <td>1</td>\n",
       "      <td>0</td>\n",
       "      <td>1</td>\n",
       "    </tr>\n",
       "    <tr>\n",
       "      <th>266</th>\n",
       "      <td>0</td>\n",
       "      <td>0</td>\n",
       "      <td>1</td>\n",
       "      <td>0</td>\n",
       "      <td>1</td>\n",
       "    </tr>\n",
       "    <tr>\n",
       "      <th>267</th>\n",
       "      <td>0</td>\n",
       "      <td>0</td>\n",
       "      <td>0</td>\n",
       "      <td>0</td>\n",
       "      <td>1</td>\n",
       "    </tr>\n",
       "  </tbody>\n",
       "</table>\n",
       "<p>268 rows × 5 columns</p>\n",
       "</div>"
      ],
      "text/plain": [
       "     Pclass_2  Pclass_3  Sex_male  Embarked_Q  Embarked_S\n",
       "0           1         0         1           0           1\n",
       "1           0         0         0           0           1\n",
       "2           0         1         1           1           0\n",
       "3           0         1         1           0           1\n",
       "4           1         0         1           0           1\n",
       "..        ...       ...       ...         ...         ...\n",
       "263         0         1         1           0           1\n",
       "264         1         0         0           0           1\n",
       "265         0         1         1           0           1\n",
       "266         0         0         1           0           1\n",
       "267         0         0         0           0           1\n",
       "\n",
       "[268 rows x 5 columns]"
      ]
     },
     "execution_count": 42,
     "metadata": {},
     "output_type": "execute_result"
    }
   ],
   "source": [
    "X_val_cat_dum = X_val_cat_dum.drop([\"index\"], axis=1)\n",
    "X_val_cat_dum"
   ]
  },
  {
   "cell_type": "markdown",
   "id": "b31bcb7a",
   "metadata": {
    "papermill": {
     "duration": 0.030919,
     "end_time": "2023-02-15T14:07:53.068134",
     "exception": false,
     "start_time": "2023-02-15T14:07:53.037215",
     "status": "completed"
    },
    "tags": []
   },
   "source": [
    "# Concating"
   ]
  },
  {
   "cell_type": "code",
   "execution_count": 43,
   "id": "0a7bd506",
   "metadata": {
    "execution": {
     "iopub.execute_input": "2023-02-15T14:07:53.132662Z",
     "iopub.status.busy": "2023-02-15T14:07:53.132236Z",
     "iopub.status.idle": "2023-02-15T14:07:53.138012Z",
     "shell.execute_reply": "2023-02-15T14:07:53.136714Z"
    },
    "papermill": {
     "duration": 0.040921,
     "end_time": "2023-02-15T14:07:53.140259",
     "exception": false,
     "start_time": "2023-02-15T14:07:53.099338",
     "status": "completed"
    },
    "tags": []
   },
   "outputs": [],
   "source": [
    "final_X_train = pd.concat([X_train_num_std, X_train_cat_dum], axis=1)"
   ]
  },
  {
   "cell_type": "code",
   "execution_count": 44,
   "id": "c4622c64",
   "metadata": {
    "execution": {
     "iopub.execute_input": "2023-02-15T14:07:53.205340Z",
     "iopub.status.busy": "2023-02-15T14:07:53.204164Z",
     "iopub.status.idle": "2023-02-15T14:07:53.210066Z",
     "shell.execute_reply": "2023-02-15T14:07:53.208850Z"
    },
    "papermill": {
     "duration": 0.041115,
     "end_time": "2023-02-15T14:07:53.212663",
     "exception": false,
     "start_time": "2023-02-15T14:07:53.171548",
     "status": "completed"
    },
    "tags": []
   },
   "outputs": [],
   "source": [
    "final_X_val = pd.concat([X_val_num_std, X_val_cat_dum], axis=1)"
   ]
  },
  {
   "cell_type": "code",
   "execution_count": 45,
   "id": "61594d5c",
   "metadata": {
    "execution": {
     "iopub.execute_input": "2023-02-15T14:07:53.278764Z",
     "iopub.status.busy": "2023-02-15T14:07:53.277781Z",
     "iopub.status.idle": "2023-02-15T14:07:53.289583Z",
     "shell.execute_reply": "2023-02-15T14:07:53.288131Z"
    },
    "papermill": {
     "duration": 0.048383,
     "end_time": "2023-02-15T14:07:53.292329",
     "exception": false,
     "start_time": "2023-02-15T14:07:53.243946",
     "status": "completed"
    },
    "tags": []
   },
   "outputs": [
    {
     "data": {
      "text/plain": [
       "Age           0\n",
       "SibSp         0\n",
       "Parch         0\n",
       "Pclass_2      0\n",
       "Pclass_3      0\n",
       "Sex_male      0\n",
       "Embarked_Q    0\n",
       "Embarked_S    0\n",
       "dtype: int64"
      ]
     },
     "execution_count": 45,
     "metadata": {},
     "output_type": "execute_result"
    }
   ],
   "source": [
    "final_X_train.isnull().sum()"
   ]
  },
  {
   "cell_type": "code",
   "execution_count": 46,
   "id": "ad057406",
   "metadata": {
    "execution": {
     "iopub.execute_input": "2023-02-15T14:07:53.357193Z",
     "iopub.status.busy": "2023-02-15T14:07:53.356761Z",
     "iopub.status.idle": "2023-02-15T14:07:53.366496Z",
     "shell.execute_reply": "2023-02-15T14:07:53.364903Z"
    },
    "papermill": {
     "duration": 0.045052,
     "end_time": "2023-02-15T14:07:53.368961",
     "exception": false,
     "start_time": "2023-02-15T14:07:53.323909",
     "status": "completed"
    },
    "tags": []
   },
   "outputs": [
    {
     "data": {
      "text/plain": [
       "Age           0\n",
       "SibSp         0\n",
       "Parch         0\n",
       "Pclass_2      0\n",
       "Pclass_3      0\n",
       "Sex_male      0\n",
       "Embarked_Q    0\n",
       "Embarked_S    0\n",
       "dtype: int64"
      ]
     },
     "execution_count": 46,
     "metadata": {},
     "output_type": "execute_result"
    }
   ],
   "source": [
    "final_X_val.isnull().sum()"
   ]
  },
  {
   "cell_type": "code",
   "execution_count": 47,
   "id": "88727f27",
   "metadata": {
    "execution": {
     "iopub.execute_input": "2023-02-15T14:07:53.434878Z",
     "iopub.status.busy": "2023-02-15T14:07:53.434461Z",
     "iopub.status.idle": "2023-02-15T14:07:53.452809Z",
     "shell.execute_reply": "2023-02-15T14:07:53.451502Z"
    },
    "papermill": {
     "duration": 0.054149,
     "end_time": "2023-02-15T14:07:53.455110",
     "exception": false,
     "start_time": "2023-02-15T14:07:53.400961",
     "status": "completed"
    },
    "tags": []
   },
   "outputs": [
    {
     "data": {
      "text/html": [
       "<div>\n",
       "<style scoped>\n",
       "    .dataframe tbody tr th:only-of-type {\n",
       "        vertical-align: middle;\n",
       "    }\n",
       "\n",
       "    .dataframe tbody tr th {\n",
       "        vertical-align: top;\n",
       "    }\n",
       "\n",
       "    .dataframe thead th {\n",
       "        text-align: right;\n",
       "    }\n",
       "</style>\n",
       "<table border=\"1\" class=\"dataframe\">\n",
       "  <thead>\n",
       "    <tr style=\"text-align: right;\">\n",
       "      <th></th>\n",
       "      <th>Age</th>\n",
       "      <th>SibSp</th>\n",
       "      <th>Parch</th>\n",
       "      <th>Pclass_2</th>\n",
       "      <th>Pclass_3</th>\n",
       "      <th>Sex_male</th>\n",
       "      <th>Embarked_Q</th>\n",
       "      <th>Embarked_S</th>\n",
       "    </tr>\n",
       "  </thead>\n",
       "  <tbody>\n",
       "    <tr>\n",
       "      <th>0</th>\n",
       "      <td>-0.349638</td>\n",
       "      <td>-0.464774</td>\n",
       "      <td>-0.465958</td>\n",
       "      <td>1</td>\n",
       "      <td>0</td>\n",
       "      <td>0</td>\n",
       "      <td>0</td>\n",
       "      <td>1</td>\n",
       "    </tr>\n",
       "    <tr>\n",
       "      <th>1</th>\n",
       "      <td>-0.137370</td>\n",
       "      <td>-0.464774</td>\n",
       "      <td>-0.465958</td>\n",
       "      <td>0</td>\n",
       "      <td>1</td>\n",
       "      <td>1</td>\n",
       "      <td>1</td>\n",
       "      <td>0</td>\n",
       "    </tr>\n",
       "    <tr>\n",
       "      <th>2</th>\n",
       "      <td>-0.137370</td>\n",
       "      <td>-0.464774</td>\n",
       "      <td>-0.465958</td>\n",
       "      <td>0</td>\n",
       "      <td>1</td>\n",
       "      <td>0</td>\n",
       "      <td>1</td>\n",
       "      <td>0</td>\n",
       "    </tr>\n",
       "    <tr>\n",
       "      <th>3</th>\n",
       "      <td>-0.915685</td>\n",
       "      <td>-0.464774</td>\n",
       "      <td>-0.465958</td>\n",
       "      <td>0</td>\n",
       "      <td>1</td>\n",
       "      <td>1</td>\n",
       "      <td>0</td>\n",
       "      <td>1</td>\n",
       "    </tr>\n",
       "    <tr>\n",
       "      <th>4</th>\n",
       "      <td>-0.137370</td>\n",
       "      <td>-0.464774</td>\n",
       "      <td>-0.465958</td>\n",
       "      <td>0</td>\n",
       "      <td>1</td>\n",
       "      <td>1</td>\n",
       "      <td>1</td>\n",
       "      <td>0</td>\n",
       "    </tr>\n",
       "    <tr>\n",
       "      <th>...</th>\n",
       "      <td>...</td>\n",
       "      <td>...</td>\n",
       "      <td>...</td>\n",
       "      <td>...</td>\n",
       "      <td>...</td>\n",
       "      <td>...</td>\n",
       "      <td>...</td>\n",
       "      <td>...</td>\n",
       "    </tr>\n",
       "    <tr>\n",
       "      <th>618</th>\n",
       "      <td>0.428678</td>\n",
       "      <td>-0.464774</td>\n",
       "      <td>-0.465958</td>\n",
       "      <td>0</td>\n",
       "      <td>0</td>\n",
       "      <td>1</td>\n",
       "      <td>0</td>\n",
       "      <td>0</td>\n",
       "    </tr>\n",
       "    <tr>\n",
       "      <th>619</th>\n",
       "      <td>0.782458</td>\n",
       "      <td>0.412663</td>\n",
       "      <td>4.582592</td>\n",
       "      <td>0</td>\n",
       "      <td>1</td>\n",
       "      <td>1</td>\n",
       "      <td>0</td>\n",
       "      <td>1</td>\n",
       "    </tr>\n",
       "    <tr>\n",
       "      <th>620</th>\n",
       "      <td>-0.137370</td>\n",
       "      <td>0.412663</td>\n",
       "      <td>-0.465958</td>\n",
       "      <td>0</td>\n",
       "      <td>0</td>\n",
       "      <td>0</td>\n",
       "      <td>0</td>\n",
       "      <td>1</td>\n",
       "    </tr>\n",
       "    <tr>\n",
       "      <th>621</th>\n",
       "      <td>1.065482</td>\n",
       "      <td>1.290100</td>\n",
       "      <td>-0.465958</td>\n",
       "      <td>0</td>\n",
       "      <td>0</td>\n",
       "      <td>1</td>\n",
       "      <td>1</td>\n",
       "      <td>0</td>\n",
       "    </tr>\n",
       "    <tr>\n",
       "      <th>622</th>\n",
       "      <td>-0.137370</td>\n",
       "      <td>0.412663</td>\n",
       "      <td>-0.465958</td>\n",
       "      <td>0</td>\n",
       "      <td>1</td>\n",
       "      <td>1</td>\n",
       "      <td>1</td>\n",
       "      <td>0</td>\n",
       "    </tr>\n",
       "  </tbody>\n",
       "</table>\n",
       "<p>623 rows × 8 columns</p>\n",
       "</div>"
      ],
      "text/plain": [
       "          Age     SibSp     Parch  Pclass_2  Pclass_3  Sex_male  Embarked_Q  \\\n",
       "0   -0.349638 -0.464774 -0.465958         1         0         0           0   \n",
       "1   -0.137370 -0.464774 -0.465958         0         1         1           1   \n",
       "2   -0.137370 -0.464774 -0.465958         0         1         0           1   \n",
       "3   -0.915685 -0.464774 -0.465958         0         1         1           0   \n",
       "4   -0.137370 -0.464774 -0.465958         0         1         1           1   \n",
       "..        ...       ...       ...       ...       ...       ...         ...   \n",
       "618  0.428678 -0.464774 -0.465958         0         0         1           0   \n",
       "619  0.782458  0.412663  4.582592         0         1         1           0   \n",
       "620 -0.137370  0.412663 -0.465958         0         0         0           0   \n",
       "621  1.065482  1.290100 -0.465958         0         0         1           1   \n",
       "622 -0.137370  0.412663 -0.465958         0         1         1           1   \n",
       "\n",
       "     Embarked_S  \n",
       "0             1  \n",
       "1             0  \n",
       "2             0  \n",
       "3             1  \n",
       "4             0  \n",
       "..          ...  \n",
       "618           0  \n",
       "619           1  \n",
       "620           1  \n",
       "621           0  \n",
       "622           0  \n",
       "\n",
       "[623 rows x 8 columns]"
      ]
     },
     "execution_count": 47,
     "metadata": {},
     "output_type": "execute_result"
    }
   ],
   "source": [
    "final_X_train"
   ]
  },
  {
   "cell_type": "code",
   "execution_count": 48,
   "id": "7da525ff",
   "metadata": {
    "execution": {
     "iopub.execute_input": "2023-02-15T14:07:53.521843Z",
     "iopub.status.busy": "2023-02-15T14:07:53.521455Z",
     "iopub.status.idle": "2023-02-15T14:07:53.538618Z",
     "shell.execute_reply": "2023-02-15T14:07:53.537376Z"
    },
    "papermill": {
     "duration": 0.054379,
     "end_time": "2023-02-15T14:07:53.541287",
     "exception": false,
     "start_time": "2023-02-15T14:07:53.486908",
     "status": "completed"
    },
    "tags": []
   },
   "outputs": [
    {
     "data": {
      "text/html": [
       "<div>\n",
       "<style scoped>\n",
       "    .dataframe tbody tr th:only-of-type {\n",
       "        vertical-align: middle;\n",
       "    }\n",
       "\n",
       "    .dataframe tbody tr th {\n",
       "        vertical-align: top;\n",
       "    }\n",
       "\n",
       "    .dataframe thead th {\n",
       "        text-align: right;\n",
       "    }\n",
       "</style>\n",
       "<table border=\"1\" class=\"dataframe\">\n",
       "  <thead>\n",
       "    <tr style=\"text-align: right;\">\n",
       "      <th></th>\n",
       "      <th>Age</th>\n",
       "      <th>SibSp</th>\n",
       "      <th>Parch</th>\n",
       "      <th>Pclass_2</th>\n",
       "      <th>Pclass_3</th>\n",
       "      <th>Sex_male</th>\n",
       "      <th>Embarked_Q</th>\n",
       "      <th>Embarked_S</th>\n",
       "    </tr>\n",
       "  </thead>\n",
       "  <tbody>\n",
       "    <tr>\n",
       "      <th>0</th>\n",
       "      <td>0.074898</td>\n",
       "      <td>-0.464774</td>\n",
       "      <td>-0.465958</td>\n",
       "      <td>1</td>\n",
       "      <td>0</td>\n",
       "      <td>1</td>\n",
       "      <td>0</td>\n",
       "      <td>1</td>\n",
       "    </tr>\n",
       "    <tr>\n",
       "      <th>1</th>\n",
       "      <td>-0.137370</td>\n",
       "      <td>0.412663</td>\n",
       "      <td>-0.465958</td>\n",
       "      <td>0</td>\n",
       "      <td>0</td>\n",
       "      <td>0</td>\n",
       "      <td>0</td>\n",
       "      <td>1</td>\n",
       "    </tr>\n",
       "    <tr>\n",
       "      <th>2</th>\n",
       "      <td>-1.906269</td>\n",
       "      <td>3.044974</td>\n",
       "      <td>0.796180</td>\n",
       "      <td>0</td>\n",
       "      <td>1</td>\n",
       "      <td>1</td>\n",
       "      <td>1</td>\n",
       "      <td>0</td>\n",
       "    </tr>\n",
       "    <tr>\n",
       "      <th>3</th>\n",
       "      <td>-0.137370</td>\n",
       "      <td>-0.464774</td>\n",
       "      <td>-0.465958</td>\n",
       "      <td>0</td>\n",
       "      <td>1</td>\n",
       "      <td>1</td>\n",
       "      <td>0</td>\n",
       "      <td>1</td>\n",
       "    </tr>\n",
       "    <tr>\n",
       "      <th>4</th>\n",
       "      <td>-0.561906</td>\n",
       "      <td>1.290100</td>\n",
       "      <td>-0.465958</td>\n",
       "      <td>1</td>\n",
       "      <td>0</td>\n",
       "      <td>1</td>\n",
       "      <td>0</td>\n",
       "      <td>1</td>\n",
       "    </tr>\n",
       "    <tr>\n",
       "      <th>...</th>\n",
       "      <td>...</td>\n",
       "      <td>...</td>\n",
       "      <td>...</td>\n",
       "      <td>...</td>\n",
       "      <td>...</td>\n",
       "      <td>...</td>\n",
       "      <td>...</td>\n",
       "      <td>...</td>\n",
       "    </tr>\n",
       "    <tr>\n",
       "      <th>263</th>\n",
       "      <td>0.216410</td>\n",
       "      <td>-0.464774</td>\n",
       "      <td>-0.465958</td>\n",
       "      <td>0</td>\n",
       "      <td>1</td>\n",
       "      <td>1</td>\n",
       "      <td>0</td>\n",
       "      <td>1</td>\n",
       "    </tr>\n",
       "    <tr>\n",
       "      <th>264</th>\n",
       "      <td>-0.349638</td>\n",
       "      <td>0.412663</td>\n",
       "      <td>2.058317</td>\n",
       "      <td>1</td>\n",
       "      <td>0</td>\n",
       "      <td>0</td>\n",
       "      <td>0</td>\n",
       "      <td>1</td>\n",
       "    </tr>\n",
       "    <tr>\n",
       "      <th>265</th>\n",
       "      <td>0.853214</td>\n",
       "      <td>1.290100</td>\n",
       "      <td>-0.465958</td>\n",
       "      <td>0</td>\n",
       "      <td>1</td>\n",
       "      <td>1</td>\n",
       "      <td>0</td>\n",
       "      <td>1</td>\n",
       "    </tr>\n",
       "    <tr>\n",
       "      <th>266</th>\n",
       "      <td>1.490018</td>\n",
       "      <td>1.290100</td>\n",
       "      <td>-0.465958</td>\n",
       "      <td>0</td>\n",
       "      <td>0</td>\n",
       "      <td>1</td>\n",
       "      <td>0</td>\n",
       "      <td>1</td>\n",
       "    </tr>\n",
       "    <tr>\n",
       "      <th>267</th>\n",
       "      <td>0.994726</td>\n",
       "      <td>-0.464774</td>\n",
       "      <td>0.796180</td>\n",
       "      <td>0</td>\n",
       "      <td>0</td>\n",
       "      <td>0</td>\n",
       "      <td>0</td>\n",
       "      <td>1</td>\n",
       "    </tr>\n",
       "  </tbody>\n",
       "</table>\n",
       "<p>268 rows × 8 columns</p>\n",
       "</div>"
      ],
      "text/plain": [
       "          Age     SibSp     Parch  Pclass_2  Pclass_3  Sex_male  Embarked_Q  \\\n",
       "0    0.074898 -0.464774 -0.465958         1         0         1           0   \n",
       "1   -0.137370  0.412663 -0.465958         0         0         0           0   \n",
       "2   -1.906269  3.044974  0.796180         0         1         1           1   \n",
       "3   -0.137370 -0.464774 -0.465958         0         1         1           0   \n",
       "4   -0.561906  1.290100 -0.465958         1         0         1           0   \n",
       "..        ...       ...       ...       ...       ...       ...         ...   \n",
       "263  0.216410 -0.464774 -0.465958         0         1         1           0   \n",
       "264 -0.349638  0.412663  2.058317         1         0         0           0   \n",
       "265  0.853214  1.290100 -0.465958         0         1         1           0   \n",
       "266  1.490018  1.290100 -0.465958         0         0         1           0   \n",
       "267  0.994726 -0.464774  0.796180         0         0         0           0   \n",
       "\n",
       "     Embarked_S  \n",
       "0             1  \n",
       "1             1  \n",
       "2             0  \n",
       "3             1  \n",
       "4             1  \n",
       "..          ...  \n",
       "263           1  \n",
       "264           1  \n",
       "265           1  \n",
       "266           1  \n",
       "267           1  \n",
       "\n",
       "[268 rows x 8 columns]"
      ]
     },
     "execution_count": 48,
     "metadata": {},
     "output_type": "execute_result"
    }
   ],
   "source": [
    "final_X_val"
   ]
  },
  {
   "cell_type": "markdown",
   "id": "08e57b9e",
   "metadata": {
    "papermill": {
     "duration": 0.031951,
     "end_time": "2023-02-15T14:07:53.605892",
     "exception": false,
     "start_time": "2023-02-15T14:07:53.573941",
     "status": "completed"
    },
    "tags": []
   },
   "source": [
    "# Model Building"
   ]
  },
  {
   "cell_type": "markdown",
   "id": "3655bee9",
   "metadata": {
    "papermill": {
     "duration": 0.032197,
     "end_time": "2023-02-15T14:07:53.670254",
     "exception": false,
     "start_time": "2023-02-15T14:07:53.638057",
     "status": "completed"
    },
    "tags": []
   },
   "source": [
    "## Decision Tree"
   ]
  },
  {
   "cell_type": "code",
   "execution_count": 49,
   "id": "9ad2e353",
   "metadata": {
    "execution": {
     "iopub.execute_input": "2023-02-15T14:07:53.808458Z",
     "iopub.status.busy": "2023-02-15T14:07:53.808063Z",
     "iopub.status.idle": "2023-02-15T14:07:53.839904Z",
     "shell.execute_reply": "2023-02-15T14:07:53.839010Z"
    },
    "papermill": {
     "duration": 0.06868,
     "end_time": "2023-02-15T14:07:53.842537",
     "exception": false,
     "start_time": "2023-02-15T14:07:53.773857",
     "status": "completed"
    },
    "tags": []
   },
   "outputs": [],
   "source": [
    "from sklearn import tree"
   ]
  },
  {
   "cell_type": "code",
   "execution_count": 50,
   "id": "e9994963",
   "metadata": {
    "execution": {
     "iopub.execute_input": "2023-02-15T14:07:53.908876Z",
     "iopub.status.busy": "2023-02-15T14:07:53.908191Z",
     "iopub.status.idle": "2023-02-15T14:07:53.918223Z",
     "shell.execute_reply": "2023-02-15T14:07:53.917011Z"
    },
    "papermill": {
     "duration": 0.046116,
     "end_time": "2023-02-15T14:07:53.920888",
     "exception": false,
     "start_time": "2023-02-15T14:07:53.874772",
     "status": "completed"
    },
    "tags": []
   },
   "outputs": [],
   "source": [
    "dt = tree.DecisionTreeClassifier()\n",
    "dt = dt.fit(final_X_train, y_train)"
   ]
  },
  {
   "cell_type": "code",
   "execution_count": 51,
   "id": "c4f2a25a",
   "metadata": {
    "execution": {
     "iopub.execute_input": "2023-02-15T14:07:53.988758Z",
     "iopub.status.busy": "2023-02-15T14:07:53.988050Z",
     "iopub.status.idle": "2023-02-15T14:07:53.998236Z",
     "shell.execute_reply": "2023-02-15T14:07:53.997000Z"
    },
    "papermill": {
     "duration": 0.04751,
     "end_time": "2023-02-15T14:07:54.000617",
     "exception": false,
     "start_time": "2023-02-15T14:07:53.953107",
     "status": "completed"
    },
    "tags": []
   },
   "outputs": [
    {
     "data": {
      "text/plain": [
       "array([0, 0, 1, 0, 0, 0, 0, 0, 0, 1])"
      ]
     },
     "execution_count": 51,
     "metadata": {},
     "output_type": "execute_result"
    }
   ],
   "source": [
    "y_train_preds = dt.predict(final_X_train)\n",
    "y_train_preds[0:10]"
   ]
  },
  {
   "cell_type": "code",
   "execution_count": 52,
   "id": "461dc89c",
   "metadata": {
    "execution": {
     "iopub.execute_input": "2023-02-15T14:07:54.067802Z",
     "iopub.status.busy": "2023-02-15T14:07:54.067405Z",
     "iopub.status.idle": "2023-02-15T14:07:54.076777Z",
     "shell.execute_reply": "2023-02-15T14:07:54.075618Z"
    },
    "papermill": {
     "duration": 0.045617,
     "end_time": "2023-02-15T14:07:54.079326",
     "exception": false,
     "start_time": "2023-02-15T14:07:54.033709",
     "status": "completed"
    },
    "tags": []
   },
   "outputs": [
    {
     "data": {
      "text/plain": [
       "array([0, 1, 0, 0, 0, 0, 1, 0, 1, 1])"
      ]
     },
     "execution_count": 52,
     "metadata": {},
     "output_type": "execute_result"
    }
   ],
   "source": [
    "y_val_preds = dt.predict(final_X_val)\n",
    "y_val_preds[0:10]"
   ]
  },
  {
   "cell_type": "code",
   "execution_count": 53,
   "id": "0e618df0",
   "metadata": {
    "execution": {
     "iopub.execute_input": "2023-02-15T14:07:54.146138Z",
     "iopub.status.busy": "2023-02-15T14:07:54.145745Z",
     "iopub.status.idle": "2023-02-15T14:07:54.156456Z",
     "shell.execute_reply": "2023-02-15T14:07:54.155593Z"
    },
    "papermill": {
     "duration": 0.047136,
     "end_time": "2023-02-15T14:07:54.158702",
     "exception": false,
     "start_time": "2023-02-15T14:07:54.111566",
     "status": "completed"
    },
    "tags": []
   },
   "outputs": [
    {
     "data": {
      "text/plain": [
       "array([[380,   4],\n",
       "       [ 35, 204]])"
      ]
     },
     "execution_count": 53,
     "metadata": {},
     "output_type": "execute_result"
    }
   ],
   "source": [
    "from sklearn.metrics import confusion_matrix\n",
    "confusionmatrix = confusion_matrix(y_train,y_train_preds)\n",
    "confusionmatrix"
   ]
  },
  {
   "cell_type": "code",
   "execution_count": 54,
   "id": "389167e0",
   "metadata": {
    "execution": {
     "iopub.execute_input": "2023-02-15T14:07:54.225486Z",
     "iopub.status.busy": "2023-02-15T14:07:54.224758Z",
     "iopub.status.idle": "2023-02-15T14:07:54.231688Z",
     "shell.execute_reply": "2023-02-15T14:07:54.230866Z"
    },
    "papermill": {
     "duration": 0.042674,
     "end_time": "2023-02-15T14:07:54.233865",
     "exception": false,
     "start_time": "2023-02-15T14:07:54.191191",
     "status": "completed"
    },
    "tags": []
   },
   "outputs": [
    {
     "data": {
      "text/plain": [
       "array([[142,  23],\n",
       "       [ 37,  66]])"
      ]
     },
     "execution_count": 54,
     "metadata": {},
     "output_type": "execute_result"
    }
   ],
   "source": [
    "confusionmatrix = confusion_matrix(y_val,y_val_preds)\n",
    "confusionmatrix"
   ]
  },
  {
   "cell_type": "code",
   "execution_count": 55,
   "id": "dad35c29",
   "metadata": {
    "execution": {
     "iopub.execute_input": "2023-02-15T14:07:54.302347Z",
     "iopub.status.busy": "2023-02-15T14:07:54.301563Z",
     "iopub.status.idle": "2023-02-15T14:07:54.312464Z",
     "shell.execute_reply": "2023-02-15T14:07:54.311140Z"
    },
    "papermill": {
     "duration": 0.047087,
     "end_time": "2023-02-15T14:07:54.314733",
     "exception": false,
     "start_time": "2023-02-15T14:07:54.267646",
     "status": "completed"
    },
    "tags": []
   },
   "outputs": [
    {
     "name": "stdout",
     "output_type": "stream",
     "text": [
      "              precision    recall  f1-score   support\n",
      "\n",
      "           0       0.92      0.99      0.95       384\n",
      "           1       0.98      0.85      0.91       239\n",
      "\n",
      "    accuracy                           0.94       623\n",
      "   macro avg       0.95      0.92      0.93       623\n",
      "weighted avg       0.94      0.94      0.94       623\n",
      "\n"
     ]
    }
   ],
   "source": [
    "from sklearn import metrics\n",
    "print(metrics.classification_report(y_train,y_train_preds))"
   ]
  },
  {
   "cell_type": "code",
   "execution_count": 56,
   "id": "1abb28be",
   "metadata": {
    "execution": {
     "iopub.execute_input": "2023-02-15T14:07:54.382073Z",
     "iopub.status.busy": "2023-02-15T14:07:54.381397Z",
     "iopub.status.idle": "2023-02-15T14:07:54.391788Z",
     "shell.execute_reply": "2023-02-15T14:07:54.390380Z"
    },
    "papermill": {
     "duration": 0.047493,
     "end_time": "2023-02-15T14:07:54.394449",
     "exception": false,
     "start_time": "2023-02-15T14:07:54.346956",
     "status": "completed"
    },
    "tags": []
   },
   "outputs": [
    {
     "name": "stdout",
     "output_type": "stream",
     "text": [
      "              precision    recall  f1-score   support\n",
      "\n",
      "           0       0.79      0.86      0.83       165\n",
      "           1       0.74      0.64      0.69       103\n",
      "\n",
      "    accuracy                           0.78       268\n",
      "   macro avg       0.77      0.75      0.76       268\n",
      "weighted avg       0.77      0.78      0.77       268\n",
      "\n"
     ]
    }
   ],
   "source": [
    "print(metrics.classification_report(y_val,y_val_preds))"
   ]
  },
  {
   "cell_type": "markdown",
   "id": "f7c40ee2",
   "metadata": {
    "papermill": {
     "duration": 0.032699,
     "end_time": "2023-02-15T14:07:54.460272",
     "exception": false,
     "start_time": "2023-02-15T14:07:54.427573",
     "status": "completed"
    },
    "tags": []
   },
   "source": [
    "# Random Forest"
   ]
  },
  {
   "cell_type": "code",
   "execution_count": 57,
   "id": "e02b5440",
   "metadata": {
    "execution": {
     "iopub.execute_input": "2023-02-15T14:07:54.528339Z",
     "iopub.status.busy": "2023-02-15T14:07:54.527594Z",
     "iopub.status.idle": "2023-02-15T14:07:54.597796Z",
     "shell.execute_reply": "2023-02-15T14:07:54.596412Z"
    },
    "papermill": {
     "duration": 0.107406,
     "end_time": "2023-02-15T14:07:54.600654",
     "exception": false,
     "start_time": "2023-02-15T14:07:54.493248",
     "status": "completed"
    },
    "tags": []
   },
   "outputs": [],
   "source": [
    "from sklearn.ensemble import RandomForestClassifier"
   ]
  },
  {
   "cell_type": "code",
   "execution_count": 58,
   "id": "67ad61b3",
   "metadata": {
    "execution": {
     "iopub.execute_input": "2023-02-15T14:07:54.668695Z",
     "iopub.status.busy": "2023-02-15T14:07:54.668192Z",
     "iopub.status.idle": "2023-02-15T14:07:54.764752Z",
     "shell.execute_reply": "2023-02-15T14:07:54.763391Z"
    },
    "papermill": {
     "duration": 0.13355,
     "end_time": "2023-02-15T14:07:54.767340",
     "exception": false,
     "start_time": "2023-02-15T14:07:54.633790",
     "status": "completed"
    },
    "tags": []
   },
   "outputs": [],
   "source": [
    "rfc = RandomForestClassifier(n_estimators = 50, max_depth = 10, criterion=\"entropy\")\n",
    "rfc = rfc.fit(final_X_train, y_train)"
   ]
  },
  {
   "cell_type": "code",
   "execution_count": 59,
   "id": "4ecb812c",
   "metadata": {
    "execution": {
     "iopub.execute_input": "2023-02-15T14:07:54.834812Z",
     "iopub.status.busy": "2023-02-15T14:07:54.834430Z",
     "iopub.status.idle": "2023-02-15T14:07:54.856689Z",
     "shell.execute_reply": "2023-02-15T14:07:54.855260Z"
    },
    "papermill": {
     "duration": 0.059141,
     "end_time": "2023-02-15T14:07:54.859236",
     "exception": false,
     "start_time": "2023-02-15T14:07:54.800095",
     "status": "completed"
    },
    "tags": []
   },
   "outputs": [
    {
     "data": {
      "text/plain": [
       "array([0, 0, 1, 0, 0, 0, 0, 0, 0, 1])"
      ]
     },
     "execution_count": 59,
     "metadata": {},
     "output_type": "execute_result"
    }
   ],
   "source": [
    "y_train_preds = rfc.predict(final_X_train)\n",
    "y_train_preds[0:10]"
   ]
  },
  {
   "cell_type": "code",
   "execution_count": 60,
   "id": "3b9e86f0",
   "metadata": {
    "execution": {
     "iopub.execute_input": "2023-02-15T14:07:54.928399Z",
     "iopub.status.busy": "2023-02-15T14:07:54.927961Z",
     "iopub.status.idle": "2023-02-15T14:07:54.947878Z",
     "shell.execute_reply": "2023-02-15T14:07:54.946543Z"
    },
    "papermill": {
     "duration": 0.057736,
     "end_time": "2023-02-15T14:07:54.950412",
     "exception": false,
     "start_time": "2023-02-15T14:07:54.892676",
     "status": "completed"
    },
    "tags": []
   },
   "outputs": [
    {
     "data": {
      "text/plain": [
       "array([0, 1, 0, 0, 0, 0, 1, 0, 1, 0])"
      ]
     },
     "execution_count": 60,
     "metadata": {},
     "output_type": "execute_result"
    }
   ],
   "source": [
    "y_val_preds = rfc.predict(final_X_val)\n",
    "y_val_preds[0:10]"
   ]
  },
  {
   "cell_type": "code",
   "execution_count": 61,
   "id": "57827426",
   "metadata": {
    "execution": {
     "iopub.execute_input": "2023-02-15T14:07:55.018522Z",
     "iopub.status.busy": "2023-02-15T14:07:55.018093Z",
     "iopub.status.idle": "2023-02-15T14:07:55.028168Z",
     "shell.execute_reply": "2023-02-15T14:07:55.026998Z"
    },
    "papermill": {
     "duration": 0.047087,
     "end_time": "2023-02-15T14:07:55.030598",
     "exception": false,
     "start_time": "2023-02-15T14:07:54.983511",
     "status": "completed"
    },
    "tags": []
   },
   "outputs": [
    {
     "data": {
      "text/plain": [
       "array([[142,  23],\n",
       "       [ 37,  66]])"
      ]
     },
     "execution_count": 61,
     "metadata": {},
     "output_type": "execute_result"
    }
   ],
   "source": [
    "from sklearn.metrics import confusion_matrix\n",
    "confusionma2trix = confusion_matrix(y_train,y_train_preds)\n",
    "confusionmatrix"
   ]
  },
  {
   "cell_type": "code",
   "execution_count": 62,
   "id": "3b693ffe",
   "metadata": {
    "execution": {
     "iopub.execute_input": "2023-02-15T14:07:55.100270Z",
     "iopub.status.busy": "2023-02-15T14:07:55.099391Z",
     "iopub.status.idle": "2023-02-15T14:07:55.108798Z",
     "shell.execute_reply": "2023-02-15T14:07:55.107503Z"
    },
    "papermill": {
     "duration": 0.047434,
     "end_time": "2023-02-15T14:07:55.111406",
     "exception": false,
     "start_time": "2023-02-15T14:07:55.063972",
     "status": "completed"
    },
    "tags": []
   },
   "outputs": [
    {
     "data": {
      "text/plain": [
       "array([[155,  10],\n",
       "       [ 36,  67]])"
      ]
     },
     "execution_count": 62,
     "metadata": {},
     "output_type": "execute_result"
    }
   ],
   "source": [
    "confusionmatrix = confusion_matrix(y_val,y_val_preds)\n",
    "confusionmatrix"
   ]
  },
  {
   "cell_type": "code",
   "execution_count": 63,
   "id": "558503d6",
   "metadata": {
    "execution": {
     "iopub.execute_input": "2023-02-15T14:07:55.182516Z",
     "iopub.status.busy": "2023-02-15T14:07:55.182079Z",
     "iopub.status.idle": "2023-02-15T14:07:55.194100Z",
     "shell.execute_reply": "2023-02-15T14:07:55.192554Z"
    },
    "papermill": {
     "duration": 0.050286,
     "end_time": "2023-02-15T14:07:55.196781",
     "exception": false,
     "start_time": "2023-02-15T14:07:55.146495",
     "status": "completed"
    },
    "tags": []
   },
   "outputs": [
    {
     "name": "stdout",
     "output_type": "stream",
     "text": [
      "              precision    recall  f1-score   support\n",
      "\n",
      "           0       0.90      0.99      0.94       384\n",
      "           1       0.97      0.82      0.89       239\n",
      "\n",
      "    accuracy                           0.92       623\n",
      "   macro avg       0.94      0.90      0.91       623\n",
      "weighted avg       0.93      0.92      0.92       623\n",
      "\n"
     ]
    }
   ],
   "source": [
    "from sklearn import metrics\n",
    "print(metrics.classification_report(y_train,y_train_preds))"
   ]
  },
  {
   "cell_type": "code",
   "execution_count": 64,
   "id": "20bd15f1",
   "metadata": {
    "execution": {
     "iopub.execute_input": "2023-02-15T14:07:55.265611Z",
     "iopub.status.busy": "2023-02-15T14:07:55.265175Z",
     "iopub.status.idle": "2023-02-15T14:07:55.277628Z",
     "shell.execute_reply": "2023-02-15T14:07:55.276166Z"
    },
    "papermill": {
     "duration": 0.049637,
     "end_time": "2023-02-15T14:07:55.280077",
     "exception": false,
     "start_time": "2023-02-15T14:07:55.230440",
     "status": "completed"
    },
    "tags": []
   },
   "outputs": [
    {
     "name": "stdout",
     "output_type": "stream",
     "text": [
      "              precision    recall  f1-score   support\n",
      "\n",
      "           0       0.81      0.94      0.87       165\n",
      "           1       0.87      0.65      0.74       103\n",
      "\n",
      "    accuracy                           0.83       268\n",
      "   macro avg       0.84      0.79      0.81       268\n",
      "weighted avg       0.83      0.83      0.82       268\n",
      "\n"
     ]
    }
   ],
   "source": [
    "print(metrics.classification_report(y_val,y_val_preds))"
   ]
  },
  {
   "cell_type": "markdown",
   "id": "f5215ab4",
   "metadata": {
    "papermill": {
     "duration": 0.036707,
     "end_time": "2023-02-15T14:07:55.352880",
     "exception": false,
     "start_time": "2023-02-15T14:07:55.316173",
     "status": "completed"
    },
    "tags": []
   },
   "source": [
    "## XG Booost"
   ]
  },
  {
   "cell_type": "code",
   "execution_count": 65,
   "id": "f1cc84be",
   "metadata": {
    "execution": {
     "iopub.execute_input": "2023-02-15T14:07:55.422744Z",
     "iopub.status.busy": "2023-02-15T14:07:55.422346Z",
     "iopub.status.idle": "2023-02-15T14:07:55.552237Z",
     "shell.execute_reply": "2023-02-15T14:07:55.550990Z"
    },
    "papermill": {
     "duration": 0.168788,
     "end_time": "2023-02-15T14:07:55.555192",
     "exception": false,
     "start_time": "2023-02-15T14:07:55.386404",
     "status": "completed"
    },
    "tags": []
   },
   "outputs": [],
   "source": [
    "from xgboost import XGBClassifier"
   ]
  },
  {
   "cell_type": "code",
   "execution_count": 66,
   "id": "a02d3b39",
   "metadata": {
    "execution": {
     "iopub.execute_input": "2023-02-15T14:07:55.624903Z",
     "iopub.status.busy": "2023-02-15T14:07:55.624521Z",
     "iopub.status.idle": "2023-02-15T14:07:56.410673Z",
     "shell.execute_reply": "2023-02-15T14:07:56.409729Z"
    },
    "papermill": {
     "duration": 0.824911,
     "end_time": "2023-02-15T14:07:56.413670",
     "exception": false,
     "start_time": "2023-02-15T14:07:55.588759",
     "status": "completed"
    },
    "tags": []
   },
   "outputs": [],
   "source": [
    "xgb = XGBClassifier()\n",
    "xgb = xgb.fit(final_X_train, y_train)"
   ]
  },
  {
   "cell_type": "code",
   "execution_count": 67,
   "id": "1db4a837",
   "metadata": {
    "execution": {
     "iopub.execute_input": "2023-02-15T14:07:56.485147Z",
     "iopub.status.busy": "2023-02-15T14:07:56.484727Z",
     "iopub.status.idle": "2023-02-15T14:07:56.530390Z",
     "shell.execute_reply": "2023-02-15T14:07:56.529362Z"
    },
    "papermill": {
     "duration": 0.084556,
     "end_time": "2023-02-15T14:07:56.533307",
     "exception": false,
     "start_time": "2023-02-15T14:07:56.448751",
     "status": "completed"
    },
    "tags": []
   },
   "outputs": [
    {
     "data": {
      "text/plain": [
       "array([1, 0, 1, 0, 0, 0, 0, 0, 0, 1])"
      ]
     },
     "execution_count": 67,
     "metadata": {},
     "output_type": "execute_result"
    }
   ],
   "source": [
    "y_train_preds = xgb.predict(final_X_train)\n",
    "y_train_preds[0:10]"
   ]
  },
  {
   "cell_type": "code",
   "execution_count": 68,
   "id": "703edafa",
   "metadata": {
    "execution": {
     "iopub.execute_input": "2023-02-15T14:07:56.607884Z",
     "iopub.status.busy": "2023-02-15T14:07:56.606832Z",
     "iopub.status.idle": "2023-02-15T14:07:56.661382Z",
     "shell.execute_reply": "2023-02-15T14:07:56.660193Z"
    },
    "papermill": {
     "duration": 0.096766,
     "end_time": "2023-02-15T14:07:56.664827",
     "exception": false,
     "start_time": "2023-02-15T14:07:56.568061",
     "status": "completed"
    },
    "tags": []
   },
   "outputs": [
    {
     "data": {
      "text/plain": [
       "array([0, 1, 0, 0, 0, 0, 0, 0, 1, 0])"
      ]
     },
     "execution_count": 68,
     "metadata": {},
     "output_type": "execute_result"
    }
   ],
   "source": [
    "y_val_preds = xgb.predict(final_X_val)\n",
    "y_val_preds[0:10]"
   ]
  },
  {
   "cell_type": "code",
   "execution_count": 69,
   "id": "6ddc53e4",
   "metadata": {
    "execution": {
     "iopub.execute_input": "2023-02-15T14:07:56.736919Z",
     "iopub.status.busy": "2023-02-15T14:07:56.736410Z",
     "iopub.status.idle": "2023-02-15T14:07:56.746773Z",
     "shell.execute_reply": "2023-02-15T14:07:56.745568Z"
    },
    "papermill": {
     "duration": 0.04831,
     "end_time": "2023-02-15T14:07:56.749179",
     "exception": false,
     "start_time": "2023-02-15T14:07:56.700869",
     "status": "completed"
    },
    "tags": []
   },
   "outputs": [
    {
     "data": {
      "text/plain": [
       "array([[371,  13],\n",
       "       [ 40, 199]])"
      ]
     },
     "execution_count": 69,
     "metadata": {},
     "output_type": "execute_result"
    }
   ],
   "source": [
    "from sklearn.metrics import confusion_matrix\n",
    "confusionmatrix = confusion_matrix(y_train,y_train_preds)\n",
    "confusionmatrix"
   ]
  },
  {
   "cell_type": "code",
   "execution_count": 70,
   "id": "40801f7e",
   "metadata": {
    "execution": {
     "iopub.execute_input": "2023-02-15T14:07:56.822245Z",
     "iopub.status.busy": "2023-02-15T14:07:56.820971Z",
     "iopub.status.idle": "2023-02-15T14:07:56.830467Z",
     "shell.execute_reply": "2023-02-15T14:07:56.829361Z"
    },
    "papermill": {
     "duration": 0.048084,
     "end_time": "2023-02-15T14:07:56.832903",
     "exception": false,
     "start_time": "2023-02-15T14:07:56.784819",
     "status": "completed"
    },
    "tags": []
   },
   "outputs": [
    {
     "data": {
      "text/plain": [
       "array([[141,  24],\n",
       "       [ 34,  69]])"
      ]
     },
     "execution_count": 70,
     "metadata": {},
     "output_type": "execute_result"
    }
   ],
   "source": [
    "confusionmatrix = confusion_matrix(y_val,y_val_preds)\n",
    "confusionmatrix"
   ]
  },
  {
   "cell_type": "code",
   "execution_count": 71,
   "id": "7c7fe120",
   "metadata": {
    "execution": {
     "iopub.execute_input": "2023-02-15T14:07:56.907205Z",
     "iopub.status.busy": "2023-02-15T14:07:56.906818Z",
     "iopub.status.idle": "2023-02-15T14:07:56.919773Z",
     "shell.execute_reply": "2023-02-15T14:07:56.918149Z"
    },
    "papermill": {
     "duration": 0.055108,
     "end_time": "2023-02-15T14:07:56.922575",
     "exception": false,
     "start_time": "2023-02-15T14:07:56.867467",
     "status": "completed"
    },
    "tags": []
   },
   "outputs": [
    {
     "name": "stdout",
     "output_type": "stream",
     "text": [
      "              precision    recall  f1-score   support\n",
      "\n",
      "           0       0.90      0.97      0.93       384\n",
      "           1       0.94      0.83      0.88       239\n",
      "\n",
      "    accuracy                           0.91       623\n",
      "   macro avg       0.92      0.90      0.91       623\n",
      "weighted avg       0.92      0.91      0.91       623\n",
      "\n"
     ]
    }
   ],
   "source": [
    "from sklearn import metrics\n",
    "print(metrics.classification_report(y_train,y_train_preds))"
   ]
  },
  {
   "cell_type": "code",
   "execution_count": 72,
   "id": "8eea5c6d",
   "metadata": {
    "execution": {
     "iopub.execute_input": "2023-02-15T14:07:56.992178Z",
     "iopub.status.busy": "2023-02-15T14:07:56.991768Z",
     "iopub.status.idle": "2023-02-15T14:07:57.004229Z",
     "shell.execute_reply": "2023-02-15T14:07:57.002032Z"
    },
    "papermill": {
     "duration": 0.050843,
     "end_time": "2023-02-15T14:07:57.007429",
     "exception": false,
     "start_time": "2023-02-15T14:07:56.956586",
     "status": "completed"
    },
    "tags": []
   },
   "outputs": [
    {
     "name": "stdout",
     "output_type": "stream",
     "text": [
      "              precision    recall  f1-score   support\n",
      "\n",
      "           0       0.81      0.85      0.83       165\n",
      "           1       0.74      0.67      0.70       103\n",
      "\n",
      "    accuracy                           0.78       268\n",
      "   macro avg       0.77      0.76      0.77       268\n",
      "weighted avg       0.78      0.78      0.78       268\n",
      "\n"
     ]
    }
   ],
   "source": [
    "print(metrics.classification_report(y_val,y_val_preds))"
   ]
  },
  {
   "cell_type": "markdown",
   "id": "7eb12b9d",
   "metadata": {
    "papermill": {
     "duration": 0.033701,
     "end_time": "2023-02-15T14:07:57.075889",
     "exception": false,
     "start_time": "2023-02-15T14:07:57.042188",
     "status": "completed"
    },
    "tags": []
   },
   "source": [
    "## KNN Classifier"
   ]
  },
  {
   "cell_type": "code",
   "execution_count": 73,
   "id": "52978ec6",
   "metadata": {
    "execution": {
     "iopub.execute_input": "2023-02-15T14:07:57.146535Z",
     "iopub.status.busy": "2023-02-15T14:07:57.146120Z",
     "iopub.status.idle": "2023-02-15T14:07:57.151751Z",
     "shell.execute_reply": "2023-02-15T14:07:57.150306Z"
    },
    "papermill": {
     "duration": 0.04411,
     "end_time": "2023-02-15T14:07:57.154071",
     "exception": false,
     "start_time": "2023-02-15T14:07:57.109961",
     "status": "completed"
    },
    "tags": []
   },
   "outputs": [],
   "source": [
    "from sklearn.neighbors import KNeighborsClassifier"
   ]
  },
  {
   "cell_type": "code",
   "execution_count": 74,
   "id": "f45f013e",
   "metadata": {
    "execution": {
     "iopub.execute_input": "2023-02-15T14:07:57.224404Z",
     "iopub.status.busy": "2023-02-15T14:07:57.223979Z",
     "iopub.status.idle": "2023-02-15T14:07:57.232141Z",
     "shell.execute_reply": "2023-02-15T14:07:57.231268Z"
    },
    "papermill": {
     "duration": 0.046045,
     "end_time": "2023-02-15T14:07:57.234204",
     "exception": false,
     "start_time": "2023-02-15T14:07:57.188159",
     "status": "completed"
    },
    "tags": []
   },
   "outputs": [],
   "source": [
    "knn = KNeighborsClassifier()\n",
    "knn = knn.fit(final_X_train, y_train)"
   ]
  },
  {
   "cell_type": "code",
   "execution_count": 75,
   "id": "b4fa3039",
   "metadata": {
    "execution": {
     "iopub.execute_input": "2023-02-15T14:07:57.305029Z",
     "iopub.status.busy": "2023-02-15T14:07:57.304603Z",
     "iopub.status.idle": "2023-02-15T14:07:57.335595Z",
     "shell.execute_reply": "2023-02-15T14:07:57.334464Z"
    },
    "papermill": {
     "duration": 0.069068,
     "end_time": "2023-02-15T14:07:57.338046",
     "exception": false,
     "start_time": "2023-02-15T14:07:57.268978",
     "status": "completed"
    },
    "tags": []
   },
   "outputs": [
    {
     "data": {
      "text/plain": [
       "array([1, 0, 1, 0, 0, 1, 0, 0, 0, 1])"
      ]
     },
     "execution_count": 75,
     "metadata": {},
     "output_type": "execute_result"
    }
   ],
   "source": [
    "y_train_preds = knn.predict(final_X_train)\n",
    "y_train_preds[0:10]"
   ]
  },
  {
   "cell_type": "code",
   "execution_count": 76,
   "id": "857a3f56",
   "metadata": {
    "execution": {
     "iopub.execute_input": "2023-02-15T14:07:57.415716Z",
     "iopub.status.busy": "2023-02-15T14:07:57.415331Z",
     "iopub.status.idle": "2023-02-15T14:07:57.438153Z",
     "shell.execute_reply": "2023-02-15T14:07:57.437221Z"
    },
    "papermill": {
     "duration": 0.068191,
     "end_time": "2023-02-15T14:07:57.440804",
     "exception": false,
     "start_time": "2023-02-15T14:07:57.372613",
     "status": "completed"
    },
    "tags": []
   },
   "outputs": [
    {
     "data": {
      "text/plain": [
       "array([0, 1, 0, 0, 0, 1, 0, 0, 1, 0])"
      ]
     },
     "execution_count": 76,
     "metadata": {},
     "output_type": "execute_result"
    }
   ],
   "source": [
    "y_val_preds = knn.predict(final_X_val)\n",
    "y_val_preds[0:10]"
   ]
  },
  {
   "cell_type": "code",
   "execution_count": 77,
   "id": "94a94101",
   "metadata": {
    "execution": {
     "iopub.execute_input": "2023-02-15T14:07:57.515016Z",
     "iopub.status.busy": "2023-02-15T14:07:57.514249Z",
     "iopub.status.idle": "2023-02-15T14:07:57.532168Z",
     "shell.execute_reply": "2023-02-15T14:07:57.531009Z"
    },
    "papermill": {
     "duration": 0.058893,
     "end_time": "2023-02-15T14:07:57.535107",
     "exception": false,
     "start_time": "2023-02-15T14:07:57.476214",
     "status": "completed"
    },
    "tags": []
   },
   "outputs": [
    {
     "data": {
      "text/plain": [
       "array([[345,  39],\n",
       "       [ 58, 181]])"
      ]
     },
     "execution_count": 77,
     "metadata": {},
     "output_type": "execute_result"
    }
   ],
   "source": [
    "from sklearn.metrics import confusion_matrix, classification_report\n",
    "confusionmatrix = confusion_matrix(y_train,y_train_preds)\n",
    "class_report_train = classification_report(y_train,y_train_preds)\n",
    "confusionmatrix"
   ]
  },
  {
   "cell_type": "code",
   "execution_count": 78,
   "id": "d4ec61cd",
   "metadata": {
    "execution": {
     "iopub.execute_input": "2023-02-15T14:07:57.607927Z",
     "iopub.status.busy": "2023-02-15T14:07:57.606956Z",
     "iopub.status.idle": "2023-02-15T14:07:57.613941Z",
     "shell.execute_reply": "2023-02-15T14:07:57.612173Z"
    },
    "papermill": {
     "duration": 0.046851,
     "end_time": "2023-02-15T14:07:57.617739",
     "exception": false,
     "start_time": "2023-02-15T14:07:57.570888",
     "status": "completed"
    },
    "tags": []
   },
   "outputs": [
    {
     "name": "stdout",
     "output_type": "stream",
     "text": [
      "              precision    recall  f1-score   support\n",
      "\n",
      "           0       0.86      0.90      0.88       384\n",
      "           1       0.82      0.76      0.79       239\n",
      "\n",
      "    accuracy                           0.84       623\n",
      "   macro avg       0.84      0.83      0.83       623\n",
      "weighted avg       0.84      0.84      0.84       623\n",
      "\n"
     ]
    }
   ],
   "source": [
    "print(class_report_train)"
   ]
  },
  {
   "cell_type": "code",
   "execution_count": 79,
   "id": "981723ad",
   "metadata": {
    "execution": {
     "iopub.execute_input": "2023-02-15T14:07:57.691359Z",
     "iopub.status.busy": "2023-02-15T14:07:57.690648Z",
     "iopub.status.idle": "2023-02-15T14:07:57.703987Z",
     "shell.execute_reply": "2023-02-15T14:07:57.703072Z"
    },
    "papermill": {
     "duration": 0.052477,
     "end_time": "2023-02-15T14:07:57.706324",
     "exception": false,
     "start_time": "2023-02-15T14:07:57.653847",
     "status": "completed"
    },
    "tags": []
   },
   "outputs": [
    {
     "data": {
      "text/plain": [
       "array([[144,  21],\n",
       "       [ 29,  74]])"
      ]
     },
     "execution_count": 79,
     "metadata": {},
     "output_type": "execute_result"
    }
   ],
   "source": [
    "confusionmatrix = confusion_matrix(y_val,y_val_preds)\n",
    "class_report_val = classification_report(y_val,y_val_preds)\n",
    "confusionmatrix"
   ]
  },
  {
   "cell_type": "code",
   "execution_count": 80,
   "id": "8957edeb",
   "metadata": {
    "execution": {
     "iopub.execute_input": "2023-02-15T14:07:57.779053Z",
     "iopub.status.busy": "2023-02-15T14:07:57.777953Z",
     "iopub.status.idle": "2023-02-15T14:07:57.784483Z",
     "shell.execute_reply": "2023-02-15T14:07:57.782697Z"
    },
    "papermill": {
     "duration": 0.046826,
     "end_time": "2023-02-15T14:07:57.788317",
     "exception": false,
     "start_time": "2023-02-15T14:07:57.741491",
     "status": "completed"
    },
    "tags": []
   },
   "outputs": [
    {
     "name": "stdout",
     "output_type": "stream",
     "text": [
      "              precision    recall  f1-score   support\n",
      "\n",
      "           0       0.83      0.87      0.85       165\n",
      "           1       0.78      0.72      0.75       103\n",
      "\n",
      "    accuracy                           0.81       268\n",
      "   macro avg       0.81      0.80      0.80       268\n",
      "weighted avg       0.81      0.81      0.81       268\n",
      "\n"
     ]
    }
   ],
   "source": [
    "print(class_report_val)"
   ]
  },
  {
   "attachments": {
    "f2575b02-6f99-4a51-82fb-978c978ea2af.png": {
     "image/png": "[encoded data removed]"
    }
   },
   "cell_type": "markdown",
   "id": "0baf20bc",
   "metadata": {
    "papermill": {
     "duration": 0.034068,
     "end_time": "2023-02-15T14:07:57.857513",
     "exception": false,
     "start_time": "2023-02-15T14:07:57.823445",
     "status": "completed"
    },
    "tags": []
   },
   "source": [
    "![image.png](attachment:f2575b02-6f99-4a51-82fb-978c978ea2af.png)"
   ]
  },
  {
   "cell_type": "markdown",
   "id": "eba67c42",
   "metadata": {
    "papermill": {
     "duration": 0.034138,
     "end_time": "2023-02-15T14:07:57.925969",
     "exception": false,
     "start_time": "2023-02-15T14:07:57.891831",
     "status": "completed"
    },
    "tags": []
   },
   "source": [
    "# Importing the test data\n"
   ]
  },
  {
   "cell_type": "code",
   "execution_count": 81,
   "id": "57c069b2",
   "metadata": {
    "execution": {
     "iopub.execute_input": "2023-02-15T14:07:57.999011Z",
     "iopub.status.busy": "2023-02-15T14:07:57.998357Z",
     "iopub.status.idle": "2023-02-15T14:07:58.014240Z",
     "shell.execute_reply": "2023-02-15T14:07:58.012681Z"
    },
    "papermill": {
     "duration": 0.056804,
     "end_time": "2023-02-15T14:07:58.017361",
     "exception": false,
     "start_time": "2023-02-15T14:07:57.960557",
     "status": "completed"
    },
    "tags": []
   },
   "outputs": [],
   "source": [
    "test_df=pd.read_csv(\"test.csv\",na_values=['.',':','?','!','@','#','$','%','^','&','*',','])"
   ]
  },
  {
   "cell_type": "code",
   "execution_count": 82,
   "id": "3a1fe027",
   "metadata": {
    "execution": {
     "iopub.execute_input": "2023-02-15T14:07:58.090547Z",
     "iopub.status.busy": "2023-02-15T14:07:58.090124Z",
     "iopub.status.idle": "2023-02-15T14:07:58.112954Z",
     "shell.execute_reply": "2023-02-15T14:07:58.112056Z"
    },
    "papermill": {
     "duration": 0.061878,
     "end_time": "2023-02-15T14:07:58.115285",
     "exception": false,
     "start_time": "2023-02-15T14:07:58.053407",
     "status": "completed"
    },
    "tags": []
   },
   "outputs": [
    {
     "data": {
      "text/html": [
       "<div>\n",
       "<style scoped>\n",
       "    .dataframe tbody tr th:only-of-type {\n",
       "        vertical-align: middle;\n",
       "    }\n",
       "\n",
       "    .dataframe tbody tr th {\n",
       "        vertical-align: top;\n",
       "    }\n",
       "\n",
       "    .dataframe thead th {\n",
       "        text-align: right;\n",
       "    }\n",
       "</style>\n",
       "<table border=\"1\" class=\"dataframe\">\n",
       "  <thead>\n",
       "    <tr style=\"text-align: right;\">\n",
       "      <th></th>\n",
       "      <th>PassengerId</th>\n",
       "      <th>Pclass</th>\n",
       "      <th>Name</th>\n",
       "      <th>Sex</th>\n",
       "      <th>Age</th>\n",
       "      <th>SibSp</th>\n",
       "      <th>Parch</th>\n",
       "      <th>Ticket</th>\n",
       "      <th>Fare</th>\n",
       "      <th>Cabin</th>\n",
       "      <th>Embarked</th>\n",
       "    </tr>\n",
       "  </thead>\n",
       "  <tbody>\n",
       "    <tr>\n",
       "      <th>0</th>\n",
       "      <td>892</td>\n",
       "      <td>3</td>\n",
       "      <td>Kelly, Mr. James</td>\n",
       "      <td>male</td>\n",
       "      <td>34.5</td>\n",
       "      <td>0</td>\n",
       "      <td>0</td>\n",
       "      <td>330911</td>\n",
       "      <td>7.8292</td>\n",
       "      <td>NaN</td>\n",
       "      <td>Q</td>\n",
       "    </tr>\n",
       "    <tr>\n",
       "      <th>1</th>\n",
       "      <td>893</td>\n",
       "      <td>3</td>\n",
       "      <td>Wilkes, Mrs. James (Ellen Needs)</td>\n",
       "      <td>female</td>\n",
       "      <td>47.0</td>\n",
       "      <td>1</td>\n",
       "      <td>0</td>\n",
       "      <td>363272</td>\n",
       "      <td>7.0000</td>\n",
       "      <td>NaN</td>\n",
       "      <td>S</td>\n",
       "    </tr>\n",
       "    <tr>\n",
       "      <th>2</th>\n",
       "      <td>894</td>\n",
       "      <td>2</td>\n",
       "      <td>Myles, Mr. Thomas Francis</td>\n",
       "      <td>male</td>\n",
       "      <td>62.0</td>\n",
       "      <td>0</td>\n",
       "      <td>0</td>\n",
       "      <td>240276</td>\n",
       "      <td>9.6875</td>\n",
       "      <td>NaN</td>\n",
       "      <td>Q</td>\n",
       "    </tr>\n",
       "    <tr>\n",
       "      <th>3</th>\n",
       "      <td>895</td>\n",
       "      <td>3</td>\n",
       "      <td>Wirz, Mr. Albert</td>\n",
       "      <td>male</td>\n",
       "      <td>27.0</td>\n",
       "      <td>0</td>\n",
       "      <td>0</td>\n",
       "      <td>315154</td>\n",
       "      <td>8.6625</td>\n",
       "      <td>NaN</td>\n",
       "      <td>S</td>\n",
       "    </tr>\n",
       "    <tr>\n",
       "      <th>4</th>\n",
       "      <td>896</td>\n",
       "      <td>3</td>\n",
       "      <td>Hirvonen, Mrs. Alexander (Helga E Lindqvist)</td>\n",
       "      <td>female</td>\n",
       "      <td>22.0</td>\n",
       "      <td>1</td>\n",
       "      <td>1</td>\n",
       "      <td>3101298</td>\n",
       "      <td>12.2875</td>\n",
       "      <td>NaN</td>\n",
       "      <td>S</td>\n",
       "    </tr>\n",
       "    <tr>\n",
       "      <th>...</th>\n",
       "      <td>...</td>\n",
       "      <td>...</td>\n",
       "      <td>...</td>\n",
       "      <td>...</td>\n",
       "      <td>...</td>\n",
       "      <td>...</td>\n",
       "      <td>...</td>\n",
       "      <td>...</td>\n",
       "      <td>...</td>\n",
       "      <td>...</td>\n",
       "      <td>...</td>\n",
       "    </tr>\n",
       "    <tr>\n",
       "      <th>413</th>\n",
       "      <td>1305</td>\n",
       "      <td>3</td>\n",
       "      <td>Spector, Mr. Woolf</td>\n",
       "      <td>male</td>\n",
       "      <td>NaN</td>\n",
       "      <td>0</td>\n",
       "      <td>0</td>\n",
       "      <td>A.5. 3236</td>\n",
       "      <td>8.0500</td>\n",
       "      <td>NaN</td>\n",
       "      <td>S</td>\n",
       "    </tr>\n",
       "    <tr>\n",
       "      <th>414</th>\n",
       "      <td>1306</td>\n",
       "      <td>1</td>\n",
       "      <td>Oliva y Ocana, Dona. Fermina</td>\n",
       "      <td>female</td>\n",
       "      <td>39.0</td>\n",
       "      <td>0</td>\n",
       "      <td>0</td>\n",
       "      <td>PC 17758</td>\n",
       "      <td>108.9000</td>\n",
       "      <td>C105</td>\n",
       "      <td>C</td>\n",
       "    </tr>\n",
       "    <tr>\n",
       "      <th>415</th>\n",
       "      <td>1307</td>\n",
       "      <td>3</td>\n",
       "      <td>Saether, Mr. Simon Sivertsen</td>\n",
       "      <td>male</td>\n",
       "      <td>38.5</td>\n",
       "      <td>0</td>\n",
       "      <td>0</td>\n",
       "      <td>SOTON/O.Q. 3101262</td>\n",
       "      <td>7.2500</td>\n",
       "      <td>NaN</td>\n",
       "      <td>S</td>\n",
       "    </tr>\n",
       "    <tr>\n",
       "      <th>416</th>\n",
       "      <td>1308</td>\n",
       "      <td>3</td>\n",
       "      <td>Ware, Mr. Frederick</td>\n",
       "      <td>male</td>\n",
       "      <td>NaN</td>\n",
       "      <td>0</td>\n",
       "      <td>0</td>\n",
       "      <td>359309</td>\n",
       "      <td>8.0500</td>\n",
       "      <td>NaN</td>\n",
       "      <td>S</td>\n",
       "    </tr>\n",
       "    <tr>\n",
       "      <th>417</th>\n",
       "      <td>1309</td>\n",
       "      <td>3</td>\n",
       "      <td>Peter, Master. Michael J</td>\n",
       "      <td>male</td>\n",
       "      <td>NaN</td>\n",
       "      <td>1</td>\n",
       "      <td>1</td>\n",
       "      <td>2668</td>\n",
       "      <td>22.3583</td>\n",
       "      <td>NaN</td>\n",
       "      <td>C</td>\n",
       "    </tr>\n",
       "  </tbody>\n",
       "</table>\n",
       "<p>418 rows × 11 columns</p>\n",
       "</div>"
      ],
      "text/plain": [
       "     PassengerId  Pclass                                          Name  \\\n",
       "0            892       3                              Kelly, Mr. James   \n",
       "1            893       3              Wilkes, Mrs. James (Ellen Needs)   \n",
       "2            894       2                     Myles, Mr. Thomas Francis   \n",
       "3            895       3                              Wirz, Mr. Albert   \n",
       "4            896       3  Hirvonen, Mrs. Alexander (Helga E Lindqvist)   \n",
       "..           ...     ...                                           ...   \n",
       "413         1305       3                            Spector, Mr. Woolf   \n",
       "414         1306       1                  Oliva y Ocana, Dona. Fermina   \n",
       "415         1307       3                  Saether, Mr. Simon Sivertsen   \n",
       "416         1308       3                           Ware, Mr. Frederick   \n",
       "417         1309       3                      Peter, Master. Michael J   \n",
       "\n",
       "        Sex   Age  SibSp  Parch              Ticket      Fare Cabin Embarked  \n",
       "0      male  34.5      0      0              330911    7.8292   NaN        Q  \n",
       "1    female  47.0      1      0              363272    7.0000   NaN        S  \n",
       "2      male  62.0      0      0              240276    9.6875   NaN        Q  \n",
       "3      male  27.0      0      0              315154    8.6625   NaN        S  \n",
       "4    female  22.0      1      1             3101298   12.2875   NaN        S  \n",
       "..      ...   ...    ...    ...                 ...       ...   ...      ...  \n",
       "413    male   NaN      0      0           A.5. 3236    8.0500   NaN        S  \n",
       "414  female  39.0      0      0            PC 17758  108.9000  C105        C  \n",
       "415    male  38.5      0      0  SOTON/O.Q. 3101262    7.2500   NaN        S  \n",
       "416    male   NaN      0      0              359309    8.0500   NaN        S  \n",
       "417    male   NaN      1      1                2668   22.3583   NaN        C  \n",
       "\n",
       "[418 rows x 11 columns]"
      ]
     },
     "execution_count": 82,
     "metadata": {},
     "output_type": "execute_result"
    }
   ],
   "source": [
    "test_df"
   ]
  },
  {
   "cell_type": "code",
   "execution_count": 83,
   "id": "a04df100",
   "metadata": {
    "execution": {
     "iopub.execute_input": "2023-02-15T14:07:58.188897Z",
     "iopub.status.busy": "2023-02-15T14:07:58.187941Z",
     "iopub.status.idle": "2023-02-15T14:07:58.216790Z",
     "shell.execute_reply": "2023-02-15T14:07:58.215759Z"
    },
    "papermill": {
     "duration": 0.067916,
     "end_time": "2023-02-15T14:07:58.219311",
     "exception": false,
     "start_time": "2023-02-15T14:07:58.151395",
     "status": "completed"
    },
    "tags": []
   },
   "outputs": [
    {
     "data": {
      "text/html": [
       "<div>\n",
       "<style scoped>\n",
       "    .dataframe tbody tr th:only-of-type {\n",
       "        vertical-align: middle;\n",
       "    }\n",
       "\n",
       "    .dataframe tbody tr th {\n",
       "        vertical-align: top;\n",
       "    }\n",
       "\n",
       "    .dataframe thead th {\n",
       "        text-align: right;\n",
       "    }\n",
       "</style>\n",
       "<table border=\"1\" class=\"dataframe\">\n",
       "  <thead>\n",
       "    <tr style=\"text-align: right;\">\n",
       "      <th></th>\n",
       "      <th>PassengerId</th>\n",
       "      <th>Pclass</th>\n",
       "      <th>Age</th>\n",
       "      <th>SibSp</th>\n",
       "      <th>Parch</th>\n",
       "      <th>Fare</th>\n",
       "    </tr>\n",
       "  </thead>\n",
       "  <tbody>\n",
       "    <tr>\n",
       "      <th>count</th>\n",
       "      <td>418.000000</td>\n",
       "      <td>418.000000</td>\n",
       "      <td>332.000000</td>\n",
       "      <td>418.000000</td>\n",
       "      <td>418.000000</td>\n",
       "      <td>417.000000</td>\n",
       "    </tr>\n",
       "    <tr>\n",
       "      <th>mean</th>\n",
       "      <td>1100.500000</td>\n",
       "      <td>2.265550</td>\n",
       "      <td>30.272590</td>\n",
       "      <td>0.447368</td>\n",
       "      <td>0.392344</td>\n",
       "      <td>35.627188</td>\n",
       "    </tr>\n",
       "    <tr>\n",
       "      <th>std</th>\n",
       "      <td>120.810458</td>\n",
       "      <td>0.841838</td>\n",
       "      <td>14.181209</td>\n",
       "      <td>0.896760</td>\n",
       "      <td>0.981429</td>\n",
       "      <td>55.907576</td>\n",
       "    </tr>\n",
       "    <tr>\n",
       "      <th>min</th>\n",
       "      <td>892.000000</td>\n",
       "      <td>1.000000</td>\n",
       "      <td>0.170000</td>\n",
       "      <td>0.000000</td>\n",
       "      <td>0.000000</td>\n",
       "      <td>0.000000</td>\n",
       "    </tr>\n",
       "    <tr>\n",
       "      <th>25%</th>\n",
       "      <td>996.250000</td>\n",
       "      <td>1.000000</td>\n",
       "      <td>21.000000</td>\n",
       "      <td>0.000000</td>\n",
       "      <td>0.000000</td>\n",
       "      <td>7.895800</td>\n",
       "    </tr>\n",
       "    <tr>\n",
       "      <th>50%</th>\n",
       "      <td>1100.500000</td>\n",
       "      <td>3.000000</td>\n",
       "      <td>27.000000</td>\n",
       "      <td>0.000000</td>\n",
       "      <td>0.000000</td>\n",
       "      <td>14.454200</td>\n",
       "    </tr>\n",
       "    <tr>\n",
       "      <th>75%</th>\n",
       "      <td>1204.750000</td>\n",
       "      <td>3.000000</td>\n",
       "      <td>39.000000</td>\n",
       "      <td>1.000000</td>\n",
       "      <td>0.000000</td>\n",
       "      <td>31.500000</td>\n",
       "    </tr>\n",
       "    <tr>\n",
       "      <th>max</th>\n",
       "      <td>1309.000000</td>\n",
       "      <td>3.000000</td>\n",
       "      <td>76.000000</td>\n",
       "      <td>8.000000</td>\n",
       "      <td>9.000000</td>\n",
       "      <td>512.329200</td>\n",
       "    </tr>\n",
       "  </tbody>\n",
       "</table>\n",
       "</div>"
      ],
      "text/plain": [
       "       PassengerId      Pclass         Age       SibSp       Parch        Fare\n",
       "count   418.000000  418.000000  332.000000  418.000000  418.000000  417.000000\n",
       "mean   1100.500000    2.265550   30.272590    0.447368    0.392344   35.627188\n",
       "std     120.810458    0.841838   14.181209    0.896760    0.981429   55.907576\n",
       "min     892.000000    1.000000    0.170000    0.000000    0.000000    0.000000\n",
       "25%     996.250000    1.000000   21.000000    0.000000    0.000000    7.895800\n",
       "50%    1100.500000    3.000000   27.000000    0.000000    0.000000   14.454200\n",
       "75%    1204.750000    3.000000   39.000000    1.000000    0.000000   31.500000\n",
       "max    1309.000000    3.000000   76.000000    8.000000    9.000000  512.329200"
      ]
     },
     "execution_count": 83,
     "metadata": {},
     "output_type": "execute_result"
    }
   ],
   "source": [
    "test_df.describe()"
   ]
  },
  {
   "cell_type": "code",
   "execution_count": 84,
   "id": "1166fc99",
   "metadata": {
    "execution": {
     "iopub.execute_input": "2023-02-15T14:07:58.292406Z",
     "iopub.status.busy": "2023-02-15T14:07:58.291688Z",
     "iopub.status.idle": "2023-02-15T14:07:58.299628Z",
     "shell.execute_reply": "2023-02-15T14:07:58.298370Z"
    },
    "papermill": {
     "duration": 0.047433,
     "end_time": "2023-02-15T14:07:58.301998",
     "exception": false,
     "start_time": "2023-02-15T14:07:58.254565",
     "status": "completed"
    },
    "tags": []
   },
   "outputs": [
    {
     "data": {
      "text/plain": [
       "PassengerId      int64\n",
       "Pclass           int64\n",
       "Name            object\n",
       "Sex             object\n",
       "Age            float64\n",
       "SibSp            int64\n",
       "Parch            int64\n",
       "Ticket          object\n",
       "Fare           float64\n",
       "Cabin           object\n",
       "Embarked        object\n",
       "dtype: object"
      ]
     },
     "execution_count": 84,
     "metadata": {},
     "output_type": "execute_result"
    }
   ],
   "source": [
    "test_df.dtypes"
   ]
  },
  {
   "cell_type": "code",
   "execution_count": 85,
   "id": "9824fcd6",
   "metadata": {
    "execution": {
     "iopub.execute_input": "2023-02-15T14:07:58.377062Z",
     "iopub.status.busy": "2023-02-15T14:07:58.376360Z",
     "iopub.status.idle": "2023-02-15T14:07:58.385813Z",
     "shell.execute_reply": "2023-02-15T14:07:58.384651Z"
    },
    "papermill": {
     "duration": 0.050783,
     "end_time": "2023-02-15T14:07:58.388117",
     "exception": false,
     "start_time": "2023-02-15T14:07:58.337334",
     "status": "completed"
    },
    "tags": []
   },
   "outputs": [
    {
     "data": {
      "text/plain": [
       "PassengerId    418\n",
       "Pclass           3\n",
       "Name           418\n",
       "Sex              2\n",
       "Age             79\n",
       "SibSp            7\n",
       "Parch            8\n",
       "Ticket         363\n",
       "Fare           169\n",
       "Cabin           76\n",
       "Embarked         3\n",
       "dtype: int64"
      ]
     },
     "execution_count": 85,
     "metadata": {},
     "output_type": "execute_result"
    }
   ],
   "source": [
    "test_df.nunique()"
   ]
  },
  {
   "cell_type": "code",
   "execution_count": 86,
   "id": "a73e3cc5",
   "metadata": {
    "execution": {
     "iopub.execute_input": "2023-02-15T14:07:58.463878Z",
     "iopub.status.busy": "2023-02-15T14:07:58.463103Z",
     "iopub.status.idle": "2023-02-15T14:07:58.476094Z",
     "shell.execute_reply": "2023-02-15T14:07:58.474863Z"
    },
    "papermill": {
     "duration": 0.053686,
     "end_time": "2023-02-15T14:07:58.478425",
     "exception": false,
     "start_time": "2023-02-15T14:07:58.424739",
     "status": "completed"
    },
    "tags": []
   },
   "outputs": [
    {
     "data": {
      "text/html": [
       "<div>\n",
       "<style scoped>\n",
       "    .dataframe tbody tr th:only-of-type {\n",
       "        vertical-align: middle;\n",
       "    }\n",
       "\n",
       "    .dataframe tbody tr th {\n",
       "        vertical-align: top;\n",
       "    }\n",
       "\n",
       "    .dataframe thead th {\n",
       "        text-align: right;\n",
       "    }\n",
       "</style>\n",
       "<table border=\"1\" class=\"dataframe\">\n",
       "  <thead>\n",
       "    <tr style=\"text-align: right;\">\n",
       "      <th></th>\n",
       "      <th>PassengerId</th>\n",
       "    </tr>\n",
       "  </thead>\n",
       "  <tbody>\n",
       "    <tr>\n",
       "      <th>0</th>\n",
       "      <td>892</td>\n",
       "    </tr>\n",
       "    <tr>\n",
       "      <th>1</th>\n",
       "      <td>893</td>\n",
       "    </tr>\n",
       "    <tr>\n",
       "      <th>2</th>\n",
       "      <td>894</td>\n",
       "    </tr>\n",
       "    <tr>\n",
       "      <th>3</th>\n",
       "      <td>895</td>\n",
       "    </tr>\n",
       "    <tr>\n",
       "      <th>4</th>\n",
       "      <td>896</td>\n",
       "    </tr>\n",
       "    <tr>\n",
       "      <th>...</th>\n",
       "      <td>...</td>\n",
       "    </tr>\n",
       "    <tr>\n",
       "      <th>413</th>\n",
       "      <td>1305</td>\n",
       "    </tr>\n",
       "    <tr>\n",
       "      <th>414</th>\n",
       "      <td>1306</td>\n",
       "    </tr>\n",
       "    <tr>\n",
       "      <th>415</th>\n",
       "      <td>1307</td>\n",
       "    </tr>\n",
       "    <tr>\n",
       "      <th>416</th>\n",
       "      <td>1308</td>\n",
       "    </tr>\n",
       "    <tr>\n",
       "      <th>417</th>\n",
       "      <td>1309</td>\n",
       "    </tr>\n",
       "  </tbody>\n",
       "</table>\n",
       "<p>418 rows × 1 columns</p>\n",
       "</div>"
      ],
      "text/plain": [
       "     PassengerId\n",
       "0            892\n",
       "1            893\n",
       "2            894\n",
       "3            895\n",
       "4            896\n",
       "..           ...\n",
       "413         1305\n",
       "414         1306\n",
       "415         1307\n",
       "416         1308\n",
       "417         1309\n",
       "\n",
       "[418 rows x 1 columns]"
      ]
     },
     "execution_count": 86,
     "metadata": {},
     "output_type": "execute_result"
    }
   ],
   "source": [
    "label = test_df.filter([\"PassengerId\"], axis=1)\n",
    "label"
   ]
  },
  {
   "cell_type": "code",
   "execution_count": 87,
   "id": "46054d05",
   "metadata": {
    "execution": {
     "iopub.execute_input": "2023-02-15T14:07:58.554056Z",
     "iopub.status.busy": "2023-02-15T14:07:58.553634Z",
     "iopub.status.idle": "2023-02-15T14:07:58.559922Z",
     "shell.execute_reply": "2023-02-15T14:07:58.558776Z"
    },
    "papermill": {
     "duration": 0.046667,
     "end_time": "2023-02-15T14:07:58.562214",
     "exception": false,
     "start_time": "2023-02-15T14:07:58.515547",
     "status": "completed"
    },
    "tags": []
   },
   "outputs": [],
   "source": [
    "test_df = test_df.drop([\"Name\",\"Ticket\",\"Fare\",\"Cabin\",\"PassengerId\"], axis=1)"
   ]
  },
  {
   "cell_type": "code",
   "execution_count": 88,
   "id": "3d8c7d8c",
   "metadata": {
    "execution": {
     "iopub.execute_input": "2023-02-15T14:07:58.635779Z",
     "iopub.status.busy": "2023-02-15T14:07:58.635356Z",
     "iopub.status.idle": "2023-02-15T14:07:58.645750Z",
     "shell.execute_reply": "2023-02-15T14:07:58.644556Z"
    },
    "papermill": {
     "duration": 0.050616,
     "end_time": "2023-02-15T14:07:58.648524",
     "exception": false,
     "start_time": "2023-02-15T14:07:58.597908",
     "status": "completed"
    },
    "tags": []
   },
   "outputs": [
    {
     "data": {
      "text/plain": [
       "Pclass       0\n",
       "Sex          0\n",
       "Age         86\n",
       "SibSp        0\n",
       "Parch        0\n",
       "Embarked     0\n",
       "dtype: int64"
      ]
     },
     "execution_count": 88,
     "metadata": {},
     "output_type": "execute_result"
    }
   ],
   "source": [
    "test_df.isnull().sum()"
   ]
  },
  {
   "cell_type": "code",
   "execution_count": 89,
   "id": "b701a73e",
   "metadata": {
    "execution": {
     "iopub.execute_input": "2023-02-15T14:07:58.724475Z",
     "iopub.status.busy": "2023-02-15T14:07:58.724070Z",
     "iopub.status.idle": "2023-02-15T14:07:58.731073Z",
     "shell.execute_reply": "2023-02-15T14:07:58.729841Z"
    },
    "papermill": {
     "duration": 0.048153,
     "end_time": "2023-02-15T14:07:58.733364",
     "exception": false,
     "start_time": "2023-02-15T14:07:58.685211",
     "status": "completed"
    },
    "tags": []
   },
   "outputs": [
    {
     "data": {
      "text/plain": [
       "Index(['Pclass', 'Sex', 'Age', 'SibSp', 'Parch', 'Embarked'], dtype='object')"
      ]
     },
     "execution_count": 89,
     "metadata": {},
     "output_type": "execute_result"
    }
   ],
   "source": [
    "test_df.columns"
   ]
  },
  {
   "cell_type": "code",
   "execution_count": 90,
   "id": "2065a788",
   "metadata": {
    "execution": {
     "iopub.execute_input": "2023-02-15T14:07:58.809246Z",
     "iopub.status.busy": "2023-02-15T14:07:58.808827Z",
     "iopub.status.idle": "2023-02-15T14:07:58.819180Z",
     "shell.execute_reply": "2023-02-15T14:07:58.817922Z"
    },
    "papermill": {
     "duration": 0.051751,
     "end_time": "2023-02-15T14:07:58.822067",
     "exception": false,
     "start_time": "2023-02-15T14:07:58.770316",
     "status": "completed"
    },
    "tags": []
   },
   "outputs": [],
   "source": [
    "for col in ['Pclass','Sex','Embarked']:\n",
    "    test_df[col] = test_df[col].astype('category')"
   ]
  },
  {
   "cell_type": "code",
   "execution_count": 91,
   "id": "b13d6cb6",
   "metadata": {
    "execution": {
     "iopub.execute_input": "2023-02-15T14:07:58.899259Z",
     "iopub.status.busy": "2023-02-15T14:07:58.898016Z",
     "iopub.status.idle": "2023-02-15T14:07:58.907259Z",
     "shell.execute_reply": "2023-02-15T14:07:58.906126Z"
    },
    "papermill": {
     "duration": 0.050368,
     "end_time": "2023-02-15T14:07:58.909425",
     "exception": false,
     "start_time": "2023-02-15T14:07:58.859057",
     "status": "completed"
    },
    "tags": []
   },
   "outputs": [
    {
     "data": {
      "text/plain": [
       "Pclass      category\n",
       "Sex         category\n",
       "Age          float64\n",
       "SibSp          int64\n",
       "Parch          int64\n",
       "Embarked    category\n",
       "dtype: object"
      ]
     },
     "execution_count": 91,
     "metadata": {},
     "output_type": "execute_result"
    }
   ],
   "source": [
    "test_df.dtypes"
   ]
  },
  {
   "cell_type": "markdown",
   "id": "2ccfef3d",
   "metadata": {
    "papermill": {
     "duration": 0.035977,
     "end_time": "2023-02-15T14:07:58.981629",
     "exception": false,
     "start_time": "2023-02-15T14:07:58.945652",
     "status": "completed"
    },
    "tags": []
   },
   "source": [
    "## Imputation"
   ]
  },
  {
   "cell_type": "code",
   "execution_count": 92,
   "id": "271521c1",
   "metadata": {
    "execution": {
     "iopub.execute_input": "2023-02-15T14:07:59.059607Z",
     "iopub.status.busy": "2023-02-15T14:07:59.059144Z",
     "iopub.status.idle": "2023-02-15T14:07:59.069060Z",
     "shell.execute_reply": "2023-02-15T14:07:59.067863Z"
    },
    "papermill": {
     "duration": 0.053507,
     "end_time": "2023-02-15T14:07:59.071640",
     "exception": false,
     "start_time": "2023-02-15T14:07:59.018133",
     "status": "completed"
    },
    "tags": []
   },
   "outputs": [],
   "source": [
    "test_num_imp = pd.DataFrame(imputer_num.transform(test_df[num_cols]), columns=(test_df[num_cols]).columns)"
   ]
  },
  {
   "cell_type": "code",
   "execution_count": 93,
   "id": "ca89546a",
   "metadata": {
    "execution": {
     "iopub.execute_input": "2023-02-15T14:07:59.145649Z",
     "iopub.status.busy": "2023-02-15T14:07:59.145203Z",
     "iopub.status.idle": "2023-02-15T14:07:59.154849Z",
     "shell.execute_reply": "2023-02-15T14:07:59.153841Z"
    },
    "papermill": {
     "duration": 0.049262,
     "end_time": "2023-02-15T14:07:59.157173",
     "exception": false,
     "start_time": "2023-02-15T14:07:59.107911",
     "status": "completed"
    },
    "tags": []
   },
   "outputs": [
    {
     "data": {
      "text/plain": [
       "Age      0\n",
       "SibSp    0\n",
       "Parch    0\n",
       "dtype: int64"
      ]
     },
     "execution_count": 93,
     "metadata": {},
     "output_type": "execute_result"
    }
   ],
   "source": [
    "test_num_imp.isnull().sum()"
   ]
  },
  {
   "cell_type": "code",
   "execution_count": 94,
   "id": "4b1926ce",
   "metadata": {
    "execution": {
     "iopub.execute_input": "2023-02-15T14:07:59.235880Z",
     "iopub.status.busy": "2023-02-15T14:07:59.235480Z",
     "iopub.status.idle": "2023-02-15T14:07:59.246558Z",
     "shell.execute_reply": "2023-02-15T14:07:59.245244Z"
    },
    "papermill": {
     "duration": 0.052688,
     "end_time": "2023-02-15T14:07:59.249037",
     "exception": false,
     "start_time": "2023-02-15T14:07:59.196349",
     "status": "completed"
    },
    "tags": []
   },
   "outputs": [],
   "source": [
    "test_cat_imp = pd.DataFrame(imputer_cat.transform(test_df[cat_cols]), columns=(test_df[cat_cols]).columns)"
   ]
  },
  {
   "cell_type": "code",
   "execution_count": 95,
   "id": "45062317",
   "metadata": {
    "execution": {
     "iopub.execute_input": "2023-02-15T14:07:59.323081Z",
     "iopub.status.busy": "2023-02-15T14:07:59.322703Z",
     "iopub.status.idle": "2023-02-15T14:07:59.332260Z",
     "shell.execute_reply": "2023-02-15T14:07:59.331051Z"
    },
    "papermill": {
     "duration": 0.049336,
     "end_time": "2023-02-15T14:07:59.334500",
     "exception": false,
     "start_time": "2023-02-15T14:07:59.285164",
     "status": "completed"
    },
    "tags": []
   },
   "outputs": [
    {
     "data": {
      "text/plain": [
       "Pclass      0\n",
       "Sex         0\n",
       "Embarked    0\n",
       "dtype: int64"
      ]
     },
     "execution_count": 95,
     "metadata": {},
     "output_type": "execute_result"
    }
   ],
   "source": [
    "test_cat_imp.isnull().sum()"
   ]
  },
  {
   "cell_type": "markdown",
   "id": "b01372a6",
   "metadata": {
    "papermill": {
     "duration": 0.038519,
     "end_time": "2023-02-15T14:07:59.409667",
     "exception": false,
     "start_time": "2023-02-15T14:07:59.371148",
     "status": "completed"
    },
    "tags": []
   },
   "source": [
    "## Standardization"
   ]
  },
  {
   "cell_type": "code",
   "execution_count": 96,
   "id": "2c7d4097",
   "metadata": {
    "execution": {
     "iopub.execute_input": "2023-02-15T14:07:59.485166Z",
     "iopub.status.busy": "2023-02-15T14:07:59.484766Z",
     "iopub.status.idle": "2023-02-15T14:07:59.501569Z",
     "shell.execute_reply": "2023-02-15T14:07:59.500380Z"
    },
    "papermill": {
     "duration": 0.057805,
     "end_time": "2023-02-15T14:07:59.503888",
     "exception": false,
     "start_time": "2023-02-15T14:07:59.446083",
     "status": "completed"
    },
    "tags": []
   },
   "outputs": [
    {
     "data": {
      "text/html": [
       "<div>\n",
       "<style scoped>\n",
       "    .dataframe tbody tr th:only-of-type {\n",
       "        vertical-align: middle;\n",
       "    }\n",
       "\n",
       "    .dataframe tbody tr th {\n",
       "        vertical-align: top;\n",
       "    }\n",
       "\n",
       "    .dataframe thead th {\n",
       "        text-align: right;\n",
       "    }\n",
       "</style>\n",
       "<table border=\"1\" class=\"dataframe\">\n",
       "  <thead>\n",
       "    <tr style=\"text-align: right;\">\n",
       "      <th></th>\n",
       "      <th>Age</th>\n",
       "      <th>SibSp</th>\n",
       "      <th>Parch</th>\n",
       "    </tr>\n",
       "  </thead>\n",
       "  <tbody>\n",
       "    <tr>\n",
       "      <th>0</th>\n",
       "      <td>0.393300</td>\n",
       "      <td>-0.464774</td>\n",
       "      <td>-0.465958</td>\n",
       "    </tr>\n",
       "    <tr>\n",
       "      <th>1</th>\n",
       "      <td>1.277750</td>\n",
       "      <td>0.412663</td>\n",
       "      <td>-0.465958</td>\n",
       "    </tr>\n",
       "    <tr>\n",
       "      <th>2</th>\n",
       "      <td>2.339089</td>\n",
       "      <td>-0.464774</td>\n",
       "      <td>-0.465958</td>\n",
       "    </tr>\n",
       "    <tr>\n",
       "      <th>3</th>\n",
       "      <td>-0.137370</td>\n",
       "      <td>-0.464774</td>\n",
       "      <td>-0.465958</td>\n",
       "    </tr>\n",
       "    <tr>\n",
       "      <th>4</th>\n",
       "      <td>-0.491150</td>\n",
       "      <td>0.412663</td>\n",
       "      <td>0.796180</td>\n",
       "    </tr>\n",
       "    <tr>\n",
       "      <th>...</th>\n",
       "      <td>...</td>\n",
       "      <td>...</td>\n",
       "      <td>...</td>\n",
       "    </tr>\n",
       "    <tr>\n",
       "      <th>413</th>\n",
       "      <td>-0.137370</td>\n",
       "      <td>-0.464774</td>\n",
       "      <td>-0.465958</td>\n",
       "    </tr>\n",
       "    <tr>\n",
       "      <th>414</th>\n",
       "      <td>0.711702</td>\n",
       "      <td>-0.464774</td>\n",
       "      <td>-0.465958</td>\n",
       "    </tr>\n",
       "    <tr>\n",
       "      <th>415</th>\n",
       "      <td>0.676324</td>\n",
       "      <td>-0.464774</td>\n",
       "      <td>-0.465958</td>\n",
       "    </tr>\n",
       "    <tr>\n",
       "      <th>416</th>\n",
       "      <td>-0.137370</td>\n",
       "      <td>-0.464774</td>\n",
       "      <td>-0.465958</td>\n",
       "    </tr>\n",
       "    <tr>\n",
       "      <th>417</th>\n",
       "      <td>-0.137370</td>\n",
       "      <td>0.412663</td>\n",
       "      <td>0.796180</td>\n",
       "    </tr>\n",
       "  </tbody>\n",
       "</table>\n",
       "<p>418 rows × 3 columns</p>\n",
       "</div>"
      ],
      "text/plain": [
       "          Age     SibSp     Parch\n",
       "0    0.393300 -0.464774 -0.465958\n",
       "1    1.277750  0.412663 -0.465958\n",
       "2    2.339089 -0.464774 -0.465958\n",
       "3   -0.137370 -0.464774 -0.465958\n",
       "4   -0.491150  0.412663  0.796180\n",
       "..        ...       ...       ...\n",
       "413 -0.137370 -0.464774 -0.465958\n",
       "414  0.711702 -0.464774 -0.465958\n",
       "415  0.676324 -0.464774 -0.465958\n",
       "416 -0.137370 -0.464774 -0.465958\n",
       "417 -0.137370  0.412663  0.796180\n",
       "\n",
       "[418 rows x 3 columns]"
      ]
     },
     "execution_count": 96,
     "metadata": {},
     "output_type": "execute_result"
    }
   ],
   "source": [
    "test_num_std = pd.DataFrame(scaler.transform(test_num_imp), columns=(test_num_imp).columns)\n",
    "test_num_std"
   ]
  },
  {
   "cell_type": "markdown",
   "id": "667a1a12",
   "metadata": {
    "papermill": {
     "duration": 0.036692,
     "end_time": "2023-02-15T14:07:59.577026",
     "exception": false,
     "start_time": "2023-02-15T14:07:59.540334",
     "status": "completed"
    },
    "tags": []
   },
   "source": [
    "## Dummification"
   ]
  },
  {
   "cell_type": "code",
   "execution_count": 97,
   "id": "4d8e5d41",
   "metadata": {
    "execution": {
     "iopub.execute_input": "2023-02-15T14:07:59.653160Z",
     "iopub.status.busy": "2023-02-15T14:07:59.652712Z",
     "iopub.status.idle": "2023-02-15T14:07:59.673497Z",
     "shell.execute_reply": "2023-02-15T14:07:59.672168Z"
    },
    "papermill": {
     "duration": 0.061103,
     "end_time": "2023-02-15T14:07:59.675925",
     "exception": false,
     "start_time": "2023-02-15T14:07:59.614822",
     "status": "completed"
    },
    "tags": []
   },
   "outputs": [
    {
     "data": {
      "text/html": [
       "<div>\n",
       "<style scoped>\n",
       "    .dataframe tbody tr th:only-of-type {\n",
       "        vertical-align: middle;\n",
       "    }\n",
       "\n",
       "    .dataframe tbody tr th {\n",
       "        vertical-align: top;\n",
       "    }\n",
       "\n",
       "    .dataframe thead th {\n",
       "        text-align: right;\n",
       "    }\n",
       "</style>\n",
       "<table border=\"1\" class=\"dataframe\">\n",
       "  <thead>\n",
       "    <tr style=\"text-align: right;\">\n",
       "      <th></th>\n",
       "      <th>Pclass_2</th>\n",
       "      <th>Pclass_3</th>\n",
       "      <th>Sex_male</th>\n",
       "      <th>Embarked_Q</th>\n",
       "      <th>Embarked_S</th>\n",
       "    </tr>\n",
       "  </thead>\n",
       "  <tbody>\n",
       "    <tr>\n",
       "      <th>0</th>\n",
       "      <td>0</td>\n",
       "      <td>1</td>\n",
       "      <td>1</td>\n",
       "      <td>1</td>\n",
       "      <td>0</td>\n",
       "    </tr>\n",
       "    <tr>\n",
       "      <th>1</th>\n",
       "      <td>0</td>\n",
       "      <td>1</td>\n",
       "      <td>0</td>\n",
       "      <td>0</td>\n",
       "      <td>1</td>\n",
       "    </tr>\n",
       "    <tr>\n",
       "      <th>2</th>\n",
       "      <td>1</td>\n",
       "      <td>0</td>\n",
       "      <td>1</td>\n",
       "      <td>1</td>\n",
       "      <td>0</td>\n",
       "    </tr>\n",
       "    <tr>\n",
       "      <th>3</th>\n",
       "      <td>0</td>\n",
       "      <td>1</td>\n",
       "      <td>1</td>\n",
       "      <td>0</td>\n",
       "      <td>1</td>\n",
       "    </tr>\n",
       "    <tr>\n",
       "      <th>4</th>\n",
       "      <td>0</td>\n",
       "      <td>1</td>\n",
       "      <td>0</td>\n",
       "      <td>0</td>\n",
       "      <td>1</td>\n",
       "    </tr>\n",
       "    <tr>\n",
       "      <th>...</th>\n",
       "      <td>...</td>\n",
       "      <td>...</td>\n",
       "      <td>...</td>\n",
       "      <td>...</td>\n",
       "      <td>...</td>\n",
       "    </tr>\n",
       "    <tr>\n",
       "      <th>413</th>\n",
       "      <td>0</td>\n",
       "      <td>1</td>\n",
       "      <td>1</td>\n",
       "      <td>0</td>\n",
       "      <td>1</td>\n",
       "    </tr>\n",
       "    <tr>\n",
       "      <th>414</th>\n",
       "      <td>0</td>\n",
       "      <td>0</td>\n",
       "      <td>0</td>\n",
       "      <td>0</td>\n",
       "      <td>0</td>\n",
       "    </tr>\n",
       "    <tr>\n",
       "      <th>415</th>\n",
       "      <td>0</td>\n",
       "      <td>1</td>\n",
       "      <td>1</td>\n",
       "      <td>0</td>\n",
       "      <td>1</td>\n",
       "    </tr>\n",
       "    <tr>\n",
       "      <th>416</th>\n",
       "      <td>0</td>\n",
       "      <td>1</td>\n",
       "      <td>1</td>\n",
       "      <td>0</td>\n",
       "      <td>1</td>\n",
       "    </tr>\n",
       "    <tr>\n",
       "      <th>417</th>\n",
       "      <td>0</td>\n",
       "      <td>1</td>\n",
       "      <td>1</td>\n",
       "      <td>0</td>\n",
       "      <td>0</td>\n",
       "    </tr>\n",
       "  </tbody>\n",
       "</table>\n",
       "<p>418 rows × 5 columns</p>\n",
       "</div>"
      ],
      "text/plain": [
       "     Pclass_2  Pclass_3  Sex_male  Embarked_Q  Embarked_S\n",
       "0           0         1         1           1           0\n",
       "1           0         1         0           0           1\n",
       "2           1         0         1           1           0\n",
       "3           0         1         1           0           1\n",
       "4           0         1         0           0           1\n",
       "..        ...       ...       ...         ...         ...\n",
       "413         0         1         1           0           1\n",
       "414         0         0         0           0           0\n",
       "415         0         1         1           0           1\n",
       "416         0         1         1           0           1\n",
       "417         0         1         1           0           0\n",
       "\n",
       "[418 rows x 5 columns]"
      ]
     },
     "execution_count": 97,
     "metadata": {},
     "output_type": "execute_result"
    }
   ],
   "source": [
    "test_cat_dum = pd.get_dummies((test_cat_imp), drop_first=True)\n",
    "test_cat_dum"
   ]
  },
  {
   "cell_type": "code",
   "execution_count": 98,
   "id": "6970c670",
   "metadata": {
    "execution": {
     "iopub.execute_input": "2023-02-15T14:07:59.754249Z",
     "iopub.status.busy": "2023-02-15T14:07:59.753859Z",
     "iopub.status.idle": "2023-02-15T14:07:59.769942Z",
     "shell.execute_reply": "2023-02-15T14:07:59.768911Z"
    },
    "papermill": {
     "duration": 0.058587,
     "end_time": "2023-02-15T14:07:59.772219",
     "exception": false,
     "start_time": "2023-02-15T14:07:59.713632",
     "status": "completed"
    },
    "tags": []
   },
   "outputs": [
    {
     "data": {
      "text/html": [
       "<div>\n",
       "<style scoped>\n",
       "    .dataframe tbody tr th:only-of-type {\n",
       "        vertical-align: middle;\n",
       "    }\n",
       "\n",
       "    .dataframe tbody tr th {\n",
       "        vertical-align: top;\n",
       "    }\n",
       "\n",
       "    .dataframe thead th {\n",
       "        text-align: right;\n",
       "    }\n",
       "</style>\n",
       "<table border=\"1\" class=\"dataframe\">\n",
       "  <thead>\n",
       "    <tr style=\"text-align: right;\">\n",
       "      <th></th>\n",
       "      <th>index</th>\n",
       "      <th>Age</th>\n",
       "      <th>SibSp</th>\n",
       "      <th>Parch</th>\n",
       "    </tr>\n",
       "  </thead>\n",
       "  <tbody>\n",
       "    <tr>\n",
       "      <th>0</th>\n",
       "      <td>0</td>\n",
       "      <td>0.393300</td>\n",
       "      <td>-0.464774</td>\n",
       "      <td>-0.465958</td>\n",
       "    </tr>\n",
       "    <tr>\n",
       "      <th>1</th>\n",
       "      <td>1</td>\n",
       "      <td>1.277750</td>\n",
       "      <td>0.412663</td>\n",
       "      <td>-0.465958</td>\n",
       "    </tr>\n",
       "    <tr>\n",
       "      <th>2</th>\n",
       "      <td>2</td>\n",
       "      <td>2.339089</td>\n",
       "      <td>-0.464774</td>\n",
       "      <td>-0.465958</td>\n",
       "    </tr>\n",
       "    <tr>\n",
       "      <th>3</th>\n",
       "      <td>3</td>\n",
       "      <td>-0.137370</td>\n",
       "      <td>-0.464774</td>\n",
       "      <td>-0.465958</td>\n",
       "    </tr>\n",
       "    <tr>\n",
       "      <th>4</th>\n",
       "      <td>4</td>\n",
       "      <td>-0.491150</td>\n",
       "      <td>0.412663</td>\n",
       "      <td>0.796180</td>\n",
       "    </tr>\n",
       "    <tr>\n",
       "      <th>...</th>\n",
       "      <td>...</td>\n",
       "      <td>...</td>\n",
       "      <td>...</td>\n",
       "      <td>...</td>\n",
       "    </tr>\n",
       "    <tr>\n",
       "      <th>413</th>\n",
       "      <td>413</td>\n",
       "      <td>-0.137370</td>\n",
       "      <td>-0.464774</td>\n",
       "      <td>-0.465958</td>\n",
       "    </tr>\n",
       "    <tr>\n",
       "      <th>414</th>\n",
       "      <td>414</td>\n",
       "      <td>0.711702</td>\n",
       "      <td>-0.464774</td>\n",
       "      <td>-0.465958</td>\n",
       "    </tr>\n",
       "    <tr>\n",
       "      <th>415</th>\n",
       "      <td>415</td>\n",
       "      <td>0.676324</td>\n",
       "      <td>-0.464774</td>\n",
       "      <td>-0.465958</td>\n",
       "    </tr>\n",
       "    <tr>\n",
       "      <th>416</th>\n",
       "      <td>416</td>\n",
       "      <td>-0.137370</td>\n",
       "      <td>-0.464774</td>\n",
       "      <td>-0.465958</td>\n",
       "    </tr>\n",
       "    <tr>\n",
       "      <th>417</th>\n",
       "      <td>417</td>\n",
       "      <td>-0.137370</td>\n",
       "      <td>0.412663</td>\n",
       "      <td>0.796180</td>\n",
       "    </tr>\n",
       "  </tbody>\n",
       "</table>\n",
       "<p>418 rows × 4 columns</p>\n",
       "</div>"
      ],
      "text/plain": [
       "     index       Age     SibSp     Parch\n",
       "0        0  0.393300 -0.464774 -0.465958\n",
       "1        1  1.277750  0.412663 -0.465958\n",
       "2        2  2.339089 -0.464774 -0.465958\n",
       "3        3 -0.137370 -0.464774 -0.465958\n",
       "4        4 -0.491150  0.412663  0.796180\n",
       "..     ...       ...       ...       ...\n",
       "413    413 -0.137370 -0.464774 -0.465958\n",
       "414    414  0.711702 -0.464774 -0.465958\n",
       "415    415  0.676324 -0.464774 -0.465958\n",
       "416    416 -0.137370 -0.464774 -0.465958\n",
       "417    417 -0.137370  0.412663  0.796180\n",
       "\n",
       "[418 rows x 4 columns]"
      ]
     },
     "execution_count": 98,
     "metadata": {},
     "output_type": "execute_result"
    }
   ],
   "source": [
    "test_num_std = test_num_std.reset_index()\n",
    "test_num_std"
   ]
  },
  {
   "cell_type": "code",
   "execution_count": 99,
   "id": "909b8bfa",
   "metadata": {
    "execution": {
     "iopub.execute_input": "2023-02-15T14:07:59.851437Z",
     "iopub.status.busy": "2023-02-15T14:07:59.850989Z",
     "iopub.status.idle": "2023-02-15T14:07:59.866276Z",
     "shell.execute_reply": "2023-02-15T14:07:59.865168Z"
    },
    "papermill": {
     "duration": 0.056873,
     "end_time": "2023-02-15T14:07:59.868682",
     "exception": false,
     "start_time": "2023-02-15T14:07:59.811809",
     "status": "completed"
    },
    "tags": []
   },
   "outputs": [
    {
     "data": {
      "text/html": [
       "<div>\n",
       "<style scoped>\n",
       "    .dataframe tbody tr th:only-of-type {\n",
       "        vertical-align: middle;\n",
       "    }\n",
       "\n",
       "    .dataframe tbody tr th {\n",
       "        vertical-align: top;\n",
       "    }\n",
       "\n",
       "    .dataframe thead th {\n",
       "        text-align: right;\n",
       "    }\n",
       "</style>\n",
       "<table border=\"1\" class=\"dataframe\">\n",
       "  <thead>\n",
       "    <tr style=\"text-align: right;\">\n",
       "      <th></th>\n",
       "      <th>Age</th>\n",
       "      <th>SibSp</th>\n",
       "      <th>Parch</th>\n",
       "    </tr>\n",
       "  </thead>\n",
       "  <tbody>\n",
       "    <tr>\n",
       "      <th>0</th>\n",
       "      <td>0.393300</td>\n",
       "      <td>-0.464774</td>\n",
       "      <td>-0.465958</td>\n",
       "    </tr>\n",
       "    <tr>\n",
       "      <th>1</th>\n",
       "      <td>1.277750</td>\n",
       "      <td>0.412663</td>\n",
       "      <td>-0.465958</td>\n",
       "    </tr>\n",
       "    <tr>\n",
       "      <th>2</th>\n",
       "      <td>2.339089</td>\n",
       "      <td>-0.464774</td>\n",
       "      <td>-0.465958</td>\n",
       "    </tr>\n",
       "    <tr>\n",
       "      <th>3</th>\n",
       "      <td>-0.137370</td>\n",
       "      <td>-0.464774</td>\n",
       "      <td>-0.465958</td>\n",
       "    </tr>\n",
       "    <tr>\n",
       "      <th>4</th>\n",
       "      <td>-0.491150</td>\n",
       "      <td>0.412663</td>\n",
       "      <td>0.796180</td>\n",
       "    </tr>\n",
       "    <tr>\n",
       "      <th>...</th>\n",
       "      <td>...</td>\n",
       "      <td>...</td>\n",
       "      <td>...</td>\n",
       "    </tr>\n",
       "    <tr>\n",
       "      <th>413</th>\n",
       "      <td>-0.137370</td>\n",
       "      <td>-0.464774</td>\n",
       "      <td>-0.465958</td>\n",
       "    </tr>\n",
       "    <tr>\n",
       "      <th>414</th>\n",
       "      <td>0.711702</td>\n",
       "      <td>-0.464774</td>\n",
       "      <td>-0.465958</td>\n",
       "    </tr>\n",
       "    <tr>\n",
       "      <th>415</th>\n",
       "      <td>0.676324</td>\n",
       "      <td>-0.464774</td>\n",
       "      <td>-0.465958</td>\n",
       "    </tr>\n",
       "    <tr>\n",
       "      <th>416</th>\n",
       "      <td>-0.137370</td>\n",
       "      <td>-0.464774</td>\n",
       "      <td>-0.465958</td>\n",
       "    </tr>\n",
       "    <tr>\n",
       "      <th>417</th>\n",
       "      <td>-0.137370</td>\n",
       "      <td>0.412663</td>\n",
       "      <td>0.796180</td>\n",
       "    </tr>\n",
       "  </tbody>\n",
       "</table>\n",
       "<p>418 rows × 3 columns</p>\n",
       "</div>"
      ],
      "text/plain": [
       "          Age     SibSp     Parch\n",
       "0    0.393300 -0.464774 -0.465958\n",
       "1    1.277750  0.412663 -0.465958\n",
       "2    2.339089 -0.464774 -0.465958\n",
       "3   -0.137370 -0.464774 -0.465958\n",
       "4   -0.491150  0.412663  0.796180\n",
       "..        ...       ...       ...\n",
       "413 -0.137370 -0.464774 -0.465958\n",
       "414  0.711702 -0.464774 -0.465958\n",
       "415  0.676324 -0.464774 -0.465958\n",
       "416 -0.137370 -0.464774 -0.465958\n",
       "417 -0.137370  0.412663  0.796180\n",
       "\n",
       "[418 rows x 3 columns]"
      ]
     },
     "execution_count": 99,
     "metadata": {},
     "output_type": "execute_result"
    }
   ],
   "source": [
    "test_num_std = test_num_std.drop([\"index\"], axis=1)\n",
    "test_num_std"
   ]
  },
  {
   "cell_type": "code",
   "execution_count": 100,
   "id": "56014af8",
   "metadata": {
    "execution": {
     "iopub.execute_input": "2023-02-15T14:07:59.945560Z",
     "iopub.status.busy": "2023-02-15T14:07:59.945115Z",
     "iopub.status.idle": "2023-02-15T14:07:59.961897Z",
     "shell.execute_reply": "2023-02-15T14:07:59.960544Z"
    },
    "papermill": {
     "duration": 0.058677,
     "end_time": "2023-02-15T14:07:59.964681",
     "exception": false,
     "start_time": "2023-02-15T14:07:59.906004",
     "status": "completed"
    },
    "tags": []
   },
   "outputs": [
    {
     "data": {
      "text/html": [
       "<div>\n",
       "<style scoped>\n",
       "    .dataframe tbody tr th:only-of-type {\n",
       "        vertical-align: middle;\n",
       "    }\n",
       "\n",
       "    .dataframe tbody tr th {\n",
       "        vertical-align: top;\n",
       "    }\n",
       "\n",
       "    .dataframe thead th {\n",
       "        text-align: right;\n",
       "    }\n",
       "</style>\n",
       "<table border=\"1\" class=\"dataframe\">\n",
       "  <thead>\n",
       "    <tr style=\"text-align: right;\">\n",
       "      <th></th>\n",
       "      <th>index</th>\n",
       "      <th>Pclass_2</th>\n",
       "      <th>Pclass_3</th>\n",
       "      <th>Sex_male</th>\n",
       "      <th>Embarked_Q</th>\n",
       "      <th>Embarked_S</th>\n",
       "    </tr>\n",
       "  </thead>\n",
       "  <tbody>\n",
       "    <tr>\n",
       "      <th>0</th>\n",
       "      <td>0</td>\n",
       "      <td>0</td>\n",
       "      <td>1</td>\n",
       "      <td>1</td>\n",
       "      <td>1</td>\n",
       "      <td>0</td>\n",
       "    </tr>\n",
       "    <tr>\n",
       "      <th>1</th>\n",
       "      <td>1</td>\n",
       "      <td>0</td>\n",
       "      <td>1</td>\n",
       "      <td>0</td>\n",
       "      <td>0</td>\n",
       "      <td>1</td>\n",
       "    </tr>\n",
       "    <tr>\n",
       "      <th>2</th>\n",
       "      <td>2</td>\n",
       "      <td>1</td>\n",
       "      <td>0</td>\n",
       "      <td>1</td>\n",
       "      <td>1</td>\n",
       "      <td>0</td>\n",
       "    </tr>\n",
       "    <tr>\n",
       "      <th>3</th>\n",
       "      <td>3</td>\n",
       "      <td>0</td>\n",
       "      <td>1</td>\n",
       "      <td>1</td>\n",
       "      <td>0</td>\n",
       "      <td>1</td>\n",
       "    </tr>\n",
       "    <tr>\n",
       "      <th>4</th>\n",
       "      <td>4</td>\n",
       "      <td>0</td>\n",
       "      <td>1</td>\n",
       "      <td>0</td>\n",
       "      <td>0</td>\n",
       "      <td>1</td>\n",
       "    </tr>\n",
       "    <tr>\n",
       "      <th>...</th>\n",
       "      <td>...</td>\n",
       "      <td>...</td>\n",
       "      <td>...</td>\n",
       "      <td>...</td>\n",
       "      <td>...</td>\n",
       "      <td>...</td>\n",
       "    </tr>\n",
       "    <tr>\n",
       "      <th>413</th>\n",
       "      <td>413</td>\n",
       "      <td>0</td>\n",
       "      <td>1</td>\n",
       "      <td>1</td>\n",
       "      <td>0</td>\n",
       "      <td>1</td>\n",
       "    </tr>\n",
       "    <tr>\n",
       "      <th>414</th>\n",
       "      <td>414</td>\n",
       "      <td>0</td>\n",
       "      <td>0</td>\n",
       "      <td>0</td>\n",
       "      <td>0</td>\n",
       "      <td>0</td>\n",
       "    </tr>\n",
       "    <tr>\n",
       "      <th>415</th>\n",
       "      <td>415</td>\n",
       "      <td>0</td>\n",
       "      <td>1</td>\n",
       "      <td>1</td>\n",
       "      <td>0</td>\n",
       "      <td>1</td>\n",
       "    </tr>\n",
       "    <tr>\n",
       "      <th>416</th>\n",
       "      <td>416</td>\n",
       "      <td>0</td>\n",
       "      <td>1</td>\n",
       "      <td>1</td>\n",
       "      <td>0</td>\n",
       "      <td>1</td>\n",
       "    </tr>\n",
       "    <tr>\n",
       "      <th>417</th>\n",
       "      <td>417</td>\n",
       "      <td>0</td>\n",
       "      <td>1</td>\n",
       "      <td>1</td>\n",
       "      <td>0</td>\n",
       "      <td>0</td>\n",
       "    </tr>\n",
       "  </tbody>\n",
       "</table>\n",
       "<p>418 rows × 6 columns</p>\n",
       "</div>"
      ],
      "text/plain": [
       "     index  Pclass_2  Pclass_3  Sex_male  Embarked_Q  Embarked_S\n",
       "0        0         0         1         1           1           0\n",
       "1        1         0         1         0           0           1\n",
       "2        2         1         0         1           1           0\n",
       "3        3         0         1         1           0           1\n",
       "4        4         0         1         0           0           1\n",
       "..     ...       ...       ...       ...         ...         ...\n",
       "413    413         0         1         1           0           1\n",
       "414    414         0         0         0           0           0\n",
       "415    415         0         1         1           0           1\n",
       "416    416         0         1         1           0           1\n",
       "417    417         0         1         1           0           0\n",
       "\n",
       "[418 rows x 6 columns]"
      ]
     },
     "execution_count": 100,
     "metadata": {},
     "output_type": "execute_result"
    }
   ],
   "source": [
    "test_cat_dum = test_cat_dum.reset_index()\n",
    "test_cat_dum"
   ]
  },
  {
   "cell_type": "code",
   "execution_count": 101,
   "id": "599431d6",
   "metadata": {
    "execution": {
     "iopub.execute_input": "2023-02-15T14:08:00.045076Z",
     "iopub.status.busy": "2023-02-15T14:08:00.044652Z",
     "iopub.status.idle": "2023-02-15T14:08:00.059654Z",
     "shell.execute_reply": "2023-02-15T14:08:00.058742Z"
    },
    "papermill": {
     "duration": 0.059094,
     "end_time": "2023-02-15T14:08:00.062009",
     "exception": false,
     "start_time": "2023-02-15T14:08:00.002915",
     "status": "completed"
    },
    "tags": []
   },
   "outputs": [
    {
     "data": {
      "text/html": [
       "<div>\n",
       "<style scoped>\n",
       "    .dataframe tbody tr th:only-of-type {\n",
       "        vertical-align: middle;\n",
       "    }\n",
       "\n",
       "    .dataframe tbody tr th {\n",
       "        vertical-align: top;\n",
       "    }\n",
       "\n",
       "    .dataframe thead th {\n",
       "        text-align: right;\n",
       "    }\n",
       "</style>\n",
       "<table border=\"1\" class=\"dataframe\">\n",
       "  <thead>\n",
       "    <tr style=\"text-align: right;\">\n",
       "      <th></th>\n",
       "      <th>Pclass_2</th>\n",
       "      <th>Pclass_3</th>\n",
       "      <th>Sex_male</th>\n",
       "      <th>Embarked_Q</th>\n",
       "      <th>Embarked_S</th>\n",
       "    </tr>\n",
       "  </thead>\n",
       "  <tbody>\n",
       "    <tr>\n",
       "      <th>0</th>\n",
       "      <td>0</td>\n",
       "      <td>1</td>\n",
       "      <td>1</td>\n",
       "      <td>1</td>\n",
       "      <td>0</td>\n",
       "    </tr>\n",
       "    <tr>\n",
       "      <th>1</th>\n",
       "      <td>0</td>\n",
       "      <td>1</td>\n",
       "      <td>0</td>\n",
       "      <td>0</td>\n",
       "      <td>1</td>\n",
       "    </tr>\n",
       "    <tr>\n",
       "      <th>2</th>\n",
       "      <td>1</td>\n",
       "      <td>0</td>\n",
       "      <td>1</td>\n",
       "      <td>1</td>\n",
       "      <td>0</td>\n",
       "    </tr>\n",
       "    <tr>\n",
       "      <th>3</th>\n",
       "      <td>0</td>\n",
       "      <td>1</td>\n",
       "      <td>1</td>\n",
       "      <td>0</td>\n",
       "      <td>1</td>\n",
       "    </tr>\n",
       "    <tr>\n",
       "      <th>4</th>\n",
       "      <td>0</td>\n",
       "      <td>1</td>\n",
       "      <td>0</td>\n",
       "      <td>0</td>\n",
       "      <td>1</td>\n",
       "    </tr>\n",
       "    <tr>\n",
       "      <th>...</th>\n",
       "      <td>...</td>\n",
       "      <td>...</td>\n",
       "      <td>...</td>\n",
       "      <td>...</td>\n",
       "      <td>...</td>\n",
       "    </tr>\n",
       "    <tr>\n",
       "      <th>413</th>\n",
       "      <td>0</td>\n",
       "      <td>1</td>\n",
       "      <td>1</td>\n",
       "      <td>0</td>\n",
       "      <td>1</td>\n",
       "    </tr>\n",
       "    <tr>\n",
       "      <th>414</th>\n",
       "      <td>0</td>\n",
       "      <td>0</td>\n",
       "      <td>0</td>\n",
       "      <td>0</td>\n",
       "      <td>0</td>\n",
       "    </tr>\n",
       "    <tr>\n",
       "      <th>415</th>\n",
       "      <td>0</td>\n",
       "      <td>1</td>\n",
       "      <td>1</td>\n",
       "      <td>0</td>\n",
       "      <td>1</td>\n",
       "    </tr>\n",
       "    <tr>\n",
       "      <th>416</th>\n",
       "      <td>0</td>\n",
       "      <td>1</td>\n",
       "      <td>1</td>\n",
       "      <td>0</td>\n",
       "      <td>1</td>\n",
       "    </tr>\n",
       "    <tr>\n",
       "      <th>417</th>\n",
       "      <td>0</td>\n",
       "      <td>1</td>\n",
       "      <td>1</td>\n",
       "      <td>0</td>\n",
       "      <td>0</td>\n",
       "    </tr>\n",
       "  </tbody>\n",
       "</table>\n",
       "<p>418 rows × 5 columns</p>\n",
       "</div>"
      ],
      "text/plain": [
       "     Pclass_2  Pclass_3  Sex_male  Embarked_Q  Embarked_S\n",
       "0           0         1         1           1           0\n",
       "1           0         1         0           0           1\n",
       "2           1         0         1           1           0\n",
       "3           0         1         1           0           1\n",
       "4           0         1         0           0           1\n",
       "..        ...       ...       ...         ...         ...\n",
       "413         0         1         1           0           1\n",
       "414         0         0         0           0           0\n",
       "415         0         1         1           0           1\n",
       "416         0         1         1           0           1\n",
       "417         0         1         1           0           0\n",
       "\n",
       "[418 rows x 5 columns]"
      ]
     },
     "execution_count": 101,
     "metadata": {},
     "output_type": "execute_result"
    }
   ],
   "source": [
    "test_cat_dum = test_cat_dum.drop([\"index\"], axis=1)\n",
    "test_cat_dum"
   ]
  },
  {
   "cell_type": "markdown",
   "id": "59d7ad0d",
   "metadata": {
    "papermill": {
     "duration": 0.03899,
     "end_time": "2023-02-15T14:08:00.140091",
     "exception": false,
     "start_time": "2023-02-15T14:08:00.101101",
     "status": "completed"
    },
    "tags": []
   },
   "source": [
    "## Concating"
   ]
  },
  {
   "cell_type": "code",
   "execution_count": 102,
   "id": "d8c1cbba",
   "metadata": {
    "execution": {
     "iopub.execute_input": "2023-02-15T14:08:00.218177Z",
     "iopub.status.busy": "2023-02-15T14:08:00.217739Z",
     "iopub.status.idle": "2023-02-15T14:08:00.236808Z",
     "shell.execute_reply": "2023-02-15T14:08:00.235694Z"
    },
    "papermill": {
     "duration": 0.06151,
     "end_time": "2023-02-15T14:08:00.239319",
     "exception": false,
     "start_time": "2023-02-15T14:08:00.177809",
     "status": "completed"
    },
    "tags": []
   },
   "outputs": [
    {
     "data": {
      "text/html": [
       "<div>\n",
       "<style scoped>\n",
       "    .dataframe tbody tr th:only-of-type {\n",
       "        vertical-align: middle;\n",
       "    }\n",
       "\n",
       "    .dataframe tbody tr th {\n",
       "        vertical-align: top;\n",
       "    }\n",
       "\n",
       "    .dataframe thead th {\n",
       "        text-align: right;\n",
       "    }\n",
       "</style>\n",
       "<table border=\"1\" class=\"dataframe\">\n",
       "  <thead>\n",
       "    <tr style=\"text-align: right;\">\n",
       "      <th></th>\n",
       "      <th>Age</th>\n",
       "      <th>SibSp</th>\n",
       "      <th>Parch</th>\n",
       "      <th>Pclass_2</th>\n",
       "      <th>Pclass_3</th>\n",
       "      <th>Sex_male</th>\n",
       "      <th>Embarked_Q</th>\n",
       "      <th>Embarked_S</th>\n",
       "    </tr>\n",
       "  </thead>\n",
       "  <tbody>\n",
       "    <tr>\n",
       "      <th>0</th>\n",
       "      <td>0.393300</td>\n",
       "      <td>-0.464774</td>\n",
       "      <td>-0.465958</td>\n",
       "      <td>0</td>\n",
       "      <td>1</td>\n",
       "      <td>1</td>\n",
       "      <td>1</td>\n",
       "      <td>0</td>\n",
       "    </tr>\n",
       "    <tr>\n",
       "      <th>1</th>\n",
       "      <td>1.277750</td>\n",
       "      <td>0.412663</td>\n",
       "      <td>-0.465958</td>\n",
       "      <td>0</td>\n",
       "      <td>1</td>\n",
       "      <td>0</td>\n",
       "      <td>0</td>\n",
       "      <td>1</td>\n",
       "    </tr>\n",
       "    <tr>\n",
       "      <th>2</th>\n",
       "      <td>2.339089</td>\n",
       "      <td>-0.464774</td>\n",
       "      <td>-0.465958</td>\n",
       "      <td>1</td>\n",
       "      <td>0</td>\n",
       "      <td>1</td>\n",
       "      <td>1</td>\n",
       "      <td>0</td>\n",
       "    </tr>\n",
       "    <tr>\n",
       "      <th>3</th>\n",
       "      <td>-0.137370</td>\n",
       "      <td>-0.464774</td>\n",
       "      <td>-0.465958</td>\n",
       "      <td>0</td>\n",
       "      <td>1</td>\n",
       "      <td>1</td>\n",
       "      <td>0</td>\n",
       "      <td>1</td>\n",
       "    </tr>\n",
       "    <tr>\n",
       "      <th>4</th>\n",
       "      <td>-0.491150</td>\n",
       "      <td>0.412663</td>\n",
       "      <td>0.796180</td>\n",
       "      <td>0</td>\n",
       "      <td>1</td>\n",
       "      <td>0</td>\n",
       "      <td>0</td>\n",
       "      <td>1</td>\n",
       "    </tr>\n",
       "    <tr>\n",
       "      <th>...</th>\n",
       "      <td>...</td>\n",
       "      <td>...</td>\n",
       "      <td>...</td>\n",
       "      <td>...</td>\n",
       "      <td>...</td>\n",
       "      <td>...</td>\n",
       "      <td>...</td>\n",
       "      <td>...</td>\n",
       "    </tr>\n",
       "    <tr>\n",
       "      <th>413</th>\n",
       "      <td>-0.137370</td>\n",
       "      <td>-0.464774</td>\n",
       "      <td>-0.465958</td>\n",
       "      <td>0</td>\n",
       "      <td>1</td>\n",
       "      <td>1</td>\n",
       "      <td>0</td>\n",
       "      <td>1</td>\n",
       "    </tr>\n",
       "    <tr>\n",
       "      <th>414</th>\n",
       "      <td>0.711702</td>\n",
       "      <td>-0.464774</td>\n",
       "      <td>-0.465958</td>\n",
       "      <td>0</td>\n",
       "      <td>0</td>\n",
       "      <td>0</td>\n",
       "      <td>0</td>\n",
       "      <td>0</td>\n",
       "    </tr>\n",
       "    <tr>\n",
       "      <th>415</th>\n",
       "      <td>0.676324</td>\n",
       "      <td>-0.464774</td>\n",
       "      <td>-0.465958</td>\n",
       "      <td>0</td>\n",
       "      <td>1</td>\n",
       "      <td>1</td>\n",
       "      <td>0</td>\n",
       "      <td>1</td>\n",
       "    </tr>\n",
       "    <tr>\n",
       "      <th>416</th>\n",
       "      <td>-0.137370</td>\n",
       "      <td>-0.464774</td>\n",
       "      <td>-0.465958</td>\n",
       "      <td>0</td>\n",
       "      <td>1</td>\n",
       "      <td>1</td>\n",
       "      <td>0</td>\n",
       "      <td>1</td>\n",
       "    </tr>\n",
       "    <tr>\n",
       "      <th>417</th>\n",
       "      <td>-0.137370</td>\n",
       "      <td>0.412663</td>\n",
       "      <td>0.796180</td>\n",
       "      <td>0</td>\n",
       "      <td>1</td>\n",
       "      <td>1</td>\n",
       "      <td>0</td>\n",
       "      <td>0</td>\n",
       "    </tr>\n",
       "  </tbody>\n",
       "</table>\n",
       "<p>418 rows × 8 columns</p>\n",
       "</div>"
      ],
      "text/plain": [
       "          Age     SibSp     Parch  Pclass_2  Pclass_3  Sex_male  Embarked_Q  \\\n",
       "0    0.393300 -0.464774 -0.465958         0         1         1           1   \n",
       "1    1.277750  0.412663 -0.465958         0         1         0           0   \n",
       "2    2.339089 -0.464774 -0.465958         1         0         1           1   \n",
       "3   -0.137370 -0.464774 -0.465958         0         1         1           0   \n",
       "4   -0.491150  0.412663  0.796180         0         1         0           0   \n",
       "..        ...       ...       ...       ...       ...       ...         ...   \n",
       "413 -0.137370 -0.464774 -0.465958         0         1         1           0   \n",
       "414  0.711702 -0.464774 -0.465958         0         0         0           0   \n",
       "415  0.676324 -0.464774 -0.465958         0         1         1           0   \n",
       "416 -0.137370 -0.464774 -0.465958         0         1         1           0   \n",
       "417 -0.137370  0.412663  0.796180         0         1         1           0   \n",
       "\n",
       "     Embarked_S  \n",
       "0             0  \n",
       "1             1  \n",
       "2             0  \n",
       "3             1  \n",
       "4             1  \n",
       "..          ...  \n",
       "413           1  \n",
       "414           0  \n",
       "415           1  \n",
       "416           1  \n",
       "417           0  \n",
       "\n",
       "[418 rows x 8 columns]"
      ]
     },
     "execution_count": 102,
     "metadata": {},
     "output_type": "execute_result"
    }
   ],
   "source": [
    "Final_test_df = pd.concat([test_num_std,test_cat_dum], axis=1)\n",
    "Final_test_df"
   ]
  },
  {
   "cell_type": "code",
   "execution_count": 103,
   "id": "eb1c901c",
   "metadata": {
    "execution": {
     "iopub.execute_input": "2023-02-15T14:08:00.319319Z",
     "iopub.status.busy": "2023-02-15T14:08:00.318869Z",
     "iopub.status.idle": "2023-02-15T14:08:00.329254Z",
     "shell.execute_reply": "2023-02-15T14:08:00.328156Z"
    },
    "papermill": {
     "duration": 0.05315,
     "end_time": "2023-02-15T14:08:00.331713",
     "exception": false,
     "start_time": "2023-02-15T14:08:00.278563",
     "status": "completed"
    },
    "tags": []
   },
   "outputs": [
    {
     "data": {
      "text/plain": [
       "Age           0\n",
       "SibSp         0\n",
       "Parch         0\n",
       "Pclass_2      0\n",
       "Pclass_3      0\n",
       "Sex_male      0\n",
       "Embarked_Q    0\n",
       "Embarked_S    0\n",
       "dtype: int64"
      ]
     },
     "execution_count": 103,
     "metadata": {},
     "output_type": "execute_result"
    }
   ],
   "source": [
    "Final_test_df.isnull().sum()"
   ]
  },
  {
   "cell_type": "markdown",
   "id": "abec32e6",
   "metadata": {
    "papermill": {
     "duration": 0.048528,
     "end_time": "2023-02-15T14:08:00.418432",
     "exception": false,
     "start_time": "2023-02-15T14:08:00.369904",
     "status": "completed"
    },
    "tags": []
   },
   "source": [
    "# Model prediction on test data\n",
    "## KNN Classifier"
   ]
  },
  {
   "cell_type": "code",
   "execution_count": 104,
   "id": "5815a034",
   "metadata": {
    "execution": {
     "iopub.execute_input": "2023-02-15T14:08:00.516023Z",
     "iopub.status.busy": "2023-02-15T14:08:00.514624Z",
     "iopub.status.idle": "2023-02-15T14:08:00.538433Z",
     "shell.execute_reply": "2023-02-15T14:08:00.537229Z"
    },
    "papermill": {
     "duration": 0.071243,
     "end_time": "2023-02-15T14:08:00.540846",
     "exception": false,
     "start_time": "2023-02-15T14:08:00.469603",
     "status": "completed"
    },
    "tags": []
   },
   "outputs": [
    {
     "data": {
      "text/plain": [
       "array([0, 0, 0, 0, 1, 0, 1, 0, 1, 0])"
      ]
     },
     "execution_count": 104,
     "metadata": {},
     "output_type": "execute_result"
    }
   ],
   "source": [
    "knn_2_preds = knn.predict(Final_test_df)\n",
    "knn_2_preds[0:10]"
   ]
  },
  {
   "cell_type": "code",
   "execution_count": 105,
   "id": "f9a0f587",
   "metadata": {
    "execution": {
     "iopub.execute_input": "2023-02-15T14:08:00.620812Z",
     "iopub.status.busy": "2023-02-15T14:08:00.620056Z",
     "iopub.status.idle": "2023-02-15T14:08:00.626569Z",
     "shell.execute_reply": "2023-02-15T14:08:00.625242Z"
    },
    "papermill": {
     "duration": 0.050203,
     "end_time": "2023-02-15T14:08:00.629109",
     "exception": false,
     "start_time": "2023-02-15T14:08:00.578906",
     "status": "completed"
    },
    "tags": []
   },
   "outputs": [
    {
     "data": {
      "text/plain": [
       "418"
      ]
     },
     "execution_count": 105,
     "metadata": {},
     "output_type": "execute_result"
    }
   ],
   "source": [
    "len(knn_2_preds)"
   ]
  },
  {
   "cell_type": "code",
   "execution_count": 106,
   "id": "8d10e96f",
   "metadata": {
    "execution": {
     "iopub.execute_input": "2023-02-15T14:08:00.709671Z",
     "iopub.status.busy": "2023-02-15T14:08:00.709218Z",
     "iopub.status.idle": "2023-02-15T14:08:00.717542Z",
     "shell.execute_reply": "2023-02-15T14:08:00.716654Z"
    },
    "papermill": {
     "duration": 0.051362,
     "end_time": "2023-02-15T14:08:00.719858",
     "exception": false,
     "start_time": "2023-02-15T14:08:00.668496",
     "status": "completed"
    },
    "tags": []
   },
   "outputs": [
    {
     "data": {
      "text/plain": [
       "0    0\n",
       "1    0\n",
       "2    0\n",
       "3    0\n",
       "4    1\n",
       "5    0\n",
       "6    1\n",
       "7    0\n",
       "8    1\n",
       "9    0\n",
       "Name: Survived, dtype: int64"
      ]
     },
     "execution_count": 106,
     "metadata": {},
     "output_type": "execute_result"
    }
   ],
   "source": [
    "label[\"Survived\"] = knn_2_preds\n",
    "label[\"Survived\"][0:10]"
   ]
  },
  {
   "cell_type": "code",
   "execution_count": 107,
   "id": "56d7a376",
   "metadata": {
    "execution": {
     "iopub.execute_input": "2023-02-15T14:08:00.799249Z",
     "iopub.status.busy": "2023-02-15T14:08:00.798432Z",
     "iopub.status.idle": "2023-02-15T14:08:00.811419Z",
     "shell.execute_reply": "2023-02-15T14:08:00.810300Z"
    },
    "papermill": {
     "duration": 0.054749,
     "end_time": "2023-02-15T14:08:00.813966",
     "exception": false,
     "start_time": "2023-02-15T14:08:00.759217",
     "status": "completed"
    },
    "tags": []
   },
   "outputs": [
    {
     "data": {
      "text/html": [
       "<div>\n",
       "<style scoped>\n",
       "    .dataframe tbody tr th:only-of-type {\n",
       "        vertical-align: middle;\n",
       "    }\n",
       "\n",
       "    .dataframe tbody tr th {\n",
       "        vertical-align: top;\n",
       "    }\n",
       "\n",
       "    .dataframe thead th {\n",
       "        text-align: right;\n",
       "    }\n",
       "</style>\n",
       "<table border=\"1\" class=\"dataframe\">\n",
       "  <thead>\n",
       "    <tr style=\"text-align: right;\">\n",
       "      <th></th>\n",
       "      <th>PassengerId</th>\n",
       "      <th>Survived</th>\n",
       "    </tr>\n",
       "  </thead>\n",
       "  <tbody>\n",
       "    <tr>\n",
       "      <th>0</th>\n",
       "      <td>892</td>\n",
       "      <td>0</td>\n",
       "    </tr>\n",
       "    <tr>\n",
       "      <th>1</th>\n",
       "      <td>893</td>\n",
       "      <td>0</td>\n",
       "    </tr>\n",
       "    <tr>\n",
       "      <th>2</th>\n",
       "      <td>894</td>\n",
       "      <td>0</td>\n",
       "    </tr>\n",
       "    <tr>\n",
       "      <th>3</th>\n",
       "      <td>895</td>\n",
       "      <td>0</td>\n",
       "    </tr>\n",
       "    <tr>\n",
       "      <th>4</th>\n",
       "      <td>896</td>\n",
       "      <td>1</td>\n",
       "    </tr>\n",
       "    <tr>\n",
       "      <th>...</th>\n",
       "      <td>...</td>\n",
       "      <td>...</td>\n",
       "    </tr>\n",
       "    <tr>\n",
       "      <th>413</th>\n",
       "      <td>1305</td>\n",
       "      <td>0</td>\n",
       "    </tr>\n",
       "    <tr>\n",
       "      <th>414</th>\n",
       "      <td>1306</td>\n",
       "      <td>1</td>\n",
       "    </tr>\n",
       "    <tr>\n",
       "      <th>415</th>\n",
       "      <td>1307</td>\n",
       "      <td>0</td>\n",
       "    </tr>\n",
       "    <tr>\n",
       "      <th>416</th>\n",
       "      <td>1308</td>\n",
       "      <td>0</td>\n",
       "    </tr>\n",
       "    <tr>\n",
       "      <th>417</th>\n",
       "      <td>1309</td>\n",
       "      <td>0</td>\n",
       "    </tr>\n",
       "  </tbody>\n",
       "</table>\n",
       "<p>418 rows × 2 columns</p>\n",
       "</div>"
      ],
      "text/plain": [
       "     PassengerId  Survived\n",
       "0            892         0\n",
       "1            893         0\n",
       "2            894         0\n",
       "3            895         0\n",
       "4            896         1\n",
       "..           ...       ...\n",
       "413         1305         0\n",
       "414         1306         1\n",
       "415         1307         0\n",
       "416         1308         0\n",
       "417         1309         0\n",
       "\n",
       "[418 rows x 2 columns]"
      ]
     },
     "execution_count": 107,
     "metadata": {},
     "output_type": "execute_result"
    }
   ],
   "source": [
    "label"
   ]
  },
  {
   "cell_type": "code",
   "execution_count": 108,
   "id": "e67d56f6",
   "metadata": {
    "execution": {
     "iopub.execute_input": "2023-02-15T14:08:00.892783Z",
     "iopub.status.busy": "2023-02-15T14:08:00.892370Z",
     "iopub.status.idle": "2023-02-15T14:08:00.905842Z",
     "shell.execute_reply": "2023-02-15T14:08:00.904563Z"
    },
    "papermill": {
     "duration": 0.055713,
     "end_time": "2023-02-15T14:08:00.908259",
     "exception": false,
     "start_time": "2023-02-15T14:08:00.852546",
     "status": "completed"
    },
    "tags": []
   },
   "outputs": [
    {
     "data": {
      "text/html": [
       "<div>\n",
       "<style scoped>\n",
       "    .dataframe tbody tr th:only-of-type {\n",
       "        vertical-align: middle;\n",
       "    }\n",
       "\n",
       "    .dataframe tbody tr th {\n",
       "        vertical-align: top;\n",
       "    }\n",
       "\n",
       "    .dataframe thead th {\n",
       "        text-align: right;\n",
       "    }\n",
       "</style>\n",
       "<table border=\"1\" class=\"dataframe\">\n",
       "  <thead>\n",
       "    <tr style=\"text-align: right;\">\n",
       "      <th></th>\n",
       "      <th>Survived</th>\n",
       "    </tr>\n",
       "    <tr>\n",
       "      <th>PassengerId</th>\n",
       "      <th></th>\n",
       "    </tr>\n",
       "  </thead>\n",
       "  <tbody>\n",
       "    <tr>\n",
       "      <th>892</th>\n",
       "      <td>0</td>\n",
       "    </tr>\n",
       "    <tr>\n",
       "      <th>893</th>\n",
       "      <td>0</td>\n",
       "    </tr>\n",
       "    <tr>\n",
       "      <th>894</th>\n",
       "      <td>0</td>\n",
       "    </tr>\n",
       "    <tr>\n",
       "      <th>895</th>\n",
       "      <td>0</td>\n",
       "    </tr>\n",
       "    <tr>\n",
       "      <th>896</th>\n",
       "      <td>1</td>\n",
       "    </tr>\n",
       "    <tr>\n",
       "      <th>...</th>\n",
       "      <td>...</td>\n",
       "    </tr>\n",
       "    <tr>\n",
       "      <th>1305</th>\n",
       "      <td>0</td>\n",
       "    </tr>\n",
       "    <tr>\n",
       "      <th>1306</th>\n",
       "      <td>1</td>\n",
       "    </tr>\n",
       "    <tr>\n",
       "      <th>1307</th>\n",
       "      <td>0</td>\n",
       "    </tr>\n",
       "    <tr>\n",
       "      <th>1308</th>\n",
       "      <td>0</td>\n",
       "    </tr>\n",
       "    <tr>\n",
       "      <th>1309</th>\n",
       "      <td>0</td>\n",
       "    </tr>\n",
       "  </tbody>\n",
       "</table>\n",
       "<p>418 rows × 1 columns</p>\n",
       "</div>"
      ],
      "text/plain": [
       "             Survived\n",
       "PassengerId          \n",
       "892                 0\n",
       "893                 0\n",
       "894                 0\n",
       "895                 0\n",
       "896                 1\n",
       "...               ...\n",
       "1305                0\n",
       "1306                1\n",
       "1307                0\n",
       "1308                0\n",
       "1309                0\n",
       "\n",
       "[418 rows x 1 columns]"
      ]
     },
     "execution_count": 108,
     "metadata": {},
     "output_type": "execute_result"
    }
   ],
   "source": [
    "label = label.set_index([\"PassengerId\"])\n",
    "label"
   ]
  },
  {
   "cell_type": "code",
   "execution_count": 109,
   "id": "e7653c75",
   "metadata": {
    "execution": {
     "iopub.execute_input": "2023-02-15T14:08:00.987869Z",
     "iopub.status.busy": "2023-02-15T14:08:00.987460Z",
     "iopub.status.idle": "2023-02-15T14:08:00.995748Z",
     "shell.execute_reply": "2023-02-15T14:08:00.994466Z"
    },
    "papermill": {
     "duration": 0.050901,
     "end_time": "2023-02-15T14:08:00.998332",
     "exception": false,
     "start_time": "2023-02-15T14:08:00.947431",
     "status": "completed"
    },
    "tags": []
   },
   "outputs": [],
   "source": [
    "label.to_csv('/kaggle/working/submission.csv')"
   ]
  },
  {
   "cell_type": "code",
   "execution_count": null,
   "id": "054391d9",
   "metadata": {
    "papermill": {
     "duration": 0.038436,
     "end_time": "2023-02-15T14:08:01.077191",
     "exception": false,
     "start_time": "2023-02-15T14:08:01.038755",
     "status": "completed"
    },
    "tags": []
   },
   "outputs": [],
   "source": []
  }
 ],
 "metadata": {
  "kernelspec": {
   "display_name": "Python 3",
   "language": "python",
   "name": "python3"
  },
  "language_info": {
   "codemirror_mode": {
    "name": "ipython",
    "version": 3
   },
   "file_extension": ".py",
   "mimetype": "text/x-python",
   "name": "python",
   "nbconvert_exporter": "python",
   "pygments_lexer": "ipython3",
   "version": "3.7.12"
  },
  "papermill": {
   "default_parameters": {},
   "duration": 23.48112,
   "end_time": "2023-02-15T14:08:01.940855",
   "environment_variables": {},
   "exception": null,
   "input_path": "__notebook__.ipynb",
   "output_path": "__notebook__.ipynb",
   "parameters": {},
   "start_time": "2023-02-15T14:07:38.459735",
   "version": "2.3.4"
  }
 },
 "nbformat": 4,
 "nbformat_minor": 5
}
